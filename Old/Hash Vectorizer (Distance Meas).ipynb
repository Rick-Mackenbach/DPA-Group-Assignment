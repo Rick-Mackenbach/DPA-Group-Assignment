{
 "cells": [
  {
   "cell_type": "code",
   "execution_count": 1,
   "metadata": {},
   "outputs": [],
   "source": [
    "import numpy\n",
    "import scipy\n",
    "import scipy.sparse\n",
    "import sklearn\n",
    "import sklearn.metrics.pairwise\n",
    "from sklearn import datasets\n",
    "from sklearn.metrics.pairwise import pairwise_distances\n",
    "from sklearn.feature_extraction.text import HashingVectorizer\n"
   ]
  },
  {
   "cell_type": "code",
   "execution_count": 2,
   "metadata": {},
   "outputs": [],
   "source": [
    "dataSet = numpy.load(\"descriptions_cleaned_array.npy\")\n",
    "#dataSet = dataSet[0:3]\n",
    "#print(dataSet)"
   ]
  },
  {
   "cell_type": "markdown",
   "metadata": {},
   "source": [
    "# Hash Vectorizer"
   ]
  },
  {
   "cell_type": "markdown",
   "metadata": {},
   "source": [
    "## Default number of features\n",
    "Using the Hash vectorizer function which only looks at word counts\n",
    "Can limit the number of features - will go back to that but start with default"
   ]
  },
  {
   "cell_type": "code",
   "execution_count": 3,
   "metadata": {},
   "outputs": [
    {
     "name": "stdout",
     "output_type": "stream",
     "text": [
      "(1480, 1048576) 46996 \n",
      "\n"
     ]
    }
   ],
   "source": [
    "hashVector = HashingVectorizer()\n",
    "Hash_dataSet = hashVector.transform(dataSet)\n",
    "print(Hash_dataSet.shape, Hash_dataSet.size,\"\\n\")\n",
    "#print(Hash_dataSet,\"\\n\")"
   ]
  },
  {
   "cell_type": "markdown",
   "metadata": {},
   "source": [
    "### Cosine Similarity"
   ]
  },
  {
   "cell_type": "code",
   "execution_count": 4,
   "metadata": {},
   "outputs": [
    {
     "name": "stdout",
     "output_type": "stream",
     "text": [
      "[[1.         0.19720266 0.08175191 ... 0.23314715 0.12942072 0.31934404]\n",
      " [0.19720266 1.         0.16927779 ... 0.27586342 0.11136921 0.22327675]\n",
      " [0.08175191 0.16927779 1.         ... 0.29110162 0.11109411 0.12460152]\n",
      " ...\n",
      " [0.23314715 0.27586342 0.29110162 ... 1.         0.25136748 0.29720128]\n",
      " [0.12942072 0.11136921 0.11109411 ... 0.25136748 1.         0.39451112]\n",
      " [0.31934404 0.22327675 0.12460152 ... 0.29720128 0.39451112 1.        ]] \n",
      "\n",
      "[[1160  327  317 ... 1192  495    0]\n",
      " [1285  228   88 ...  268  933    1]\n",
      " [ 641  496  334 ...  208 1133    2]\n",
      " ...\n",
      " [1252   88   91 ...  796 1171 1477]\n",
      " [ 496 1011  641 ... 1064  895 1478]\n",
      " [ 496  208  915 ...  547  279 1479]] \n",
      "\n",
      "[[ 607 1316 1121 1192  495]\n",
      " [1242  401  556  268  933]\n",
      " [ 181 1174 1051  208 1133]\n",
      " ...\n",
      " [ 819 1436 1372  796 1171]\n",
      " [ 178 1095  967 1064  895]\n",
      " [ 163  603  500  547  279]]\n"
     ]
    }
   ],
   "source": [
    "cossim = sklearn.metrics.pairwise.cosine_similarity(Hash_dataSet)\n",
    "print(cossim,\"\\n\")\n",
    "cosineSimilaritySorted = numpy.argsort(cossim, axis=1)\n",
    "print(cosineSimilaritySorted,\"\\n\")\n",
    "top5Similar = cosineSimilaritySorted[:,-6:-1]\n",
    "print(top5Similar)\n",
    "\n"
   ]
  },
  {
   "cell_type": "markdown",
   "metadata": {},
   "source": [
    "This provides the same output as the Count Vectorizer cosine similarity, so may have to change the feature number to see if that does anything."
   ]
  },
  {
   "cell_type": "code",
   "execution_count": 5,
   "metadata": {},
   "outputs": [
    {
     "name": "stdout",
     "output_type": "stream",
     "text": [
      "this person seems to tall about 6 feet 3 inch height with thin body build up this person seems to be from lower middle class family and he seems to be slight manipulative or little dishonest\n",
      "caucasian male with blonde hair and blue eyes has a beard and a mustache he looks geeky kind of grumpy and maybe into technology\n"
     ]
    }
   ],
   "source": [
    "print(dataSet[932])\n",
    "print(dataSet[268])"
   ]
  },
  {
   "cell_type": "markdown",
   "metadata": {},
   "source": [
    "### Euclidean Distance"
   ]
  },
  {
   "cell_type": "code",
   "execution_count": 6,
   "metadata": {},
   "outputs": [
    {
     "name": "stdout",
     "output_type": "stream",
     "text": [
      "[[   0  495 1192 1121 1316  607]\n",
      " [   1  933  268  556  401 1242]\n",
      " [   2 1133  208 1051 1174  181]\n",
      " ...\n",
      " [1477 1171  796 1372 1436  819]\n",
      " [1478  895 1064  967 1095  178]\n",
      " [1479  279  547  500  603  163]]\n"
     ]
    }
   ],
   "source": [
    "euclid = pairwise_distances(Hash_dataSet, metric='euclidean')\n",
    "euclidSorted = numpy.argsort(euclid, axis=1)\n",
    "top5Similar = euclidSorted[:,0:6]\n",
    "print(top5Similar)"
   ]
  },
  {
   "cell_type": "code",
   "execution_count": 7,
   "metadata": {},
   "outputs": [
    {
     "name": "stdout",
     "output_type": "stream",
     "text": [
      "round face short and overweight likes to wear jeans and sweaters drinks wine at dinner short liberal overweight short hair eats at whole foods does not work our very much\n",
      "a little chubby and short about 5 4 likes to show off her body so she wears tight lower jeans and crop tops very friendly and humorous outgoing and likes to party alot very responsible when it comes to her job and responsibilities\n"
     ]
    }
   ],
   "source": [
    "print(dataSet[0])\n",
    "print(dataSet[495])"
   ]
  },
  {
   "cell_type": "markdown",
   "metadata": {},
   "source": [
    "### Manhattan distance\n",
    "\n",
    "This took too long to run and unlikely to produce better results"
   ]
  },
  {
   "cell_type": "code",
   "execution_count": null,
   "metadata": {},
   "outputs": [],
   "source": [
    "manhat = pairwise_distances(Hash_dataSet, metric='manhattan')\n",
    "\n",
    "manhatSorted = numpy.argsort(manhat, axis=1)\n",
    "top5Similar = manhatSorted[:,0:6]\n",
    "print(top5Similar)\n"
   ]
  },
  {
   "cell_type": "code",
   "execution_count": null,
   "metadata": {
    "scrolled": false
   },
   "outputs": [],
   "source": [
    "print(dataSet[894])\n",
    "print(dataSet[1094])"
   ]
  },
  {
   "cell_type": "markdown",
   "metadata": {},
   "source": [
    "## Hash Vectorizer - Limit to 1000 features"
   ]
  },
  {
   "cell_type": "code",
   "execution_count": null,
   "metadata": {},
   "outputs": [],
   "source": [
    "hashVector = HashingVectorizer(n_features=1000)\n",
    "Hash_dataSet = hashVector.transform(dataSet)\n",
    "print(Hash_dataSet.shape, Hash_dataSet.size,\"\\n\")\n",
    "#print(Hash_dataSet,\"\\n\")"
   ]
  },
  {
   "cell_type": "markdown",
   "metadata": {},
   "source": [
    "### Cosine Similarity"
   ]
  },
  {
   "cell_type": "code",
   "execution_count": null,
   "metadata": {},
   "outputs": [],
   "source": [
    "cossim = sklearn.metrics.pairwise.cosine_similarity(Hash_dataSet)\n",
    "print(cossim,\"\\n\")\n",
    "cosineSimilaritySorted = numpy.argsort(cossim, axis=1)\n",
    "print(cosineSimilaritySorted,\"\\n\")\n",
    "top5Similar = cosineSimilaritySorted[:,-6:-1]\n",
    "print(top5Similar)\n",
    "\n"
   ]
  },
  {
   "cell_type": "markdown",
   "metadata": {},
   "source": [
    "Now somewhat different values than the Count vectorizer but some still the same"
   ]
  },
  {
   "cell_type": "code",
   "execution_count": null,
   "metadata": {},
   "outputs": [],
   "source": [
    "#print(dataSet[163])\n",
    "#print(dataSet[602])\n",
    "#print(dataSet[499])\n",
    "#print(dataSet[279])\n",
    "#print(dataSet[546])\n",
    "##good set except for 499\n",
    "\n",
    "print(dataSet[815])\n",
    "print(dataSet[1170])"
   ]
  },
  {
   "cell_type": "markdown",
   "metadata": {},
   "source": [
    "### Euclidean Distance"
   ]
  },
  {
   "cell_type": "code",
   "execution_count": null,
   "metadata": {},
   "outputs": [],
   "source": [
    "euclid = pairwise_distances(Hash_dataSet, metric='euclidean')\n",
    "euclidSorted = numpy.argsort(euclid, axis=1)\n",
    "top5Similar = euclidSorted[:,1:6]\n",
    "print(top5Similar)\n"
   ]
  },
  {
   "cell_type": "code",
   "execution_count": null,
   "metadata": {},
   "outputs": [],
   "source": [
    "print(dataSet[401])\n",
    "print(dataSet[268])"
   ]
  },
  {
   "cell_type": "markdown",
   "metadata": {},
   "source": [
    "Gives a similar output to the cosine similairty output"
   ]
  },
  {
   "cell_type": "markdown",
   "metadata": {},
   "source": [
    "### Manhattan distance\n",
    "\n",
    "Runs faster with less features"
   ]
  },
  {
   "cell_type": "code",
   "execution_count": null,
   "metadata": {},
   "outputs": [],
   "source": [
    "manhat = pairwise_distances(Hash_dataSet, metric='manhattan')\n",
    "\n",
    "manhatSorted = numpy.argsort(manhat, axis=1)\n",
    "top5Similar = manhatSorted[:,1:6]\n",
    "print(top5Similar)\n"
   ]
  },
  {
   "cell_type": "code",
   "execution_count": null,
   "metadata": {
    "scrolled": false
   },
   "outputs": [],
   "source": [
    "print(dataSet[894])\n",
    "print(dataSet[1094])"
   ]
  },
  {
   "cell_type": "code",
   "execution_count": null,
   "metadata": {},
   "outputs": [],
   "source": []
  }
 ],
 "metadata": {
  "kernelspec": {
   "display_name": "Python 3",
   "language": "python",
   "name": "python3"
  },
  "language_info": {
   "codemirror_mode": {
    "name": "ipython",
    "version": 3
   },
   "file_extension": ".py",
   "mimetype": "text/x-python",
   "name": "python",
   "nbconvert_exporter": "python",
   "pygments_lexer": "ipython3",
   "version": "3.6.5"
  }
 },
 "nbformat": 4,
 "nbformat_minor": 2
}
