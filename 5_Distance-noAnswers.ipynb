{
 "cells": [
  {
   "cell_type": "code",
   "execution_count": 1,
   "metadata": {},
   "outputs": [],
   "source": [
    "import numpy\n",
    "import scipy\n",
    "import scipy.sparse\n",
    "import sklearn.metrics.pairwise"
   ]
  },
  {
   "cell_type": "markdown",
   "metadata": {},
   "source": [
    "# 5 Distance and Similarity\n",
    "\n",
    "# 5.1 Distance\n",
    "\n"
   ]
  },
  {
   "cell_type": "markdown",
   "metadata": {},
   "source": [
    "\n",
    "The distance metric qantifies the distance between two points $x$ and $y$. \n",
    "\n",
    "Some frequently used distance metrics include:\n",
    "- Euclidean distance: $$D_{euc}(x, y) = \\left(\\sum_{i=1}^{n}(x_{i}-y_{i})^2\\right)^{0.5}$$\n",
    "- Manhattan distance: $$D_{manh}(x, y) = \\sum_{i=1}^{n} abs(x_{i}-y_{i})$$\n",
    "\n",
    "Fun note: If you have run into the concepts elsewhere, Euclidian distance of a vector with itself is equivalent to the L2 norm of the vector, and the Manhattan distance corresponds to the L1 norm.\n",
    "\n",
    "In general, distance metrics satisfy some properties such as:\n",
    "- The distance between two points is non-negative. \n",
    "- The distance from a point to the point itself is equal to 0. \n",
    "- The distance from point $i$ to point $j$ is exactly equal to the distance from point $j$ to point $i$ (symmetry). \n",
    "- The distance from point $i$ to point $j$ via point $k$ is always longer than the direct distance from $i$ to $j$ (triangle inequality). "
   ]
  },
  {
   "cell_type": "code",
   "execution_count": 2,
   "metadata": {},
   "outputs": [
    {
     "name": "stdout",
     "output_type": "stream",
     "text": [
      "Manhattan distance:  2\n"
     ]
    }
   ],
   "source": [
    "# function to calculate manhattan distance between two points x and y\n",
    "def manhattan_distance(x, y):\n",
    "    diff = x - y\n",
    "    absolute_diff = numpy.absolute(diff)\n",
    "    dist = numpy.sum(absolute_diff)\n",
    "    return dist\n",
    "        \n",
    "x = numpy.array([1,3])\n",
    "y = numpy.array([2,4])\n",
    "print(\"Manhattan distance: \", manhattan_distance(x, y))"
   ]
  },
  {
   "cell_type": "markdown",
   "metadata": {},
   "source": [
    "## Exercise 5.1.1\n",
    "\n",
    "Create a function to calculate the Euclidean distance between two points x and y. \n",
    "Make sure that you do not use loops!\n",
    "\n",
    "For example:\n",
    "```python\n",
    "a = numpy.array([0.0, 0.0])\n",
    "b = numpy.array([1.0, 1.0])\n",
    "print(euclidean(a, b))\n",
    "```\n",
    "Output:\n",
    "```\n",
    "1.41421356237\n",
    "```"
   ]
  },
  {
   "cell_type": "code",
   "execution_count": 19,
   "metadata": {},
   "outputs": [
    {
     "data": {
      "text/plain": [
       "1.4142135623730951"
      ]
     },
     "execution_count": 19,
     "metadata": {},
     "output_type": "execute_result"
    }
   ],
   "source": [
    "def euclidean_distance(x,y):\n",
    "    diff = (x-y)\n",
    "    diff_squared = diff * diff\n",
    "    sum_squared = numpy.sum(diff_squared)\n",
    "    return numpy.sqrt(sum_squared)\n",
    "\n",
    "euclidean_distance(a,b)"
   ]
  },
  {
   "cell_type": "markdown",
   "metadata": {},
   "source": [
    "## Exercise 5.1.2\n",
    "\n",
    "Load the iris data into a 150x4 numpy array. Compute the Euclidean distance between the first row and each other row."
   ]
  },
  {
   "cell_type": "code",
   "execution_count": 78,
   "metadata": {},
   "outputs": [
    {
     "name": "stdout",
     "output_type": "stream",
     "text": [
      "[[ 4.9  3.   1.4  0.2]\n",
      " [ 4.7  3.2  1.3  0.2]\n",
      " [ 4.6  3.1  1.5  0.2]\n",
      " [ 5.   3.6  1.4  0.2]\n",
      " [ 5.4  3.9  1.7  0.4]\n",
      " [ 4.6  3.4  1.4  0.3]\n",
      " [ 5.   3.4  1.5  0.2]\n",
      " [ 4.4  2.9  1.4  0.2]\n",
      " [ 4.9  3.1  1.5  0.1]\n",
      " [ 5.4  3.7  1.5  0.2]\n",
      " [ 4.8  3.4  1.6  0.2]\n",
      " [ 4.8  3.   1.4  0.1]\n",
      " [ 4.3  3.   1.1  0.1]\n",
      " [ 5.8  4.   1.2  0.2]\n",
      " [ 5.7  4.4  1.5  0.4]\n",
      " [ 5.4  3.9  1.3  0.4]\n",
      " [ 5.1  3.5  1.4  0.3]\n",
      " [ 5.7  3.8  1.7  0.3]\n",
      " [ 5.1  3.8  1.5  0.3]\n",
      " [ 5.4  3.4  1.7  0.2]\n",
      " [ 5.1  3.7  1.5  0.4]\n",
      " [ 4.6  3.6  1.   0.2]\n",
      " [ 5.1  3.3  1.7  0.5]\n",
      " [ 4.8  3.4  1.9  0.2]\n",
      " [ 5.   3.   1.6  0.2]\n",
      " [ 5.   3.4  1.6  0.4]\n",
      " [ 5.2  3.5  1.5  0.2]\n",
      " [ 5.2  3.4  1.4  0.2]\n",
      " [ 4.7  3.2  1.6  0.2]\n",
      " [ 4.8  3.1  1.6  0.2]\n",
      " [ 5.4  3.4  1.5  0.4]\n",
      " [ 5.2  4.1  1.5  0.1]\n",
      " [ 5.5  4.2  1.4  0.2]\n",
      " [ 4.9  3.1  1.5  0.2]\n",
      " [ 5.   3.2  1.2  0.2]\n",
      " [ 5.5  3.5  1.3  0.2]\n",
      " [ 4.9  3.6  1.4  0.1]\n",
      " [ 4.4  3.   1.3  0.2]\n",
      " [ 5.1  3.4  1.5  0.2]\n",
      " [ 5.   3.5  1.3  0.3]\n",
      " [ 4.5  2.3  1.3  0.3]\n",
      " [ 4.4  3.2  1.3  0.2]\n",
      " [ 5.   3.5  1.6  0.6]\n",
      " [ 5.1  3.8  1.9  0.4]\n",
      " [ 4.8  3.   1.4  0.3]\n",
      " [ 5.1  3.8  1.6  0.2]\n",
      " [ 4.6  3.2  1.4  0.2]\n",
      " [ 5.3  3.7  1.5  0.2]\n",
      " [ 5.   3.3  1.4  0.2]\n",
      " [ 7.   3.2  4.7  1.4]\n",
      " [ 6.4  3.2  4.5  1.5]\n",
      " [ 6.9  3.1  4.9  1.5]\n",
      " [ 5.5  2.3  4.   1.3]\n",
      " [ 6.5  2.8  4.6  1.5]\n",
      " [ 5.7  2.8  4.5  1.3]\n",
      " [ 6.3  3.3  4.7  1.6]\n",
      " [ 4.9  2.4  3.3  1. ]\n",
      " [ 6.6  2.9  4.6  1.3]\n",
      " [ 5.2  2.7  3.9  1.4]\n",
      " [ 5.   2.   3.5  1. ]\n",
      " [ 5.9  3.   4.2  1.5]\n",
      " [ 6.   2.2  4.   1. ]\n",
      " [ 6.1  2.9  4.7  1.4]\n",
      " [ 5.6  2.9  3.6  1.3]\n",
      " [ 6.7  3.1  4.4  1.4]\n",
      " [ 5.6  3.   4.5  1.5]\n",
      " [ 5.8  2.7  4.1  1. ]\n",
      " [ 6.2  2.2  4.5  1.5]\n",
      " [ 5.6  2.5  3.9  1.1]\n",
      " [ 5.9  3.2  4.8  1.8]\n",
      " [ 6.1  2.8  4.   1.3]\n",
      " [ 6.3  2.5  4.9  1.5]\n",
      " [ 6.1  2.8  4.7  1.2]\n",
      " [ 6.4  2.9  4.3  1.3]\n",
      " [ 6.6  3.   4.4  1.4]\n",
      " [ 6.8  2.8  4.8  1.4]\n",
      " [ 6.7  3.   5.   1.7]\n",
      " [ 6.   2.9  4.5  1.5]\n",
      " [ 5.7  2.6  3.5  1. ]\n",
      " [ 5.5  2.4  3.8  1.1]\n",
      " [ 5.5  2.4  3.7  1. ]\n",
      " [ 5.8  2.7  3.9  1.2]\n",
      " [ 6.   2.7  5.1  1.6]\n",
      " [ 5.4  3.   4.5  1.5]\n",
      " [ 6.   3.4  4.5  1.6]\n",
      " [ 6.7  3.1  4.7  1.5]\n",
      " [ 6.3  2.3  4.4  1.3]\n",
      " [ 5.6  3.   4.1  1.3]\n",
      " [ 5.5  2.5  4.   1.3]\n",
      " [ 5.5  2.6  4.4  1.2]\n",
      " [ 6.1  3.   4.6  1.4]\n",
      " [ 5.8  2.6  4.   1.2]\n",
      " [ 5.   2.3  3.3  1. ]\n",
      " [ 5.6  2.7  4.2  1.3]\n",
      " [ 5.7  3.   4.2  1.2]\n",
      " [ 5.7  2.9  4.2  1.3]\n",
      " [ 6.2  2.9  4.3  1.3]\n",
      " [ 5.1  2.5  3.   1.1]\n",
      " [ 5.7  2.8  4.1  1.3]\n",
      " [ 6.3  3.3  6.   2.5]\n",
      " [ 5.8  2.7  5.1  1.9]\n",
      " [ 7.1  3.   5.9  2.1]\n",
      " [ 6.3  2.9  5.6  1.8]\n",
      " [ 6.5  3.   5.8  2.2]\n",
      " [ 7.6  3.   6.6  2.1]\n",
      " [ 4.9  2.5  4.5  1.7]\n",
      " [ 7.3  2.9  6.3  1.8]\n",
      " [ 6.7  2.5  5.8  1.8]\n",
      " [ 7.2  3.6  6.1  2.5]\n",
      " [ 6.5  3.2  5.1  2. ]\n",
      " [ 6.4  2.7  5.3  1.9]\n",
      " [ 6.8  3.   5.5  2.1]\n",
      " [ 5.7  2.5  5.   2. ]\n",
      " [ 5.8  2.8  5.1  2.4]\n",
      " [ 6.4  3.2  5.3  2.3]\n",
      " [ 6.5  3.   5.5  1.8]\n",
      " [ 7.7  3.8  6.7  2.2]\n",
      " [ 7.7  2.6  6.9  2.3]\n",
      " [ 6.   2.2  5.   1.5]\n",
      " [ 6.9  3.2  5.7  2.3]\n",
      " [ 5.6  2.8  4.9  2. ]\n",
      " [ 7.7  2.8  6.7  2. ]\n",
      " [ 6.3  2.7  4.9  1.8]\n",
      " [ 6.7  3.3  5.7  2.1]\n",
      " [ 7.2  3.2  6.   1.8]\n",
      " [ 6.2  2.8  4.8  1.8]\n",
      " [ 6.1  3.   4.9  1.8]\n",
      " [ 6.4  2.8  5.6  2.1]\n",
      " [ 7.2  3.   5.8  1.6]\n",
      " [ 7.4  2.8  6.1  1.9]\n",
      " [ 7.9  3.8  6.4  2. ]\n",
      " [ 6.4  2.8  5.6  2.2]\n",
      " [ 6.3  2.8  5.1  1.5]\n",
      " [ 6.1  2.6  5.6  1.4]\n",
      " [ 7.7  3.   6.1  2.3]\n",
      " [ 6.3  3.4  5.6  2.4]\n",
      " [ 6.4  3.1  5.5  1.8]\n",
      " [ 6.   3.   4.8  1.8]\n",
      " [ 6.9  3.1  5.4  2.1]\n",
      " [ 6.7  3.1  5.6  2.4]\n",
      " [ 6.9  3.1  5.1  2.3]\n",
      " [ 5.8  2.7  5.1  1.9]\n",
      " [ 6.8  3.2  5.9  2.3]\n",
      " [ 6.7  3.3  5.7  2.5]\n",
      " [ 6.7  3.   5.2  2.3]\n",
      " [ 6.3  2.5  5.   1.9]\n",
      " [ 6.5  3.   5.2  2. ]\n",
      " [ 6.2  3.4  5.4  2.3]\n",
      " [ 5.9  3.   5.1  1.8]]\n"
     ]
    }
   ],
   "source": [
    "irisData = numpy.genfromtxt('iris.txt', names=True, delimiter='')\n",
    "\n",
    "irisDataMatrix[0]\n",
    "irisDataMatrixClean = irisDataMatrix[:, :4]\n",
    "print(irisDataMatrixClean)"
   ]
  },
  {
   "cell_type": "code",
   "execution_count": 73,
   "metadata": {},
   "outputs": [
    {
     "name": "stdout",
     "output_type": "stream",
     "text": [
      "36.1224307045\n",
      "28.7289053046\n",
      "56.9727127667\n"
     ]
    }
   ],
   "source": [
    "print(euclidean_distance(a, b))\n",
    "print(euclidean_distance(a, c))\n",
    "print(euclidean_distance(a, d))"
   ]
  },
  {
   "cell_type": "markdown",
   "metadata": {},
   "source": [
    "### 5.1.1 Distance for categorical data\n",
    "\n",
    "The most common method of computing the the distance across categorical dimensions is Jaccard's coefficient. This measures the ratio between the number of shared features between two objects (the intersection) and the toal number of features across the two objects (the union). Thus objects that share more features are more similar. "
   ]
  },
  {
   "cell_type": "markdown",
   "metadata": {},
   "source": [
    "### 5.1.2 Distance for String data\n",
    "\n",
    "Distance measures for comparing strings with each other:\n",
    "- Hamming distance: number of positions at which two strings of the same length differ.\n",
    "    $$D_{hamming}(x, y) =  \\sum_{i=1}^{n} x_{i} \\neq y_{i} $$\n",
    "- Levenshtein distance: the minimum number of operations required to transform one string into another string. The operations are insertion, deletion and substitutions and each operations has a cost (often unit costs are used). The Levenshtein distance can be used in a lot of text mining techniques where the similarity between two words needs to be measured. "
   ]
  },
  {
   "cell_type": "markdown",
   "metadata": {},
   "source": [
    "## Exercise 5.1.3\n",
    "Create your own function to calculate the Hamming distance between two strings. The strings need to have the same length.\n",
    "\n",
    "For example:\n",
    "\n",
    "```python\n",
    "a = 'Panama'\n",
    "b = 'Pamela'\n",
    "hamming(a, b)\n",
    "```\n",
    "Output:\n",
    "```\n",
    "3\n",
    "```"
   ]
  },
  {
   "cell_type": "code",
   "execution_count": 82,
   "metadata": {},
   "outputs": [
    {
     "data": {
      "text/plain": [
       "3"
      ]
     },
     "execution_count": 82,
     "metadata": {},
     "output_type": "execute_result"
    }
   ],
   "source": [
    "def hamming_distance(x,y):\n",
    "    distance = 0\n",
    "    for index in range(len(x)):\n",
    "        if x[index] != y[index]:\n",
    "            distance += 1\n",
    "    return distance\n",
    "\n",
    "a = 'Panama'\n",
    "b = 'Pamela'\n",
    "\n",
    "hamming_distance(a,b)"
   ]
  },
  {
   "cell_type": "markdown",
   "metadata": {},
   "source": [
    "## 5.2 Similarity\n",
    "\n",
    "A similarity metric quantifies how similar two objects are. Often, similarity is coded as a non-linear transformation of the inverse of the distance between two objects. This is intiutive from the definitions of the concepts: as the distance between two objects increases (all other things being equal) then the similarity should decrease, and vice versa.\n",
    "\n",
    "A very common similarity metric in data science is the cosine similarity. This measure treats $x$ (a point in a $n$-dimensional space) as a vector of length $n$. The cosine similarity between $x$ and $y$ is the dot product between $x$ and $y$ divided by the product of the L2-norms of $x$ and $y$. By normalizing by the lenth of the vectors (dividing by the L2-norms), the cosine similarity reflects the angle between the two vectors in high dimensional space. When the cosine similarity metric is equal to 1 the vectors point in exactly the same direction, when the similarity metric is equal to -1 then the vectors are the opposite of each other, and perpendicular vectors have a cosine similarity of 0.\n",
    "\n",
    "The formal definition of cosine similarity is: $$cosine(x, y) = \\frac{x^Ty}{||x||\\cdot ||y||} = \\frac{\\sum_{i=1}^n x_i y_i}{\\left(\\sum_{i=1}^n x_{i}^2\\right)^{0.5} \\left(\\sum_{i=1}^n y_{i}^2\\right)^{0.5}}$$\n",
    "\n",
    "In text-mining the cosine similarity can be used to represent the similarity between two documents.\n",
    "Each document is represented by a vector that has a dimension for each word in the corpus. The value on each vector is equal to the word frequency.\n",
    "\n",
    "The cosine similarity between two documents thus represents how similar they are in the set of words they contain. Documents that contain a lot of the same words the documents are said to be more similar than documents with hardly any overlapping words.\n",
    "\n"
   ]
  },
  {
   "cell_type": "markdown",
   "metadata": {},
   "source": [
    "### Exercise 5.2.1\n",
    "\n",
    "Create a function `cosine_similarity` that calculates the cosine similarity between two vectors. Do not use for-loops, Scipy, or Scikit-learn.\n",
    "\n",
    "For example:\n",
    "```python\n",
    "a = numpy.array([0.0, 1.0])\n",
    "b = numpy.array([1.0, 0.0])\n",
    "c = numpy.array([0.0, -1.0])\n",
    "print(cosine_similarity(a, b))\n",
    "print(cosine_similarity(a, a))\n",
    "print(cosine_similarity(a, c))\n",
    "```\n",
    "Output:\n",
    "```\n",
    "0.0\n",
    "1.0\n",
    "-1.0\n",
    "```\n"
   ]
  },
  {
   "cell_type": "code",
   "execution_count": 92,
   "metadata": {},
   "outputs": [
    {
     "data": {
      "text/plain": [
       "-1.0"
      ]
     },
     "execution_count": 92,
     "metadata": {},
     "output_type": "execute_result"
    }
   ],
   "source": [
    "def cosine_similarity(x,y):\n",
    "    numerator = x.dot(y)\n",
    "    denom1 = euclidean_distance(x, numpy.zeros(x.size))\n",
    "    denom2 = euclidean_distance(y, numpy.zeros(y.size))\n",
    "    return numerator / (denom1 * denom2)\n",
    "\n",
    "cosine_similarity(c,a)\n",
    "\n"
   ]
  },
  {
   "cell_type": "markdown",
   "metadata": {},
   "source": [
    "## 5.3 Using scikit-learn to compute distances and similarity\n",
    "\n",
    "In most cases, there is no need to create your own code/function to calculate the distances.\n",
    "In the library `scikit-learn` the class `DistanceMetric` will calculate most distances for you.\n",
    "\n",
    "Scikit-learn is a library for machine learning algorithms in Python. Scikit-learn includes functions for classification, regression, clustering, dimensionality reduction, model selection and preprocessing. \n",
    "For more information:  http://scikit-learn.org/stable/"
   ]
  },
  {
   "cell_type": "markdown",
   "metadata": {},
   "source": [
    "### 5.3.1 Distance measures in in scipy and scikit-learn\n",
    "\n",
    "The class to calculate distances is in the module \"neighbors\" of the scikit-learn library.\n",
    "One can access the class via: `sklearn.neighbors.DistanceMetric`\n",
    "Note that you first have to import the library `sklearn` and more specifically you have to import `sklearn.neighbors`.\n",
    "\n",
    "The `DistanceMetric` class includes different distance metrics, such as Euclidean and Manhattan. Also other distance metrics are present, such as chebyshev, minkowski, mahalanobis, haversine, hamming, canberra, braycurtis and many more. \n",
    "\n",
    "For more information about the distance metrics that are included in the `DistanceMetric` class:  http://scikit-learn.org/stable/modules/generated/sklearn.neighbors.DistanceMetric.html\n",
    "\n",
    "The most important methods of the `DistanceMetric` class are the `get_metric()` and the `pairwise()` functions. \n",
    "The `get_metric` function is used to specify which metric is used, for example 'euclidean' or 'manhattan'. \n",
    "The `pairwise` function is used to calculate the pairwise distances between points in an array x. \n",
    "See the examples below.\n",
    "\n",
    "There is also a simple function to calculate pairwise distances according to a number of metrics:\n",
    "```python\n",
    "from sklearn.metrics.pairwise import pairwise_distances```"
   ]
  },
  {
   "cell_type": "code",
   "execution_count": 93,
   "metadata": {},
   "outputs": [
    {
     "name": "stdout",
     "output_type": "stream",
     "text": [
      "Euclidean distance:\n",
      "[[ 0.          1.41421356  3.        ]\n",
      " [ 1.41421356  0.          2.23606798]\n",
      " [ 3.          2.23606798  0.        ]]\n",
      "\n",
      "[[ 0.          1.41421356  3.        ]\n",
      " [ 1.41421356  0.          2.23606798]\n",
      " [ 3.          2.23606798  0.        ]]\n",
      "\n",
      "Manhattan distance:\n",
      "[[ 0.  2.  3.]\n",
      " [ 2.  0.  3.]\n",
      " [ 3.  3.  0.]]\n",
      "\n",
      "[[ 0.  2.  3.]\n",
      " [ 2.  0.  3.]\n",
      " [ 3.  3.  0.]]\n"
     ]
    }
   ],
   "source": [
    "import sklearn.neighbors\n",
    "from sklearn.metrics.pairwise import pairwise_distances\n",
    "\n",
    "# we want to calculate the pairwise distance between three points in a 2D space\n",
    "x = numpy.array([[1,3], [2, 4], [1, 6]])\n",
    "\n",
    "# Euclidean distance\n",
    "d1 = sklearn.neighbors.DistanceMetric.get_metric('euclidean')\n",
    "print(\"Euclidean distance:\")\n",
    "print(d1.pairwise(x))\n",
    "print()\n",
    "print(pairwise_distances(x, metric='euclidean'))\n",
    "print()\n",
    "\n",
    "# Manhattan distance\n",
    "d2 = sklearn.neighbors.DistanceMetric.get_metric('manhattan')\n",
    "print(\"Manhattan distance:\")\n",
    "print(d2.pairwise(x))\n",
    "print()\n",
    "print(pairwise_distances(x, metric='manhattan'))"
   ]
  },
  {
   "cell_type": "markdown",
   "metadata": {},
   "source": [
    "### 5.3.2 Cosine similarity in scipy and scikit-learn\n",
    "\n",
    "The cosine similarity is implemented in the scipy library and in scikit-learn library.\n",
    "\n",
    "In scipy:\n",
    "`scipy.spatial.distance.cosine(x,y)` calculates the cosine distance between two points `x` and `y` where `x` and `y` are both represented by a 1-dimensional vector.\n",
    "Note that in order to convert the distance to similarity, you should subtract distance from 1.\n",
    "\n",
    "In scikit-learn:\n",
    "`sklearn.metrics.pairwise.cosine_similarity(x)` calculates the pairwise cosine similarities between all points in array `x`.\n",
    "\n",
    "\n",
    "**IMPORTANT** Verify, and remember, which of these implementations work with sparse matrices. "
   ]
  },
  {
   "cell_type": "code",
   "execution_count": 111,
   "metadata": {},
   "outputs": [
    {
     "ename": "ValueError",
     "evalue": "setting an array element with a sequence.",
     "output_type": "error",
     "traceback": [
      "\u001b[0;31m---------------------------------------------------------------------------\u001b[0m",
      "\u001b[0;31mValueError\u001b[0m                                Traceback (most recent call last)",
      "\u001b[0;32m<ipython-input-111-4946e6a29f07>\u001b[0m in \u001b[0;36m<module>\u001b[0;34m()\u001b[0m\n\u001b[1;32m      7\u001b[0m \u001b[0my\u001b[0m \u001b[0;34m=\u001b[0m \u001b[0mscipy\u001b[0m\u001b[0;34m.\u001b[0m\u001b[0msparse\u001b[0m\u001b[0;34m.\u001b[0m\u001b[0mrand\u001b[0m\u001b[0;34m(\u001b[0m\u001b[0;36m100\u001b[0m\u001b[0;34m,\u001b[0m\u001b[0;36m100\u001b[0m\u001b[0;34m,\u001b[0m \u001b[0mdensity\u001b[0m\u001b[0;34m=\u001b[0m\u001b[0;36m0.2\u001b[0m\u001b[0;34m,\u001b[0m \u001b[0mformat\u001b[0m\u001b[0;34m=\u001b[0m\u001b[0;34m'coo'\u001b[0m\u001b[0;34m)\u001b[0m\u001b[0;34m\u001b[0m\u001b[0m\n\u001b[1;32m      8\u001b[0m \u001b[0;34m\u001b[0m\u001b[0m\n\u001b[0;32m----> 9\u001b[0;31m \u001b[0mprint\u001b[0m\u001b[0;34m(\u001b[0m\u001b[0;36m1\u001b[0m \u001b[0;34m-\u001b[0m \u001b[0mscipy\u001b[0m\u001b[0;34m.\u001b[0m\u001b[0mspatial\u001b[0m\u001b[0;34m.\u001b[0m\u001b[0mdistance\u001b[0m\u001b[0;34m.\u001b[0m\u001b[0mcosine\u001b[0m\u001b[0;34m(\u001b[0m\u001b[0mx\u001b[0m\u001b[0;34m,\u001b[0m \u001b[0my\u001b[0m\u001b[0;34m)\u001b[0m\u001b[0;34m)\u001b[0m\u001b[0;34m\u001b[0m\u001b[0m\n\u001b[0m",
      "\u001b[0;32m/usr/local/lib/python3.5/dist-packages/scipy/spatial/distance.py\u001b[0m in \u001b[0;36mcosine\u001b[0;34m(u, v, w)\u001b[0m\n\u001b[1;32m    676\u001b[0m     \u001b[0;31m# cosine distance is also referred to as 'uncentered correlation',\u001b[0m\u001b[0;34m\u001b[0m\u001b[0;34m\u001b[0m\u001b[0m\n\u001b[1;32m    677\u001b[0m     \u001b[0;31m#   or 'reflective correlation'\u001b[0m\u001b[0;34m\u001b[0m\u001b[0;34m\u001b[0m\u001b[0m\n\u001b[0;32m--> 678\u001b[0;31m     \u001b[0;32mreturn\u001b[0m \u001b[0mcorrelation\u001b[0m\u001b[0;34m(\u001b[0m\u001b[0mu\u001b[0m\u001b[0;34m,\u001b[0m \u001b[0mv\u001b[0m\u001b[0;34m,\u001b[0m \u001b[0mw\u001b[0m\u001b[0;34m=\u001b[0m\u001b[0mw\u001b[0m\u001b[0;34m,\u001b[0m \u001b[0mcentered\u001b[0m\u001b[0;34m=\u001b[0m\u001b[0;32mFalse\u001b[0m\u001b[0;34m)\u001b[0m\u001b[0;34m\u001b[0m\u001b[0m\n\u001b[0m\u001b[1;32m    679\u001b[0m \u001b[0;34m\u001b[0m\u001b[0m\n\u001b[1;32m    680\u001b[0m \u001b[0;34m\u001b[0m\u001b[0m\n",
      "\u001b[0;32m/usr/local/lib/python3.5/dist-packages/scipy/spatial/distance.py\u001b[0m in \u001b[0;36mcorrelation\u001b[0;34m(u, v, w, centered)\u001b[0m\n\u001b[1;32m    639\u001b[0m         \u001b[0mu\u001b[0m \u001b[0;34m=\u001b[0m \u001b[0mu\u001b[0m \u001b[0;34m-\u001b[0m \u001b[0mumu\u001b[0m\u001b[0;34m\u001b[0m\u001b[0m\n\u001b[1;32m    640\u001b[0m         \u001b[0mv\u001b[0m \u001b[0;34m=\u001b[0m \u001b[0mv\u001b[0m \u001b[0;34m-\u001b[0m \u001b[0mvmu\u001b[0m\u001b[0;34m\u001b[0m\u001b[0m\n\u001b[0;32m--> 641\u001b[0;31m     \u001b[0muv\u001b[0m \u001b[0;34m=\u001b[0m \u001b[0mnp\u001b[0m\u001b[0;34m.\u001b[0m\u001b[0maverage\u001b[0m\u001b[0;34m(\u001b[0m\u001b[0mu\u001b[0m \u001b[0;34m*\u001b[0m \u001b[0mv\u001b[0m\u001b[0;34m,\u001b[0m \u001b[0mweights\u001b[0m\u001b[0;34m=\u001b[0m\u001b[0mw\u001b[0m\u001b[0;34m)\u001b[0m\u001b[0;34m\u001b[0m\u001b[0m\n\u001b[0m\u001b[1;32m    642\u001b[0m     \u001b[0muu\u001b[0m \u001b[0;34m=\u001b[0m \u001b[0mnp\u001b[0m\u001b[0;34m.\u001b[0m\u001b[0maverage\u001b[0m\u001b[0;34m(\u001b[0m\u001b[0mnp\u001b[0m\u001b[0;34m.\u001b[0m\u001b[0msquare\u001b[0m\u001b[0;34m(\u001b[0m\u001b[0mu\u001b[0m\u001b[0;34m)\u001b[0m\u001b[0;34m,\u001b[0m \u001b[0mweights\u001b[0m\u001b[0;34m=\u001b[0m\u001b[0mw\u001b[0m\u001b[0;34m)\u001b[0m\u001b[0;34m\u001b[0m\u001b[0m\n\u001b[1;32m    643\u001b[0m     \u001b[0mvv\u001b[0m \u001b[0;34m=\u001b[0m \u001b[0mnp\u001b[0m\u001b[0;34m.\u001b[0m\u001b[0maverage\u001b[0m\u001b[0;34m(\u001b[0m\u001b[0mnp\u001b[0m\u001b[0;34m.\u001b[0m\u001b[0msquare\u001b[0m\u001b[0;34m(\u001b[0m\u001b[0mv\u001b[0m\u001b[0;34m)\u001b[0m\u001b[0;34m,\u001b[0m \u001b[0mweights\u001b[0m\u001b[0;34m=\u001b[0m\u001b[0mw\u001b[0m\u001b[0;34m)\u001b[0m\u001b[0;34m\u001b[0m\u001b[0m\n",
      "\u001b[0;32m/usr/local/lib/python3.5/dist-packages/numpy/lib/function_base.py\u001b[0m in \u001b[0;36maverage\u001b[0;34m(a, axis, weights, returned)\u001b[0m\n\u001b[1;32m   1108\u001b[0m \u001b[0;34m\u001b[0m\u001b[0m\n\u001b[1;32m   1109\u001b[0m     \u001b[0;32mif\u001b[0m \u001b[0mweights\u001b[0m \u001b[0;32mis\u001b[0m \u001b[0;32mNone\u001b[0m\u001b[0;34m:\u001b[0m\u001b[0;34m\u001b[0m\u001b[0m\n\u001b[0;32m-> 1110\u001b[0;31m         \u001b[0mavg\u001b[0m \u001b[0;34m=\u001b[0m \u001b[0ma\u001b[0m\u001b[0;34m.\u001b[0m\u001b[0mmean\u001b[0m\u001b[0;34m(\u001b[0m\u001b[0maxis\u001b[0m\u001b[0;34m)\u001b[0m\u001b[0;34m\u001b[0m\u001b[0m\n\u001b[0m\u001b[1;32m   1111\u001b[0m         \u001b[0mscl\u001b[0m \u001b[0;34m=\u001b[0m \u001b[0mavg\u001b[0m\u001b[0;34m.\u001b[0m\u001b[0mdtype\u001b[0m\u001b[0;34m.\u001b[0m\u001b[0mtype\u001b[0m\u001b[0;34m(\u001b[0m\u001b[0ma\u001b[0m\u001b[0;34m.\u001b[0m\u001b[0msize\u001b[0m\u001b[0;34m/\u001b[0m\u001b[0mavg\u001b[0m\u001b[0;34m.\u001b[0m\u001b[0msize\u001b[0m\u001b[0;34m)\u001b[0m\u001b[0;34m\u001b[0m\u001b[0m\n\u001b[1;32m   1112\u001b[0m     \u001b[0;32melse\u001b[0m\u001b[0;34m:\u001b[0m\u001b[0;34m\u001b[0m\u001b[0m\n",
      "\u001b[0;32m/usr/local/lib/python3.5/dist-packages/numpy/core/_methods.py\u001b[0m in \u001b[0;36m_mean\u001b[0;34m(a, axis, dtype, out, keepdims)\u001b[0m\n\u001b[1;32m     78\u001b[0m             \u001b[0mret\u001b[0m \u001b[0;34m=\u001b[0m \u001b[0marr\u001b[0m\u001b[0;34m.\u001b[0m\u001b[0mdtype\u001b[0m\u001b[0;34m.\u001b[0m\u001b[0mtype\u001b[0m\u001b[0;34m(\u001b[0m\u001b[0mret\u001b[0m \u001b[0;34m/\u001b[0m \u001b[0mrcount\u001b[0m\u001b[0;34m)\u001b[0m\u001b[0;34m\u001b[0m\u001b[0m\n\u001b[1;32m     79\u001b[0m         \u001b[0;32melse\u001b[0m\u001b[0;34m:\u001b[0m\u001b[0;34m\u001b[0m\u001b[0m\n\u001b[0;32m---> 80\u001b[0;31m             \u001b[0mret\u001b[0m \u001b[0;34m=\u001b[0m \u001b[0mret\u001b[0m\u001b[0;34m.\u001b[0m\u001b[0mdtype\u001b[0m\u001b[0;34m.\u001b[0m\u001b[0mtype\u001b[0m\u001b[0;34m(\u001b[0m\u001b[0mret\u001b[0m \u001b[0;34m/\u001b[0m \u001b[0mrcount\u001b[0m\u001b[0;34m)\u001b[0m\u001b[0;34m\u001b[0m\u001b[0m\n\u001b[0m\u001b[1;32m     81\u001b[0m     \u001b[0;32melse\u001b[0m\u001b[0;34m:\u001b[0m\u001b[0;34m\u001b[0m\u001b[0m\n\u001b[1;32m     82\u001b[0m         \u001b[0mret\u001b[0m \u001b[0;34m=\u001b[0m \u001b[0mret\u001b[0m \u001b[0;34m/\u001b[0m \u001b[0mrcount\u001b[0m\u001b[0;34m\u001b[0m\u001b[0m\n",
      "\u001b[0;31mValueError\u001b[0m: setting an array element with a sequence."
     ]
    }
   ],
   "source": [
    "# cosine similarity in scipy \n",
    "import scipy\n",
    "from scipy.sparse import random\n",
    "import scipy.spatial.distance\n",
    "\n",
    "x = scipy.sparse.rand(100,100, density=0.2, format='coo')\n",
    "y = scipy.sparse.rand(100,100, density=0.2, format='coo')\n",
    "\n",
    "print(1 - scipy.spatial.distance.cosine(x, y))"
   ]
  },
  {
   "cell_type": "code",
   "execution_count": 95,
   "metadata": {},
   "outputs": [
    {
     "name": "stdout",
     "output_type": "stream",
     "text": [
      "[[ 1.  -0.5]\n",
      " [-0.5  1. ]]\n"
     ]
    }
   ],
   "source": [
    "# pairwise cosine similarity in sklearn\n",
    "import sklearn.metrics.pairwise\n",
    "x = numpy.array([[1, 0, -1], [-1,-1, 0]])\n",
    "print(sklearn.metrics.pairwise.cosine_similarity(x))"
   ]
  },
  {
   "cell_type": "markdown",
   "metadata": {},
   "source": [
    "### Exercise 4.3.1\n",
    "\n",
    "Use the function `word_count` which you implemented last week to create a document-term matrix from the first 1000 rows of file [coco_val.txt](coco_val.txt). \n",
    "- Does your cosine function work on rows of the sparse document-term matrix? If not, do you know why not?\n",
    "- Compute the pairwise cosine similarity between the rows of your document-term matrix using the `sklearn` implementation. Which document is the most similar to the first row according to cosine similarity?  \n",
    "- Based on the above experiment, suggest ways of modifying the word counts to make the cosine similarity more useful as a metric of text similarity. Implement your idea and test it."
   ]
  },
  {
   "cell_type": "code",
   "execution_count": 2,
   "metadata": {},
   "outputs": [
    {
     "name": "stdout",
     "output_type": "stream",
     "text": [
      "[['a', 'child', 'holding', 'a', 'flowered', 'umbrella', 'and', 'petting', 'a', 'yak'], ['a', 'young', 'man', 'holding', 'an', 'umbrella', 'next', 'to', 'a', 'herd', 'of', 'cattle'], ['a', 'young', 'boy', 'barefoot', 'holding', 'an', 'umbrella', 'touching', 'the', 'horn', 'of', 'a', 'cow'], ['a', 'young', 'boy', 'with', 'an', 'umbrella', 'who', 'is', 'touching', 'the', 'horn', 'of', 'a', 'cow'], ['a', 'boy', 'holding', 'an', 'umbrella', 'while', 'standing', 'next', 'to', 'livestock'], ['a', 'narrow', 'kitchen', 'filled', 'with', 'appliances', 'and', 'cooking', 'utensils'], ['a', 'galley', 'kitchen', 'with', 'cabinets', 'and', 'appliances', 'on', 'both', 'sides'], ['a', 'hallway', 'leading', 'into', 'a', 'white', 'kitchen', 'with', 'appliances'], ['doorway', 'view', 'of', 'a', 'kitchen', 'with', 'a', 'sink', 'stove', 'refrigerator', 'and', 'pantry'], ['the', 'pantry', 'door', 'of', 'the', 'small', 'kitchen', 'is', 'closed'], ['a', 'little', 'girl', 'holding', 'a', 'kitten', 'next', 'to', 'a', 'blue', 'fence'], ['girl', 'in', 'a', 'tank', 'top', 'holding', 'a', 'kitten', 'in', 'her', 'back', 'yard'], ['a', 'young', 'girl', 'is', 'holding', 'a', 'small', 'cat'], ['girl', 'with', 'a', 'yellow', 'shirt', 'holding', 'a', 'small', 'cat'], ['a', 'girl', 'smiles', 'as', 'she', 'holds', 'a', 'kitty', 'cat'], ['a', 'toilet', 'sitting', 'in', 'a', 'bathroom', 'next', 'to', 'a', 'sink'], ['a', 'toilet', 'in', 'a', 'bathroom', 'with', 'green', 'faded', 'paint'], ['a', 'bathroom', 'with', 'a', 'gouged', 'wall', 'and', 'wall', 'socket', 'with', 'no', 'panel'], ['the', 'toilet', 'is', 'near', 'the', 'door', 'in', 'the', 'bathroom'], ['the', 'bathroom', 'wall', 'needs', 'to', 'be', 'resurfaced', 'and', 'painted'], ['there', 'are', 'two', 'sinks', 'next', 'to', 'two', 'mirrors'], ['two', 'very', 'metallic', 'sinks', 'are', 'shown', 'as', 'well', 'as', 'the', 'mirrors', 'above', 'them'], ['a', 'room', 'with', 'stainless', 'steel', 'equipment', 'including', 'sinks', 'and', 'mirrors'], ['two', 'stainless', 'steel', 'sinks', 'with', 'mirrors', 'and', 'a', 'fire', 'extinguisher'], ['a', 'photo', 'of', 'a', 'bathroom', 'made', 'of', 'steel'], ['a', 'woman', 'rides', 'a', 'bicycle', 'on', 'a', 'road', 'next', 'to', 'the', 'median'], ['a', 'girl', 'is', 'riding', 'her', 'bike', 'down', 'the', 'street'], ['a', 'lady', 'riding', 'her', 'bicycle', 'on', 'the', 'side', 'of', 'a', 'street'], ['a', 'person', 'on', 'a', 'bike', 'riding', 'on', 'a', 'street'], ['a', 'woman', 'riding', 'a', 'bike', 'down', 'a', 'street', 'next', 'to', 'a', 'divider'], ['a', 'bath', 'tub', 'sitting', 'next', 'to', 'a', 'sink', 'in', 'a', 'bathroom'], ['the', 'bathroom', 'is', 'clean', 'and', 'ready', 'for', 'us', 'to', 'use'], ['a', 'bath', 'tub', 'sitting', 'next', 'to', 'a', 'sink'], ['a', 'bathroom', 'that', 'has', 'a', 'shower', 'curtain', 'over', 'a', 'bathtub'], ['a', 'bathroom', 'with', 'multicolored', 'tile', 'bathtub', 'and', 'pedestal', 'sink'], ['a', 'row', 'of', 'parked', 'cars', 'sitting', 'next', 'to', 'parking', 'meters'], ['a', 'row', 'of', 'cars', 'parked', 'on', 'a', 'street', 'with', 'parking', 'meters'], ['a', 'series', 'of', 'parking', 'meters', 'and', 'cars', 'are', 'located', 'next', 'to', 'each', 'other'], ['a', 'parking', 'meter', 'on', 'a', 'street', 'by', 'a', 'car', 'with', 'traffic'], ['a', 'parking', 'meter', 'on', 'a', 'street', 'with', 'cars'], ['an', 'elegant', 'bathroom', 'features', 'a', 'tub', 'sink', 'mirror', 'and', 'decorations'], ['an', 'old', 'fashion', 'above', 'ground', 'tub', 'is', 'shown', 'with', 'gold', 'feet'], ['a', 'lovely', 'vintage', 'styled', 'bathroom', 'with', 'a', 'great', 'claw', 'footed', 'tub'], ['bathroom', 'with', 'a', 'pedestal', 'sink', 'and', 'claw', 'foot', 'bathtub'], ['a', 'claw', 'foot', 'tub', 'is', 'in', 'a', 'large', 'bathroom', 'near', 'a', 'pedestal', 'sink'], ['a', 'red', 'helmet', 'is', 'on', 'a', 'yellow', 'toilet', 'in', 'the', 'dirt'], ['a', 'yellow', 'toilet', 'with', 'a', 'red', 'helmet', 'on', 'top', 'of', 'it'], ['a', 'yellow', 'toilet', 'with', 'a', 'red', 'helmet', 'above', 'it'], ['a', 'toilet', 'sitting', 'in', 'an', 'outdoor', 'area', 'with', 'a', 'helmet', 'resting', 'on', 'top', 'of', 'it'], ['an', 'old', 'toilet', 'sits', 'in', 'dirt', 'with', 'a', 'helmet', 'on', 'top'], ['a', 'car', 'with', 'some', 'surfboards', 'in', 'a', 'field'], ['the', 'old', 'fashioned', 'car', 'is', 'carrying', 'some', 'retro', 'surfboards'], ['an', 'old', 'car', 'with', 'surfboards', 'on', 'the', 'top'], ['an', 'old', 'vehicle', 'painted', 'light', 'blue', 'and', 'dark', 'blue'], ['an', 'old', 'station', 'wagon', 'with', 'a', 'surfboard', 'on', 'top', 'of', 'it'], ['a', 'cat', 'on', 'the', 'lid', 'of', 'a', 'toilet', 'looking', 'perturbed'], ['a', 'blurry', 'picture', 'of', 'a', 'cat', 'standing', 'on', 'a', 'toilet'], ['a', 'cat', 'standing', 'on', 'the', 'toilet', 'bowl', 'seat'], ['a', 'cat', 'is', 'perched', 'on', 'the', 'top', 'of', 'a', 'toilet', 'seat', 'in', 'the', 'bathroom'], ['a', 'cat', 'standing', 'on', 'a', 'toilet', 'with', 'an', 'open', 'lid'], ['an', 'older', 'building', 'with', 'birds', 'flying', 'near', 'it'], ['a', 'church', 'with', 'a', 'high', 'spire', 'and', 'decorative', 'roof', 'tiles'], ['a', 'large', 'clock', 'tower', 'towering', 'over', 'a', 'small', 'city'], ['picture', 'of', 'a', 'church', 'and', 'its', 'tall', 'steeple'], ['birds', 'fly', 'around', 'a', 'tall', 'building', 'with', 'a', 'clock'], ['a', 'woman', 'is', 'riding', 'a', 'motorcycle', 'down', 'the', 'street'], ['a', 'woman', 'on', 'a', 'motorcycle', 'wearing', 'a', 'bag', 'and', 'passing', 'a', 'car'], ['a', 'woman', 'on', 'a', 'motor', 'cycle', 'on', 'a', 'city', 'street'], ['a', 'woman', 'on', 'a', 'motorcycle', 'in', 'the', 'middle', 'of', 'the', 'street'], ['a', 'woman', 'sits', 'on', 'her', 'motorcycle', 'in', 'the', 'street'], ['a', 'person', 'sitting', 'at', 'a', 'desk', 'with', 'a', 'keyboard', 'and', 'monitor'], ['a', 'woman', 'at', 'her', 'desk', 'sits', 'intently', 'and', 'happy'], ['a', 'woman', 'sitting', 'at', 'a', 'desk', 'in', 'her', 'work', 'station'], ['the', 'woman', 'is', 'working', 'on', 'her', 'computer', 'at', 'the', 'desk'], ['a', 'woman', 'is', 'sitting', 'in', 'front', 'of', 'a', 'desk'], ['this', 'is', 'a', 'case', 'full', 'of', 'yellow', 'bananas'], ['bananas', 'a', 'tightly', 'packed', 'and', 'boxed', 'for', 'delivery', 'to', 'the', 'market'], ['a', 'bunch', 'of', 'bananas', 'are', 'packaged', 'up', 'in', 'boxes'], ['bananas', 'packed', 'in', 'cardboard', 'box', 'covered', 'in', 'plastic'], ['an', 'unopened', 'box', 'full', 'of', 'perfectly', 'ripe', 'bananas'], ['a', 'small', 'airplane', 'taking', 'off', 'from', 'an', 'airport', 'runway'], ['a', 'curtiss', 'p', '40', 'warhawk', 'taxis', 'along', 'a', 'runway'], ['a', 'small', 'airplane', 'that', 'is', 'getting', 'ready', 'to', 'take', 'off', 'from', 'the', 'runway'], ['a', 'small', 'air', 'plane', 'getting', 'ready', 'to', 'take', 'off'], ['an', 'airplane', 'is', 'about', 'to', 'fly', 'into', 'the', 'sky'], ['an', 'airplane', 'sits', 'on', 'the', 'tarmac', 'of', 'an', 'airport', 'with', 'a', 'disconnected', 'boarding', 'gate'], ['plane', 'boarding', 'passengers', 'while', 'at', 'a', 'fancy', 'airport'], ['a', 'plane', 'sitting', 'on', 'a', 'runway', 'getting', 'ready', 'to', 'be', 'emptied'], ['this', 'is', 'a', 'airplane', 'on', 'the', 'runway', 'of', 'the', 'airport'], ['a', 'plan', 'parked', 'on', 'the', 'cement', 'near', 'a', 'terminal'], ['a', 'car', 'is', 'stopped', 'in', 'the', 'street', 'for', 'people', 'to', 'cross'], ['a', 'white', 'car', 'is', 'pulled', 'up', 'and', 'stopped', 'at', 'a', 'line'], ['a', 'car', 'at', 'an', 'intersection', 'while', 'a', 'man', 'is', 'crossing', 'the', 'street'], ['a', 'silver', 'car', 'under', 'a', 'signal', 'light', 'that', 'is', 'green', 'with', 'a', 'man', 'in', 'the', 'crosswalk'], ['a', 'car', 'that', 'is', 'sitting', 'near', 'a', 'green', 'street', 'light'], ['a', 'traffic', 'signal', 'sitting', 'next', 'to', 'a', 'street', 'at', 'night'], ['traffic', 'light', 'at', 'night', 'appearing', 'very', 'confusing'], ['the', 'electronic', 'stop', 'sign', 'glows', 'brightly', 'at', 'night', 'time'], ['a', 'variety', 'of', 'traffic', 'lights', 'and', 'road', 'signs'], ['there', 'is', 'a', 'street', 'light', 'with', 'two', 'green', 'arrows', 'in', 'different', 'directions'], ['a', 'small', 'plane', 'flying', 'through', 'a', 'cloudy', 'blue', 'sky'], ['red', 'and', 'white', 'small', 'plane', 'on', 'partially', 'cloudy', 'day'], ['a', 'red', 'and', 'white', 'biplane', 'in', 'a', 'blue', 'cloudy', 'sky'], ['a', 'plane', 'that', 'is', 'flying', 'in', 'the', 'air'], ['a', 'small', 'lightweight', 'airplane', 'flying', 'through', 'the', 'sky'], ['a', 'building', 'shines', 'in', 'the', 'clear', 'sky', 'as', 'cars', 'drive', 'underneath'], ['a', 'street', 'scene', 'at', 'an', 'intersection', 'with', 'tall', 'skyscrapers', 'in', 'the', 'background'], ['large', 'glass', 'building', 'shining', 'from', 'sunlight', 'on', 'it'], ['a', 'city', 'with', 'sky', 'scrapers', 'and', 'cars', 'on', 'it'], ['large', 'modern', 'buildings', 'on', 'a', 'busy', 'street'], ['a', 'political', 'candidate', 'advertisement', 'on', 'the', 'side', 'of', 'a', 'coach', 'bus'], ['here', 'is', 'massachusettes', 'candidate', 'scott', 'browns', 'campaign', 'trailer'], ['a', 'large', 'bus', 'with', 'a', 'political', 'ad', 'on', 'the', 'side', 'of', 'it'], ['a', 'tour', 'bus', 'with', 'advertisement', 'on', 'the', 'side', 'of', 'it'], ['a', 'large', 'campaign', 'trailer', 'parked', 'in', 'a', 'parking', 'lot'], ['two', 'giraffe', 'standing', 'next', 'to', 'each', 'other', 'on', 'a', 'grassy', 'field'], ['two', 'giraffes', 'stroll', 'past', 'each', 'other', 'near', 'a', 'bush'], ['two', 'giraffes', 'standing', 'near', 'trees', 'in', 'a', 'grassy', 'area'], ['two', 'giraffes', 'rub', 'their', 'necks', 'together', 'as', 'they', 'stand', 'by', 'the', 'trees', 'in', 'the', 'sunlight'], ['two', 'giraffes', 'crossing', 'paths', 'on', 'a', 'green', 'and', 'grassy', 'field'], ['a', 'giraffe', 'lying', 'on', 'the', 'ground', 'in', 'a', 'zoo', 'pin'], ['a', 'giraffe', 'laying', 'down', 'on', 'the', 'dirt', 'ground'], ['lone', 'giraffe', 'lying', 'in', 'dirt', 'area', 'of', 'enclosure'], ['small', 'giraffe', 'sitting', 'on', 'the', 'ground', 'while', 'the', 'sun', 'hits', 'its', 'body'], ['a', 'giraffe', 'laying', 'down', 'on', 'top', 'of', 'a', 'dirt', 'field'], ['a', 'couple', 'of', 'giraffes', 'that', 'are', 'standing', 'in', 'the', 'grass'], ['two', 'giraffes', 'in', 'a', 'field', 'near', 'many', 'trees'], ['two', 'giraffes', 'are', 'grazing', 'side', 'by', 'side', 'but', 'in', 'opposite', 'directions'], ['two', 'giraffes', 'are', 'facing', 'in', 'opposite', 'directions', 'with', 'their', 'necks', 'bent', 'down'], ['a', 'couple', 'of', 'giraffe', 'standing', 'next', 'to', 'each', 'other'], ['a', 'bicycle', 'is', 'lying', 'on', 'the', 'sidewalk', 'beside', 'a', 'fire', 'hydrant'], ['two', 'eyes', 'painted', 'on', 'a', 'fire', 'hydrant', 'make', 'it', 'look', 'more', 'festive'], ['a', 'fire', 'hydrant', 'with', 'a', 'pair', 'of', 'eye', 'stickers', 'making', 'a', 'face', 'on', 'it'], ['the', 'fire', 'hydrant', 'on', 'the', 'side', 'of', 'the', 'road', 'has', 'eyes', 'painted', 'on', 'it'], ['a', 'fire', 'hydrant', 'in', 'which', 'someone', 'put', 'two', 'eyes', 'on', 'it'], ['a', 'red', 'fire', 'hydrant', 'is', 'leaking', 'onto', 'a', 'side', 'walk'], ['a', 'red', 'fire', 'hydrant', 'gushing', 'water', 'onto', 'a', 'street'], ['a', 'red', 'fire', 'hydrant', 'pouring', 'water', 'onto', 'a', 'sidewalk'], ['a', 'red', 'fire', 'hydrant', 'opened', 'and', 'spilling', 'water'], ['a', 'red', 'fire', 'hydrant', 'spouting', 'water', 'onto', 'sidewalk', 'with', 'trees', 'in', 'background'], ['a', 'yellow', 'and', 'blue', 'fire', 'hydrant', 'sitting', 'on', 'a', 'sidewalk'], ['a', 'yellow', 'and', 'blue', 'fire', 'hydrant', 'on', 'the', 'sidewalk'], ['a', 'freeway', 'sign', 'states', 'las', 'vegas', 'north', 'in', 'the', 'background', 'behind', 'a', 'yellow', 'and', 'blue', 'fire', 'hydrant'], ['a', 'brightly', 'colored', 'fire', 'hydrant', 'sits', 'beside', 'a', 'brightly', 'colored', 'curb'], ['a', 'fire', 'hydrant', 'that', 'is', 'painted', 'yellow', 'and', 'blue'], ['a', 'city', 'street', 'sign', 'warning', 'of', 'a', 'hill', 'in', 'different', 'languages'], ['closeup', 'of', 'two', 'street', 'signs', 'with', 'various', 'languages', 'on', 'them'], ['a', 'street', 'sign', 'mounted', 'on', 'a', 'vertical', 'pole'], ['a', 'triangle', 'sign', 'with', 'an', 'english', 'and', 'foreign', 'warning'], ['two', 'street', 'signs', 'attached', 'to', 'the', 'same', 'pole', 'in', 'two', 'different', 'languages'], ['that', 'looks', 'like', 'a', 'wall', 'mural', 'in', 'the', 'background', 'of', 'this', 'photo', 'with', 'a', 'lot', 'of', 'sheet'], ['a', 'flock', 'of', 'sheep', 'who', 'are', 'standing', 'a', 'top', 'a', 'mountain'], ['a', 'huge', 'heard', 'of', 'sheep', 'are', 'all', 'scattered', 'together'], ['there', 'is', 'a', 'gathering', 'of', 'sheep', 'in', 'the', 'field'], ['a', 'group', 'of', 'white', 'sheep', 'in', 'grassy', 'area', 'next', 'to', 'trees'], ['a', 'bus', 'traveling', 'on', 'a', 'freeway', 'next', 'to', 'other', 'traffic'], ['a', 'bus', 'and', 'other', 'cars', 'driving', 'down', 'a', 'multi', 'laned', 'street'], ['a', 'white', 'bus', 'driving', 'on', 'a', 'four', 'lane', 'road'], ['city', 'bus', 'next', 'to', 'traffic', 'cones', 'in', 'the', 'far', 'right', 'lane', 'of', 'a', 'busy', 'freeway'], ['a', 'white', 'with', 'red', 'striped', 'bus', 'drives', 'down', 'the', 'slow', 'lane', 'on', 'a', 'freeway', 'surrounded', 'by', 'several', 'other', 'cars'], ['a', 'herd', 'of', 'giraffe', 'standing', 'next', 'to', 'each', 'other', 'on', 'a', 'field'], ['some', 'giraffes', 'are', 'walking', 'around', 'in', 'some', 'dirt', 'and', 'grass'], ['a', 'giraffe', 'looks', 'towards', 'the', 'camera', 'in', 'front', 'of', 'other', 'giraffes', 'and', 'zebras'], ['a', 'giraffe', 'turns', 'away', 'from', 'the', 'pack', 'to', 'look', 'at', 'the', 'camera'], ['a', 'group', 'of', 'giraffes', 'and', 'zebras', 'in', 'a', 'wildlife', 'exhibit'], ['a', 'bird', 'with', 'red', 'eyes', 'perched', 'on', 'top', 'of', 'a', 'tree', 'branch'], ['a', 'grey', 'and', 'white', 'bird', 'with', 'red', 'feet', 'and', 'eyes', 'perches', 'on', 'a', 'branch'], ['a', 'bird', 'with', 'a', 'pink', 'eye', 'is', 'sitting', 'on', 'a', 'branch', 'in', 'the', 'woods'], ['a', 'black', 'and', 'white', 'bird', 'with', 'red', 'eyes', 'sitting', 'on', 'a', 'tree', 'branch'], ['a', 'bird', 'with', 'red', 'eyes', 'and', 'claws', 'is', 'perched', 'on', 'a', 'branch'], ['a', 'big', 'billboard', 'is', 'painted', 'onto', 'the', 'side', 'of', 'a', 'brick', 'building'], ['a', 'large', 'blue', 'sign', 'with', 'white', 'lettering', 'adorns', 'the', 'concrete', 'wall'], ['a', 'blue', 'sign', 'reminds', 'people', 'to', 'live', 'life'], ['a', 'motivational', 'sign', 'on', 'a', 'brick', 'wall', 'by', 'a', 'yellow', 'door'], ['a', 'painting', 'on', 'the', 'side', 'of', 'a', 'building'], ['a', 'bird', 'that', 'is', 'on', 'a', 'tree', 'limb'], ['a', 'bird', 'with', 'blue', 'feathers', 'in', 'a', 'tree', 'at', 'the', 'zoo'], ['a', 'bird', 'in', 'a', 'tree', 'in', 'a', 'cage'], ['beautiful', 'unusual', 'bird', 'inside', 'of', 'a', 'bird', 'santuary'], ['a', 'white', 'headed', 'bird', 'perched', 'in', 'a', 'tree', 'in', 'an', 'enclosure'], ['a', 'street', 'sign', 'that', 'reads', 'broadway', 'on', 'a', 'traffic', 'light'], ['the', 'sign', 'for', 'broadway', 'street', 'stands', 'in', 'front', 'of', 'an', 'advertisement', 'board', 'in', 'the', 'city'], ['the', 'street', 'sign', 'at', 'the', 'intersection', 'of', 'broadway', 'and', '7th', 'avenue', 'is', 'the', 'star', 'of', 'this', 'picture'], ['street', 'signs', 'at', 'a', 'busy', 'intersection', 'with', 'surveillance'], ['an', 'intersection', 'has', 'a', 'nypd', 'security', 'camera', 'sign', 'on', 'a', 'post'], ['a', 'passenger', 'train', 'crossing', 'a', 'bridge', 'by', 'the', 'beach'], ['a', 'red', 'and', 'blue', 'train', 'on', 'a', 'bridge', 'during', 'a', 'cloudy', 'day'], ['a', 'train', 'crossing', 'a', 'tressle', 'near', 'a', 'body', 'of', 'water'], ['a', 'red', 'and', 'blue', 'train', 'driving', 'over', 'a', 'train', 'overpass'], ['red', 'train', 'pulling', 'four', 'blue', 'train', 'cars', 'behind', 'it', 'over', 'a', 'bridge'], ['train', 'stopped', 'at', 'a', 'depot', 'with', 'people', 'milling', 'about'], ['passengers', 'boarding', 'a', 'blue', 'train', 'at', 'a', 'station'], ['a', 'train', 'parked', 'at', 'an', 'outdoor', 'train', 'terminal'], ['a', 'man', 'taking', 'a', 'photograph', 'of', 'a', 'commuter', 'train', 'at', 'an', 'outdoor', 'station'], ['the', 'people', 'are', 'waiting', 'at', 'the', 'train', 'station'], ['a', 'red', 'stop', 'sign', 'sitting', 'in', 'the', 'middle', 'of', 'a', 'street'], ['humorous', 'graffiti', 'is', 'pictured', 'on', 'a', 'stop', 'sign'], ['a', 'stop', 'sign', 'with', 'graffiti', 'about', 'the', 'red', 'sox'], ['graffiti', 'on', 'a', 'stop', 'sign', 'supporting', 'the', 'red', 'sox'], ['a', 'stop', 'sign', 'with', 'words', 'written', 'on', 'it', 'with', 'a', 'black', 'marker'], ['a', 'woman', 'videos', 'a', 'man', 'cutting', 'the', 'cement', 'around', 'a', 'street', 'pole'], ['a', 'construction', 'worker', 'using', 'a', 'jack', 'hammer', 'next', 'to', 'a', 'woman', 'holding', 'a', 'camera'], ['a', 'man', 'is', 'working', 'near', 'a', 'parking', 'meter', 'outside'], ['a', 'man', 'is', 'operating', 'a', 'jackhammer', 'near', 'a', 'parking', 'meter'], ['a', 'man', 'with', 'a', 'jack', 'hammer', 'on', 'the', 'sidewalk', 'next', 'to', 'a', 'parking', 'meter'], ['this', 'cat', 'is', 'sitting', 'on', 'a', 'porch', 'near', 'a', 'tire'], ['a', 'cat', 'with', 'large', 'eyes', 'sitting', 'on', 'the', 'side', 'of', 'the', 'dock'], ['a', 'small', 'cat', 'is', 'sitting', 'on', 'the', 'wooden', 'beam'], ['a', 'brown', 'striped', 'cat', 'looks', 'at', 'the', 'camera'], ['a', 'brown', 'and', 'white', 'cat', 'standing', 'on', 'wooden', 'ledge', 'ned', 'to', 'a', 'building'], ['a', 'cat', 'sitting', 'on', 'top', 'of', 'a', 'red', 'boat', 'next', 'to', 'two', 'dogs'], ['a', 'white', 'cat', 'sits', 'on', 'a', 'large', 'red', 'object', 'by', 'a', 'river'], ['a', 'cat', 'and', 'two', 'dogs', 'rest', 'by', 'a', 'pond'], ['two', 'dogs', 'and', 'a', 'cat', 'on', 'a', 'boat', 'at', 'edge', 'of', 'water'], ['a', 'cat', 'and', 'some', 'dogs', 'sunbathing', 'by', 'the', 'water'], ['a', 'dog', 'and', 'cat', 'lying', 'together', 'on', 'an', 'orange', 'couch'], ['a', 'dog', 'and', 'a', 'cat', 'curled', 'up', 'together', 'on', 'a', 'couch'], ['a', 'cat', 'and', 'dog', 'napping', 'together', 'on', 'the', 'couch'], ['a', 'dog', 'and', 'cat', 'are', 'sleeping', 'together', 'on', 'an', 'orange', 'couch'], ['a', 'cat', 'and', 'a', 'dog', 'rest', 'together', 'on', 'a', 'hideous', 'orange', 'couch'], ['a', 'cat', 'lays', 'down', 'on', 'a', 'stuffed', 'animal'], ['a', 'cat', 'sitting', 'in', 'a', 'chair', 'that', 'looks', 'like', 'an', 'elephant'], ['a', 'cat', 'sitting', 'on', 'top', 'of', 'a', 'stuffed', 'animal'], ['a', 'spoiled', 'cat', 'is', 'sitting', 'on', 'his', 'own', 'personal', 'chair'], ['a', 'fat', 'cat', 'sits', 'on', 'a', 'stuffed', 'animal'], ['two', 'cats', 'sitting', 'on', 'top', 'of', 'a', 'pair', 'of', 'shoes'], ['two', 'cats', 'are', 'outside', 'and', 'perched', 'on', 'someones', 'sneakers'], ['two', 'cats', 'are', 'sitting', 'on', 'a', 'pair', 'of', 'shoes', 'outdoors'], ['two', 'striped', 'cats', 'lying', 'with', 'two', 'sneakers', 'on', 'a', 'ledge'], ['orange', 'and', 'brown', 'cat', 'sitting', 'on', 'top', 'of', 'white', 'shoes'], ['a', 'brown', 'and', 'white', 'cat', 'is', 'in', 'a', 'suitcase'], ['a', 'cat', 'is', 'sleeping', 'in', 'a', 'suitcase', 'with', 'folded', 'clothing'], ['a', 'cat', 'sitting', 'inside', 'a', 'small', 'packed', 'suitcase'], ['a', 'furry', 'cat', 'sleeping', 'inside', 'a', 'packed', 'suitcase'], ['the', 'cat', 'is', 'laying', 'in', 'the', 'packed', 'suitcase'], ['a', 'gray', 'chair', 'and', 'a', 'black', 'chair', 'sit', 'in', 'a', 'room', 'near', 'a', 'lamp'], ['a', 'cat', 'peek', 'from', 'between', 'two', 'sofa', 'chairs'], ['cat', 'sitting', 'on', 'a', 'maroon', 'couch', 'behind', 'a', 'coffee', 'table'], ['a', 'large', 'recliner', 'sitting', 'next', 'to', 'a', 'table'], ['a', 'cat', 'is', 'sitting', 'in', 'a', 'recliner', 'chair'], ['a', 'bunch', 'of', 'cows', 'grazing', 'in', 'a', 'dry', 'field', 'together'], ['cows', 'wandering', 'in', 'a', 'dry', 'grass', 'filled', 'meadow'], ['brown', 'and', 'black', 'cows', 'in', 'grassy', 'field', 'with', 'trees', 'in', 'background'], ['black', 'and', 'brown', 'cows', 'are', 'grazing', 'in', 'tall', 'grass'], ['cows', 'are', 'walking', 'through', 'tall', 'grass', 'near', 'many', 'trees'], ['a', 'white', 'truck', 'filled', 'with', 'motorcycle', 'on', 'its', 'flatbed'], ['a', 'vehicle', 'is', 'shown', 'transporting', 'a', 'shipment', 'of', 'bicycles'], ['the', 'truck', 'is', 'hauling', 'a', 'load', 'of', 'bicycles'], ['a', 'white', 'vehicle', 'with', 'a', 'flatbed', 'designed', 'to', 'carry', 'multiple', 'bicycles', 'on', 'it'], ['a', 'white', 'bike', 'carrier', 'sits', 'with', 'several', 'bikes', 'on', 'the', 'back'], ['two', 'cows', 'overlooking', 'a', 'mountain', 'range', 'and', 'one', 'is', 'looking', 'in', 'the', 'opposite', 'direction', 'of', 'the', 'other', 'one'], ['two', 'cows', 'that', 'are', 'standing', 'in', 'the', 'grass'], ['two', 'marked', 'cows', 'stand', 'upon', 'mud', 'and', 'grass', 'with', 'tree', 'filled', 'hills', 'in', 'the', 'background'], ['a', 'couple', 'of', 'brown', 'and', 'white', 'cows', 'standing', 'on', 'top', 'of', 'a', 'hill'], ['two', 'cows', 'are', 'standing', 'in', 'a', 'grassy', 'area'], ['a', 'black', 'kitten', 'lays', 'on', 'her', 'side', 'beside', 'remote', 'controls'], ['a', 'black', 'kitten', 'laying', 'down', 'next', 'to', 'two', 'remote', 'controls'], ['a', 'black', 'cat', 'is', 'lying', 'next', 'to', 'a', 'remote', 'control'], ['a', 'couple', 'of', 'phones', 'are', 'on', 'a', 'blanket', 'next', 'to', 'a', 'black', 'kitten'], ['a', 'kitten', 'laying', 'on', 'a', 'bed', 'next', 'to', 'some', 'phones'], ['a', 'person', 'riding', 'an', 'elephant', 'and', 'carrying', 'gas', 'cylinders'], ['an', 'elephant', 'walking', 'with', 'two', 'heave', 'pails', 'and', 'and', 'indian', 'man', 'on', 'the', 'top'], ['a', 'nd', 'elephant', 'is', 'carrying', 'some', 'red', 'jugs'], ['a', 'man', 'riding', 'on', 'top', 'of', 'an', 'elphant', 'holding', 'a', 'stick', 'with', 'containers'], ['an', 'elephant', 'carries', 'two', 'tanks', 'while', 'being', 'ridden'], ['a', 'lone', 'elephant', 'is', 'walking', 'through', 'a', 'field'], ['an', 'elephant', 'is', 'in', 'some', 'brown', 'grass', 'and', 'some', 'trees'], ['an', 'elephant', 'reaching', 'for', 'tall', 'grass', 'with', 'its', 'trunk'], ['a', 'very', 'big', 'elephant', 'in', 'a', 'field', 'of', 'tall', 'grass'], ['an', 'elephant', 'sticking', 'out', 'its', 'trunk', 'in', 'a', 'grassy', 'area'], ['some', 'elephants', 'and', 'one', 'is', 'by', 'some', 'water'], ['a', 'elephant', 'drinks', 'from', 'a', 'stream', 'with', 'several', 'other', 'elephants', 'walking', 'in', 'the', 'background'], ['one', 'elephant', 'standing', 'away', 'from', 'the', 'rest', 'of', 'the', 'herd', 'drinking', 'water'], ['an', 'elephant', 'drinking', 'water', 'while', 'the', 'rest', 'of', 'the', 'herd', 'is', 'walking', 'in', 'dry', 'grass'], ['a', 'group', 'of', 'elephants', 'with', 'water', 'in', 'front', 'and', 'trees', 'behind'], ['a', 'group', 'of', 'elephants', 'bathing', 'and', 'playing', 'in', 'the', 'water'], ['a', 'large', 'group', 'of', 'elephants', 'standing', 'in', 'some', 'water'], ['elephants', 'swimming', 'in', 'a', 'shallow', 'lake', 'on', 'a', 'hot', 'day'], ['several', 'elephants', 'taking', 'a', 'bath', 'in', 'the', 'river'], ['a', 'couple', 'of', 'elephants', 'are', 'standing', 'in', 'the', 'water'], ['a', 'zebra', 'standing', 'next', 'to', 'an', 'elephant', 'next', 'to', 'some', 'trees'], ['the', 'elephant', 'with', 'the', 'herd', 'is', 'stretching', 'its', 'trunk', 'upwards', 'near', 'a', 'tree'], ['a', 'group', 'of', 'elephants', 'feed', 'in', 'some', 'trees'], ['several', 'elephants', 'eating', 'leaves', 'on', 'trees', 'at', 'a', 'zoo'], ['a', 'herd', 'of', 'elephants', 'eating', 'from', 'a', 'grove', 'of', 'trees'], ['a', 'mother', 'and', 'son', 'elephant', 'walking', 'through', 'a', 'green', 'grass', 'field'], ['a', 'pair', 'of', 'elephants', 'traveling', 'on', 'a', 'grassy', 'field'], ['an', 'adult', 'elephant', 'and', 'a', 'baby', 'elephant', 'walking', 'together'], ['a', 'adult', 'elephant', 'with', 'a', 'baby', 'elephant', 'walking', 'besides'], ['a', 'mother', 'elephant', 'guiding', 'her', 'child', 'across', 'a', 'field'], ['large', 'elephant', 'rubbing', 'itself', 'up', 'against', 'a', 'large', 'tree'], ['an', 'elephant', 'stands', 'in', 'the', 'grass', 'near', 'a', 'tree'], ['the', 'large', 'adult', 'elephant', 'is', 'standing', 'beside', 'a', 'large', 'tree'], ['a', 'captive', 'elephant', 'stands', 'amid', 'the', 'branches', 'of', 'a', 'tree', 'in', 'his', 'park', 'like', 'enclosure'], ['a', 'elephant', 'that', 'is', 'standing', 'in', 'the', 'grass'], ['a', 'couple', 'of', 'gray', 'elephants', 'standing', 'next', 'to', 'each', 'other', 'in', 'a', 'wire', 'cage'], ['a', 'couple', 'of', 'elephants', 'touch', 'their', 'trunks', 'together'], ['two', 'elephants', 'at', 'a', 'zoo', 'with', 'their', 'trunks', 'touching'], ['some', 'elephants', 'are', 'touching', 'each', 'other', 'in', 'the', 'zoo'], ['two', 'elephants', 'facing', 'each', 'other', 'touching', 'trunks', 'in', 'an', 'enclosure'], ['a', 'woman', 'throwing', 'a', 'frisbee', 'as', 'a', 'child', 'looks', 'on'], ['a', 'woman', 'and', 'girl', 'in', 'park', 'playing', 'with', 'frisbee'], ['a', 'woman', 'and', 'child', 'playing', 'frisbee', 'in', 'a', 'grassy', 'area'], ['a', 'person', 'on', 'a', 'field', 'throwing', 'a', 'frisbee', 'by', 'a', 'kid'], ['a', 'woman', 'and', 'a', 'little', 'girl', 'playing', 'with', 'a', 'frisbee', 'in', 'the', 'sun', 'on', 'a', 'green', 'lawn'], ['some', 'people', 'stand', 'together', 'near', 'a', 'lake'], ['a', 'picture', 'of', 'some', 'people', 'playing', 'with', 'a', 'frisbee'], ['five', 'people', 'stand', 'on', 'a', 'shoreline', 'with', 'woods', 'in', 'the', 'background'], ['a', 'group', 'of', 'kids', 'are', 'standing', 'in', 'a', 'circular', 'fashion', 'to', 'play', 'catch', 'beside', 'a', 'waterfront'], ['the', 'friends', 'are', 'on', 'the', 'beach', 'at', 'an', 'early', 'hour'], ['two', 'brown', 'dogs', 'in', 'grassy', 'area', 'biting', 'each', 'other'], ['two', 'dogs', 'playing', 'jumping', 'on', 'each', 'other', 'and', 'biting'], ['two', 'similar', 'sized', 'dogs', 'fighting', 'near', 'an', 'empty', 'chair'], ['two', 'brown', 'dogs', 'involved', 'in', 'fight', 'against', 'each', 'other'], ['two', 'brown', 'dogs', 'are', 'playing', 'on', 'the', 'dirt'], ['a', 'kid', 'playing', 'with', 'a', 'frisbee', 'in', 'the', 'yard'], ['a', 'young', 'bow', 'throwing', 'a', 'frisbee', 'on', 'a', 'lush', 'green', 'grass', 'covered', 'park'], ['a', 'toddler', 'with', 'a', 'frisbee', 'in', 'his', 'hand'], ['a', 'young', 'toddler', 'walks', 'across', 'the', 'grass', 'in', 'a', 'park'], ['a', 'small', 'child', 'standing', 'in', 'a', 'field', 'of', 'green', 'grass', 'playing', 'with', 'a', 'frisbee'], ['a', 'small', 'herd', 'of', 'zebra', 'walking', 'on', 'a', 'lush', 'green', 'landscape'], ['three', 'zebras', 'walking', 'through', 'a', 'grassland', 'area', 'together'], ['one', 'zebra', 'rests', 'its', 'head', 'on', 'the', 'back', 'of', 'another', 'zebra'], ['a', 'zebra', 'resting', 'its', 'head', 'on', 'another', 'zebra'], ['a', 'zebra', 'resting', 'its', 'head', 'on', 'another', 'zebra'], ['person', 'riding', 'on', 'the', 'back', 'of', 'a', 'horse', 'on', 'a', 'gravel', 'road'], ['a', 'person', 'riding', 'a', 'horse', 'down', 'a', 'trail', 'with', 'rocks', 'around', 'it'], ['a', 'person', 'riding', 'a', 'donkey', 'travels', 'between', 'two', 'mountains'], ['a', 'man', 'travels', 'down', 'a', 'path', 'in', 'the', 'mountains'], ['a', 'person', 'in', 'a', 'black', 'top', 'riding', 'a', 'horse', 'and', 'some', 'hills', 'and', 'rocks'], ['a', 'herd', 'of', 'zebras', 'are', 'in', 'a', 'dirt', 'area', 'near', 'scrub', 'brush'], ['a', 'bunch', 'of', 'zebras', 'are', 'together', 'in', 'an', 'open', 'area'], ['a', 'group', 'of', 'zebras', 'standing', 'beside', 'each', 'other', 'in', 'the', 'desert'], ['a', 'herd', 'of', 'zebra', 'standing', 'around', 'in', 'front', 'of', 'some', 'shrubs'], ['a', 'bunch', 'of', 'zebras', 'standing', 'around', 'in', 'an', 'open', 'field'], ['horses', 'stand', 'and', 'drink', 'from', 'pond', 'water', 'near', 'the', 'road'], ['horses', 'near', 'a', 'body', 'of', 'water', 'with', 'a', 'sky', 'background'], ['horses', 'behind', 'a', 'fence', 'near', 'a', 'body', 'of', 'water'], ['horses', 'grazing', 'in', 'a', 'muddy', 'portion', 'of', 'a', 'flooded', 'field'], ['five', 'horses', 'next', 'to', 'a', 'body', 'of', 'water', 'behind', 'a', 'fence'], ['a', 'trainer', 'leads', 'a', 'girl', 'on', 'horseback', 'to', 'a', 'field'], ['a', 'little', 'girl', 'riding', 'a', 'horse', 'next', 'to', 'another', 'girl'], ['two', 'girls', 'walking', 'down', 'a', 'pathway', 'with', 'a', 'large', 'horse'], ['a', 'woman', 'walks', 'beside', 'a', 'horse', 'while', 'a', 'girl', 'rides'], ['child', 'on', 'a', 'horse', 'being', 'led', 'by', 'a', 'trainer'], ['a', 'horse', 'drawn', 'trolly', 'on', 'a', 'track', 'the', 'trolly', 'is', 'full', 'of', 'people'], ['a', 'horse', 'stops', 'for', 'a', 'rest', 'before', 'it', 'continues', 'to', 'pull', 'a', 'street', 'car'], ['a', 'horse', 'drawn', 'trolley', 'sitting', 'in', 'the', 'middle', 'of', 'a', 'street'], ['a', 'horse', 'is', 'pulling', 'a', 'troller', 'full', 'of', 'people'], ['people', 'riding', 'on', 'a', 'horse', 'trolley', 'in', 'the', 'street'], ['two', 'horses', 'in', 'a', 'wooded', 'area', 'amongst', 'bushes'], ['two', 'horses', 'are', 'looking', 'towards', 'the', 'camera', 'while', 'standing', 'in', 'the', 'woods'], ['two', 'animals', 'walking', 'through', 'high', 'grass', 'in', 'the', 'woods'], ['two', 'horses', 'gaze', 'out', 'from', 'among', 'the', 'trees'], ['two', 'horses', 'walking', 'through', 'the', 'woods', 'together'], ['a', 'stack', 'of', 'bananas', 'sitting', 'next', 'to', 'a', 'pear', 'and', 'a', 'pile', 'of', 'apples'], ['a', 'plate', 'of', 'fruit', 'that', 'includes', 'bananas', 'pears', 'and', 'apples'], ['plate', 'on', 'the', 'table', 'covered', 'with', 'bananas', 'apples', 'and', 'a', 'pear'], ['a', 'wooden', 'table', 'with', 'a', 'white', 'plate', 'of', 'fresh', 'fruit', 'sitting', 'on', 'it'], ['an', 'array', 'of', 'apples', 'and', 'bananas', 'lay', 'on', 'a', 'plate'], ['a', 'baseball', 'player', 'with', 'one', 'leg', 'kicked', 'up', 'preparing', 'to', 'throw', 'a', 'ball'], ['a', 'baseball', 'player', 'winding', 'up', 'for', 'a', 'pitch'], ['a', 'baseball', 'player', 'prepares', 'to', 'throw', 'the', 'ball'], ['a', 'man', 'is', 'leaning', 'back', 'to', 'throw', 'a', 'ball'], ['a', 'male', 'baseball', 'player', 'is', 'preparing', 'to', 'throw', 'the', 'ball'], ['a', 'man', 'wearing', 'a', 'hat', 'and', 'necklace', 'made', 'of', 'bananas'], ['a', 'man', 'wearing', 'a', 'necklace', 'and', 'hat', 'made', 'of', 'bananas'], ['a', 'person', 'with', 'a', 'bananas', 'in', 'a', 'costume', 'laughing'], ['a', 'person', 'dressed', 'in', 'costume', 'wearing', 'a', 'banana', 'hat', 'and', 'a', 'banana', 'necklace'], ['a', 'performer', 'poses', 'joyously', 'in', 'a', 'banana', 'costume'], ['a', 'fork', 'next', 'to', 'an', 'apple', 'orange', 'and', 'onion'], ['a', 'close', 'up', 'of', 'a', 'fork', 'an', 'orange', 'an', 'apple', 'and', 'an', 'onion'], ['a', 'fork', 'apple', 'orange', 'and', 'onion', 'lined', 'up', 'in', 'a', 'row'], ['a', 'fork', 'apple', 'orange', 'and', 'onion', 'sitting', 'on', 'a', 'surface'], ['a', 'fork', 'an', 'apple', 'and', 'orange', 'and', 'an', 'onion', 'sitting', 'in', 'a', 'row'], ['a', 'grasshopper', 'in', 'a', 'cage', 'eating', 'a', 'slice', 'of', 'carrot'], ['a', 'close', 'up', 'of', 'a', 'large', 'bug', 'eating', 'something'], ['a', 'grasshopper', 'in', 'a', 'cage', 'eating', 'something', 'that', 'is', 'orange', 'colored'], ['a', 'giant', 'cricket', 'in', 'a', 'cage', 'eating', 'an', 'orange', 'slice'], ['an', 'insect', 'is', 'chewing', 'some', 'carrot', 'inside', 'a', 'wooden', 'cage'], ['the', 'clock', 'on', 'the', 'building', 'is', 'in', 'the', 'shape', 'of', 'a', 'coffee', 'cup'], ['a', 'large', 'white', 'blue', 'and', 'red', 'clock', 'shaped', 'like', 'a', 'cup'], ['a', 'clock', 'is', 'shaped', 'like', 'a', 'coffee', 'mug'], ['a', 'clock', 'attached', 'to', 'a', 'building', 'is', 'shaped', 'like', 'a', 'coffee', 'cup'], ['a', 'cock', 'on', 'the', 'side', 'of', 'a', 'giant', 'cup'], ['two', 'toothbrushes', 'and', 'a', 'tube', 'of', 'toothpaste', 'are', 'in', 'a', 'cup'], ['a', 'coffee', 'cup', 'with', 'a', 'couple', 'of', 'tooth', 'brushes', 'and', 'a', 'tube', 'of', 'tooth', 'paste'], ['miniature', 'electric', 'toothbrushes', 'and', 'toothpaste', 'inside', 'a', 'cup'], ['electric', 'toothbrushes', 'and', 'toothpaste', 'standing', 'in', 'a', 'coffee', 'cup'], ['two', 'toothbrushes', 'and', 'a', 'tube', 'of', 'toothpaste', 'in', 'a', 'cup'], ['a', 'person', 'riding', 'down', 'a', 'sidewalk', 'on', 'a', 'skateboard'], ['a', 'person', 'riding', 'on', 'a', 'skateboard', 'on', 'a', 'brick', 'sidewalk'], ['person', 'on', 'skateboard', 'on', 'sidewalk', 'passing', 'newspaper', 'boxes'], ['a', 'person', 'skateboarding', 'on', 'the', 'side', 'of', 'the', 'road'], ['a', 'young', 'person', 'is', 'skateboarding', 'on', 'a', 'side', 'of', 'the', 'street'], ['a', 'man', 'holding', 'a', 'sausage', 'dog', 'and', 'looking', 'at', 'the', 'sausage', 'dog'], ['a', 'man', 'looks', 'at', 'a', 'hot', 'dog', 'he', 'is', 'eating'], ['a', 'man', 'is', 'eating', 'a', 'hot', 'dog', 'while', 'wearing', 'a', 'suit'], ['a', 'man', 'holds', 'up', 'a', 'partially', 'eaten', 'hotdog'], ['a', 'man', 'in', 'a', 'suit', 'stares', 'at', 'a', 'chili', 'dog', 'with', 'cheese'], ['a', 'long', 'hot', 'dog', 'on', 'a', 'plate', 'on', 'a', 'table'], ['a', 'very', 'long', 'hot', 'dog', 'on', 'a', 'plastic', 'plate'], ['a', 'foot', 'long', 'hot', 'dog', 'on', 'top', 'of', 'two', 'buns'], ['long', 'hot', 'dog', 'using', 'two', 'buns', 'on', 'paper', 'plate'], ['a', 'foot', 'long', 'hotdog', 'on', 'two', 'regular', 'buns', 'on', 'a', 'styrofoam', 'plate'], ['a', 'little', 'girl', 'sitting', 'in', 'the', 'middle', 'of', 'a', 'restaurant', 'and', 'smiling', 'for', 'picture'], ['a', 'girl', 'with', 'a', 'missing', 'front', 'tooth', 'enjoys', 'a', 'hotdog'], ['a', 'young', 'child', 'is', 'sitting', 'at', 'a', 'bar', 'and', 'eating'], ['there', 'is', 'a', 'small', 'girl', 'sitting', 'at', 'the', 'counter', 'eating'], ['a', 'young', 'girl', 'eating', 'food', 'at', 'a', 'restaurant'], ['persons', 'skating', 'in', 'the', 'ice', 'skating', 'rink', 'on', 'the', 'skateboard'], ['a', 'snowboard', 'sliding', 'very', 'gently', 'across', 'the', 'snow', 'in', 'an', 'enclosure'], ['a', 'person', 'on', 'a', 'snowboard', 'getting', 'ready', 'for', 'competition'], ['man', 'on', 'snowboard', 'riding', 'under', 'metal', 'roofed', 'enclosed', 'area'], ['a', 'snowboarder', 'practicing', 'his', 'moves', 'at', 'a', 'snow', 'facility'], ['a', 'person', 'is', 'seen', 'using', 'a', 'snowboard', 'on', 'the', 'packed', 'snow'], ['a', 'boy', 'on', 'a', 'snowboard', 'sliding', 'on', 'a', 'slope'], ['a', 'man', 'riding', 'down', 'a', 'slope', 'on', 'a', 'snowboard'], ['a', 'man', 'skis', 'down', 'a', 'snowy', 'hill', 'wearing', 'a', 'blue', 'hat', 'and', 'jacket'], ['a', 'man', 'riding', 'a', 'snowboard', 'on', 'top', 'of', 'snow', 'covered', 'ground'], ['a', 'lady', 'sitting', 'at', 'an', 'enormous', 'dining', 'table', 'with', 'lots', 'of', 'food'], ['a', 'woman', 'with', 'eye', 'glasses', 'sitting', 'at', 'a', 'table', 'covered', 'with', 'food'], ['several', 'plates', 'of', 'food', 'on', 'a', 'dining', 'table'], ['a', 'guest', 'looks', 'over', 'the', 'plates', 'of', 'fruit', 'on', 'the', 'table'], ['a', 'woman', 'standing', 'near', 'a', 'table', 'with', 'plates', 'covered', 'in', 'food'], ['a', 'box', 'of', 'donuts', 'of', 'different', 'colors', 'and', 'varieties'], ['a', 'close', 'up', 'of', 'a', 'box', 'of', 'doughnuts'], ['a', 'box', 'is', 'full', 'of', 'a', 'variety', 'of', 'different', 'donuts'], ['a', 'box', 'containing', 'ten', 'different', 'kids', 'of', 'doughnuts'], ['a', 'box', 'filled', 'with', 'lots', 'of', 'different', 'flavored', 'donuts'], ['a', 'person', 'holding', 'up', 'a', 'chocolate', 'doughnut', 'with', 'a', 'face', 'drawn', 'on', 'it'], ['a', 'man', 'holding', 'up', 'what', 'appears', 'to', 'be', 'a', 'chocolate', 'desert'], ['a', 'person', 'holding', 'up', 'a', 'tasty', 'looking', 'treat'], ['a', 'person', 'holding', 'a', 'cookie', 'with', 'icing', 'that', 'has', 'one', 'of', 'its', 'arms', 'bitten', 'off'], ['a', 'person', 'holds', 'an', 'oddly', 'shaped', 'cookie', 'in', 'front', 'of', 'the', 'camera'], ['a', 'sheet', 'cake', 'sitting', 'on', 'top', 'of', 'a', 'table', 'with', 'lit', 'candles'], ['a', 'birthday', 'cake', 'with', 'candles', 'and', 'a', 'cell', 'phone'], ['someone', 'lights', 'the', 'other', 'candles', 'on', 'the', 'cake'], ['a', 'birthday', 'cake', 'with', 'a', 'cell', 'phone', 'on', 'it', 'is', 'being', 'lit'], ['an', 'image', 'of', 'a', '2nd', 'year', 'birthday', 'cake'], ['a', 'group', 'of', 'children', 'running', 'after', 'a', 'soccer', 'ball'], ['four', 'boys', 'are', 'on', 'a', 'grassy', 'area', 'near', 'a', 'white', 'soccer', 'ball'], ['three', 'children', 'having', 'fun', 'playing', 'soccer', 'on', 'a', 'soccer', 'field'], ['children', 'wearing', 'team', 'uniforms', 'playing', 'soccer', 'in', 'a', 'grassy', 'field'], ['kids', 'chasing', 'a', 'soccer', 'ball', 'on', 'the', 'grass'], ['a', 'group', 'of', 'people', 'walking', 'on', 'top', 'of', 'a', 'beach'], ['the', 'people', 'have', 'surfboards', 'and', 'are', 'on', 'the', 'beach'], ['surboarders', 'are', 'in', 'the', 'water', 'and', 'waiting', 'on', 'the', 'shore'], ['surfers', 'stand', 'with', 'surfboards', 'on', 'a', 'beach', 'for', 'the', 'early', 'morning', 'sunrise'], ['beach', 'full', 'of', 'surfers', 'inside', 'and', 'outside', 'of', 'the', 'water'], ['a', 'two', 'layer', 'cake', 'sitting', 'on', 'top', 'of', 'a', 'table'], ['a', 'two', 'layered', 'cake', 'sits', 'on', 'a', 'table', 'top'], ['the', 'cake', 'is', 'prepared', 'and', 'ready', 'to', 'be', 'eaten'], ['a', 'white', 'boxy', 'birthday', 'cake', 'with', 'red', 'flowers', 'and', 'blue', 'accents', 'on', 'a', 'decorated', 'table', 'with', 'gray', 'cover', 'and', 'candles'], ['a', 'two', 'layer', 'cake', 'sitting', 'on', 'a', 'table', 'near', 'candles'], ['a', 'soccer', 'player', 'looks', 'up', 'at', 'a', 'soccer', 'ball'], ['some', 'men', 'are', 'playing', 'soccer', 'on', 'a', 'field', 'with', 'a', 'blue', 'ball'], ['a', 'soccer', 'game', 'is', 'in', 'action', 'as', 'a', 'player', 'prepares', 'to', 'head', 'but', 'the', 'ball'], ['man', 'in', 'an', 'orange', 'soccer', 'jersey', 'and', 'white', 'shorts', 'looking', 'up', 'at', 'a', 'blue', 'soccer', 'ball'], ['a', 'soccer', 'player', 'that', 'is', 'playing', 'in', 'a', 'game'], ['a', 'group', 'of', 'men', 'playing', 'a', 'game', 'of', 'soccer', 'on', 'a', 'field'], ['a', 'man', 'in', 'a', 'blue', 'uniform', 'falls', 'down', 'while', 'kicking', 'a', 'soccer', 'ball', 'as', 'his', 'team', 'mate', 'someone', 'from', 'the', 'opposite', 'team', 'run', 'on'], ['three', 'men', 'are', 'playing', 'soccer', 'one', 'man', 'is', 'on', 'the', 'grown'], ['three', 'men', 'going', 'after', 'a', 'soccer', 'ball', 'on', 'the', 'field'], ['soccer', 'players', 'are', 'scrambling', 'for', 'the', 'ball', 'with', 'one', 'player', 'down'], ['a', 'plate', 'that', 'has', 'a', 'dessert', 'on', 'it'], ['a', 'chocolate', 'and', 'fudge', 'dessert', 'on', 'layered', 'pastry', 'is', 'on', 'a', 'red', 'plate'], ['a', 'stack', 'of', 'pancakes', 'on', 'a', 'plate', 'with', 'creme', 'and', 'chocolate'], ['a', 'red', 'plate', 'with', 'some', 'chocolate', 'and', 'whip', 'cream', 'desert'], ['a', 'small', 'cake', 'is', 'covered', 'in', 'frosting', 'on', 'a', 'plate'], ['a', 'messy', 'room', 'with', 'door', 'and', 'bed', 'and', 'chair'], ['a', 'bedroom', 'in', 'an', 'old', 'house', 'that', 'is', 'being', 'renovated'], ['view', 'of', 'a', 'very', 'messy', 'bedroom', 'with', 'boxes', 'and', 'bags', 'covering', 'the', 'floor'], ['a', 'messy', 'bed', 'room', 'a', 'bed', 'a', 'chair', 'and', 'boxes'], ['a', 'messy', 'bedroom', 'has', 'one', 'red', 'brick', 'wall'], ['a', 'man', 'in', 'a', 'wetsuit', 'with', 'a', 'surfboard', 'standing', 'on', 'a', 'beach'], ['this', 'is', 'an', 'image', 'of', 'a', 'man', 'with', 'a', 'surfboard', 'looking', 'at', 'the', 'ocean'], ['rear', 'view', 'of', 'surfboard', 'holding', 'man', 'standing', 'on', 'beach'], ['a', 'person', 'with', 'a', 'surfboard', 'stands', 'at', 'the', 'water'], ['a', 'man', 'is', 'holding', 'a', 'surfboard', 'and', 'staring', 'out', 'into', 'the', 'ocean'], ['an', 'older', 'woman', 'standing', 'next', 'to', 'two', 'children'], ['kids', 'and', 'an', 'old', 'woman', 'playing', 'in', 'the', 'street'], ['a', 'lady', 'and', 'two', 'children', 'in', 'the', 'street', 'playing', 'with', 'a', 'tennis', 'raquet'], ['two', 'young', 'girls', 'playing', 'together', 'tennis', 'together', 'outside'], ['children', 'are', 'playing', 'with', 'an', 'old', 'woman', 'in', 'the', 'street'], ['three', 'guys', 'sitting', 'down', 'eating', 'sandwiches', 'and', 'smiling'], ['three', 'men', 'eating', 'sandwiches', 'at', 'a', 'corner', 'table'], ['two', 'young', 'men', 'one', 'old', 'enjoying', 'a', 'meal', 'at', 'a', 'restaurant'], ['three', 'men', 'all', 'eating', 'sub', 'sandwiches', 'at', 'a', 'restaurant'], ['three', 'men', 'are', 'sitting', 'in', 'a', 'restaurant', 'eating', 'sandwiches'], ['a', 'young', 'girl', 'brushing', 'her', 'teeth', 'with', 'a', 'tooth', 'brush'], ['a', 'young', 'child', 'smiles', 'while', 'brushing', 'his', 'teeth'], ['a', 'little', 'girl', 'brushing', 'her', 'teeth', 'with', 'a', 'blue', 'toothbrush'], ['a', 'young', 'girl', 'is', 'using', 'a', 'blue', 'toothbrush'], ['a', 'girl', 'with', 'a', 'toothbrush', 'and', 'toothpaste', 'in', 'her', 'mouth'], ['an', 'asian', 'child', 'brushes', 'their', 'teeth', 'with', 'a', 'blue', 'toothbrush'], ['a', 'child', 'holds', 'a', 'toothbrush', 'halfway', 'out', 'of', 'their', 'mouth', 'while', 'brushing', 'their', 'teeth'], ['a', 'girl', 'with', 'a', 'green', 'shirt', 'brushing', 'her', 'teeth', 'with', 'a', 'blue', 'toothbrush'], ['a', 'young', 'child', 'brushes', 'their', 'teeth', 'with', 'a', 'blue', 'toothbrush'], ['a', 'young', 'girl', 'who', 'is', 'brushing', 'her', 'teeth', 'with', 'a', 'toothbrush'], ['a', 'boy', 'draped', 'in', 'a', 'blanket', 'holds', 'a', 'remote', 'control', 'on', 'a', 'couch'], ['a', 'boy', 'sitting', 'on', 'top', 'of', 'a', 'couch', 'under', 'a', 'pink', 'blanket'], ['a', 'little', 'boy', 'sitting', 'down', 'with', 'his', 'blanket', 'and', 'a', 'toy'], ['a', 'kid', 'is', 'wearing', 'a', 'blanket', 'on', 'a', 'coach'], ['a', 'boy', 'covered', 'up', 'with', 'his', 'blanket', 'holding', 'the', 'television', 'remote'], ['a', 'clean', 'orderly', 'living', 'room', 'with', 'high', 'ceilings', 'and', 'with', 'many', 'windows'], ['a', 'florida', 'room', 'is', 'lit', 'with', 'location', 'lighting'], ['a', 'living', 'room', 'with', 'large', 'windows', 'facing', 'the', 'forest'], ['a', 'large', 'living', 'room', 'with', 'several', 'couches', 'and', 'lamps'], ['a', 'living', 'room', 'filled', 'with', 'furniture', 'and', 'lots', 'of', 'windows'], ['a', 'sky', 'filled', 'with', 'lots', 'of', 'colorful', 'flying', 'kites'], ['variety', 'of', 'different', 'colored', 'kites', 'flying', 'next', 'to', 'each', 'other'], ['multi', 'colored', 'and', 'shaped', 'kites', 'flying', 'in', 'cloudy', 'skies'], ['many', 'different', 'types', 'of', 'kites', 'flying', 'in', 'the', 'sky'], ['a', 'bunch', 'of', 'clouds', 'flying', 'very', 'high', 'in', 'the', 'sky'], ['a', 'man', 'skis', 'using', 'a', 'sail', 'in', 'open', 'snow', 'packed', 'field'], ['a', 'man', 'on', 'a', 'snowboard', 'para', 'sailing', 'in', 'the', 'snow'], ['a', 'man', 'on', 'a', 'snowboard', 'using', 'a', 'parachute'], ['a', 'guy', 'standing', 'on', 'a', 'snowboard', 'in', 'the', 'snow'], ['a', 'man', 'is', 'on', 'a', 'snow', 'board', 'with', 'a', 'kite'], ['this', 'is', 'a', 'room', 'full', 'of', 'laptop', 'computers'], ['there', 'is', 'a', 'room', 'with', 'several', 'laptops', 'on', 'tables'], ['a', 'classroom', 'with', 'laptop', 'computers', 'a', 'projection', 'screen', 'and', 'a', 'basket', 'of', 'cookies'], ['a', 'computer', 'lab', 'has', 'a', 'blue', 'wall', 'and', 'projector', 'screen'], ['some', 'tables', 'laptops', 'chairs', 'a', 'white', 'board', 'and', 'a', 'white', 'screen'], ['a', 'very', 'big', 'building', 'with', 'a', 'mounted', 'clock'], ['an', 'architectural', 'structure', 'that', 'has', 'a', 'wooden', 'dock', 'surrounding', 'it'], ['scaffolding', 'surrounding', 'a', 'clock', 'tower', 'on', 'a', 'pier'], ['scaffolding', 'around', 'a', 'building', 'for', 'construction', 'or', 'remodeling'], ['a', 'large', 'building', 'with', 'a', 'giant', 'clock', 'tower'], ['a', 'baseball', 'player', 'is', 'swinging', 'and', 'about', 'to', 'run'], ['a', 'man', 'in', 'a', 'baseball', 'outfit', 'is', 'wearing', 'a', 'hard', 'hat', 'and', 'is', 'swinging', 'his', 'bat', 'while', 'the', 'catcher', 'has', 'his', 'mitt', 'out', 'ready', 'to', 'catch', 'it'], ['a', 'baseball', 'player', 'swings', 'a', 'bat', 'at', 'a', 'baseball'], ['a', 'person', 'on', 'a', 'field', 'with', 'a', 'baseball', 'bat'], ['a', 'batter', 'hits', 'the', 'ball', 'during', 'a', 'little', 'league', 'baseball', 'game'], ['a', 'baseball', 'player', 'is', 'going', 'to', 'swing', 'a', 'bat'], ['a', 'baseball', 'game', 'with', 'barry', 'bonds', '#25', 'at', 'bat', 'and', 'a', 'catcher', 'and', 'umpire', 'behind', 'the', 'plate', 'as', 'fans', 'photographers', 'and', 'camera', 'people', 'look', 'on', 'from', 'the', 'stands'], ['base', 'ball', 'game', 'with', 'pitcher', 'on', 'home', 'base', 'and', 'the', 'umpire'], ['a', 'man', 'is', 'at', 'bat', 'at', 'a', 'baseball', 'game', 'with', 'a', 'crowd', 'watching'], ['a', 'baseball', 'player', 'is', 'up', 'to', 'bat', 'while', 'the', 'crowd', 'films', 'the', 'event'], ['a', 'boy', 'swinging', 'a', 'baseball', 'bat', 'at', 'a', 'ball'], ['the', 'boy', 'is', 'getting', 'ready', 'to', 'hit', 'the', 'ball', 'with', 'his', 'bat'], ['a', 'woman', 'that', 'is', 'holding', 'a', 'baseball', 'bat'], ['a', 'man', 'holding', 'a', 'bat', 'ready', 'to', 'kick', 'a', 'tennis'], ['a', 'boy', 'swinging', 'a', 'bat', 'at', 'as', 'baseball', 'heading', 'towards', 'him'], ['a', 'young', 'baseball', 'player', 'in', 'uniform', 'getting', 'ready', 'to', 'bat'], ['a', 'baseball', 'player', 'holding', 'a', 'bat', 'on', 'the', 'field'], ['little', 'league', 'baseball', 'game', 'player', 'getting', 'ready', 'to', 'hit', 'the', 'ball'], ['a', 'man', 'in', 'a', 'gray', 'baseball', 'uniform', 'holds', 'a', 'bat', 'over', 'his', 'shoulder'], ['a', 'baseball', 'player', 'practicing', 'on', 'a', 'baseball', 'field', 'during', 'the', 'day'], ['a', 'tennis', 'player', 'attempting', 'to', 'reach', 'a', 'tennis', 'ball'], ['a', 'man', 'is', 'trying', 'to', 'catch', 'the', 'tennis', 'ball'], ['a', 'man', 'shows', 'his', 'great', 'form', 'while', 'returning', 'the', 'ball'], ['a', 'tennis', 'player', 'is', 'about', 'to', 'hit', 'a', 'tennis', 'ball'], ['man', 'attempting', 'to', 'return', 'a', 'volley', 'during', 'a', 'tennis', 'game'], ['a', 'tennis', 'player', 'is', 'lunging', 'for', 'the', 'ball'], ['a', 'woman', 'hitting', 'a', 'tennis', 'ball', 'with', 'a', 'tennis', 'racquet'], ['a', 'woman', 'tennis', 'player', 'in', 'a', 'white', 'top', 'is', 'playing', 'tennis'], ['a', 'tennis', 'player', 'looks', 'at', 'a', 'tennis', 'ball', 'as', 'she', 'lifts', 'up', 'a', 'tennis', 'racket'], ['a', 'woman', 'is', 'reaching', 'to', 'strike', 'a', 'tennis', 'ball'], ['a', 'person', 'jumping', 'as', 'they', 'swing', 'at', 'a', 'incoming', 'tennis', 'ball'], ['a', 'woman', 'in', 'white', 'shirt', 'and', 'black', 'shorts', 'playing', 'tennis'], ['a', 'tennis', 'player', 'forcefully', 'hits', 'a', 'tennis', 'ball'], ['a', 'person', 'wearing', 'black', 'shorts', 'is', 'playing', 'indoor', 'tennis'], ['a', 'woman', 'swinging', 'a', 'tennis', 'racquet', 'on', 'a', 'tennis', 'court'], ['a', 'computer', 'desk', 'with', 'a', 'green', 'mat', 'sitting', 'on', 'top', 'of', 'it'], ['a', 'desk', 'with', 'some', 'blue', 'prints', 'an', 'envelope', 'and', 'a', 'coffee', 'mug'], ['a', 'desk', 'with', 'various', 'office', 'supplies', 'adjacent', 'to', 'a', 'window'], ['a', 'large', 'desk', 'by', 'a', 'window', 'is', 'neatly', 'arranged'], ['a', 'desk', 'area', 'with', 'a', 'window', 'view', 'with', 'mugs', 'tablets', 'and', 'books'], ['two', 'people', 'are', 'at', 'a', 'computer', 'desk', 'with', 'a', 'mouse'], ['a', 'man', 'sitting', 'at', 'a', 'table', 'using', 'a', 'laptop', 'computer'], ['a', 'woman', 'is', 'typing', 'on', 'a', 'laptop', 'on', 'a', 'wooden', 'table'], ['a', 'woman', 'types', 'on', 'a', 'laptop', 'while', 'someone', 'else', 'operates', 'the', 'mouse'], ['two', 'arms', 'typing', 'on', 'a', 'laptop', 'and', 'one', 'hand', 'on', 'a', 'mouse'], ['a', 'counter', 'with', 'extension', 'cords', 'a', 'toaster', 'oven', 'and', 'a', 'laptop'], ['a', 'kitchen', 'has', 'wires', 'hanging', 'down', 'from', 'a', 'computer'], ['an', 'image', 'of', 'a', 'kitchen', 'setting', 'with', 'various', 'cords', 'hanging'], ['many', 'wires', 'hang', 'over', 'the', 'edge', 'of', 'a', 'counter', 'with', 'electronics', 'on', 'it'], ['a', 'counter', 'with', 'a', 'toaster', 'over', 'and', 'an', 'open', 'laptop', 'sitting', 'on', 'it'], ['a', 'group', 'of', 'men', 'in', 'suits', 'sitting', 'at', 'a', 'table', 'using', 'laptop', 'computers'], ['a', 'group', 'of', 'men', 'sitting', 'by', 'tables', 'working', 'on', 'laptops'], ['business', 'people', 'sit', 'at', 'their', 'desks', 'and', 'use', 'devices'], ['a', 'group', 'of', 'men', 'sitting', 'at', 'a', 'desk', 'with', 'lap', 'top', 'computers'], ['two', 'men', 'gesture', 'hands', 'next', 'to', 'laptops', 'one', 'man', 'uses', 'a', 'phone'], ['a', 'little', 'girl', 'eating', 'food', 'while', 'sitting', 'down'], ['a', 'close', 'up', 'of', 'a', 'little', 'girl', 'eating', 'a', 'sandwich'], ['a', 'girl', 'eagerly', 'bites', 'into', 'a', 'hot', 'dog', 'bun'], ['a', 'young', 'girl', 'biting', 'into', 'a', 'hot', 'dog'], ['a', 'girl', 'is', 'taking', 'a', 'bite', 'out', 'of', 'a', 'sandwich'], ['a', 'women', 'that', 'is', 'walking', 'down', 'a', 'sidwalk'], ['young', 'woman', 'walking', 'down', 'the', 'sidewalk', 'with', 'cell', 'phone'], ['the', 'woman', 'in', 'high', 'heels', 'is', 'looking', 'at', 'her', 'phone'], ['a', 'woman', 'walking', 'down', 'the', 'street', 'looking', 'at', 'her', 'phone'], ['a', 'woman', 'walking', 'down', 'the', 'sidewalk', 'with', 'a', 'cell', 'phone', 'in', 'her', 'hand'], ['a', 'baby', 'girl', 'sitting', 'in', 'a', 'chair', 'holding', 'a', 'white', 'teddy', 'bear'], ['a', 'small', 'child', 'is', 'holding', 'a', 'stuffed', 'bear'], ['a', 'little', 'girl', 'is', 'sitting', 'in', 'a', 'red', 'and', 'white', 'striped', 'chair', 'playing', 'with', 'a', 'teddy', 'bear'], ['a', 'little', 'girl', 'sits', 'on', 'a', 'striped', 'chair', 'holding', 'a', 'white', 'teddy', 'bear'], ['a', 'small', 'girl', 'sitting', 'on', 'a', 'chair', 'holding', 'a', 'white', 'bear'], ['a', 'clock', 'sitting', 'in', 'the', 'middle', 'of', 'the', 'city', 'in', 'front', 'of', 'a', 'building'], ['clockpost', 'on', 'the', 'sidewalk', 'in', 'front', 'of', 'a', 'travel', 'agency'], ['a', 'clock', 'on', 'a', 'pole', 'on', 'a', 'city', 'street'], ['there', 'is', 'a', 'clock', 'in', 'front', 'of', 'the', 'store'], ['a', 'clock', 'that', 'is', 'on', 'top', 'of', 'a', 'tower', 'in', 'front', 'of', 'a', 'building'], ['two', 'men', 'standing', 'on', 'a', 'very', 'tall', 'clock', 'tower', 'with', 'a', 'white', 'clock', 'and', 'two', 'thermometers'], ['two', 'cowboys', 'statues', 'are', 'at', 'the', 'top', 'of', 'a', 'tower'], ['tower', 'clock', 'designed', 'with', 'two', 'western', 'shooters', 'for', 'entertainment', 'display'], ['a', 'clock', 'with', 'two', 'gunman', 'from', 'the', 'old', 'west'], ['a', 'clock', 'tower', 'with', 'two', 'statues', 'of', 'cowboys', 'on', 'it'], ['a', 'table', 'with', 'a', 'huge', 'glass', 'vase', 'and', 'fake', 'flowers', 'come', 'out', 'of', 'it'], ['a', 'plant', 'in', 'a', 'vase', 'sits', 'at', 'the', 'end', 'of', 'a', 'table'], ['a', 'vase', 'with', 'flowers', 'in', 'it', 'with', 'long', 'stems', 'sitting', 'on', 'a', 'table', 'with', 'candles'], ['flowers', 'in', 'a', 'clear', 'vase', 'sitting', 'on', 'a', 'table'], ['a', 'large', 'centerpiece', 'that', 'is', 'sitting', 'on', 'the', 'edge', 'of', 'a', 'dining', 'table'], ['a', 'group', 'of', 'people', 'sitting', 'at', 'a', 'long', 'table', 'having', 'food', 'and', 'drinks'], ['a', 'group', 'of', 'people', 'are', 'posing', 'for', 'a', 'photograph', 'at', 'a', 'table'], ['a', 'group', 'of', 'people', 'are', 'sitting', 'at', 'a', 'table', 'with', 'drinks'], ['a', 'group', 'of', 'people', 'who', 'are', 'sitting', 'around', 'a', 'table'], ['a', 'group', 'of', 'people', 'sitting', 'around', 'a', 'table'], ['a', 'woman', 'bathing', 'a', 'baby', 'near', 'a', 'kitchen', 'sink'], ['a', 'woman', 'wearing', 'a', 'stripped', 'shirts', 'bathes', 'a', 'baby', 'in', 'the', 'kitchen'], ['a', 'young', 'mother', 'bathing', 'a', 'newborn', 'on', 'the', 'kitchen', 'counter'], ['washing', 'a', 'baby', 'in', 'a', 'purpose', 'made', 'basin', 'on', 'a', 'kitchen', 'countertop'], ['a', 'woman', 'bathing', 'a', 'small', 'baby', 'in', 'a', 'kitchen'], ['a', 'kitchen', 'with', 'white', 'counter', 'tops', 'and', 'cabinets'], ['an', 'inside', 'view', 'of', 'a', 'kitchen', 'is', 'seen'], ['a', 'kitchen', 'counter', 'with', 'ceiling', 'lights', 'and', 'a', 'sink'], ['a', 'small', 'kitchen', 'adjacent', 'to', 'a', 'living', 'room', 'and', 'dining', 'area'], ['lime', 'green', 'walls', 'in', 'a', 'clean', 'home', 'kitchen'], ['a', 'man', 'in', 'white', 'shirt', 'on', 'bicycle', 'with', 'a', 'dog', 'riding', 'in', 'the', 'back'], ['a', 'man', 'on', 'a', 'bicycle', 'with', 'a', 'dog', 'sitting', 'in', 'the', 'back', 'of', 'the', 'bike'], ['an', 'old', 'photo', 'of', 'a', 'person', 'on', 'a', 'bike', 'in', 'a', 'parking', 'lot'], ['a', 'man', 'and', 'his', 'dog', 'riding', 'on', 'a', 'bike'], ['there', 'is', 'a', 'man', 'riding', 'a', 'bike', 'with', 'a', 'dog', 'on', 'the', 'back'], ['a', 'bathroom', 'with', 'a', 'white', 'bath', 'tub', 'under', 'a', 'window'], ['a', 'white', 'tub', 'a', 'toilet', 'a', 'mirror', 'and', 'a', 'sink'], ['a', 'bathtub', 'sink', 'and', 'toilet', 'are', 'shown', 'in', 'a', 'bathroom'], ['a', 'bathroom', 'over', 'looking', 'a', 'city', 'with', 'a', 'nice', 'view'], ['a', 'bathroom', 'that', 'has', 'some', 'words', 'on', 'the', 'floor'], ['a', 'person', 'holding', 'a', 'toothbrush', 'under', 'the', 'running', 'water', 'of', 'a', 'faucet'], ['a', 'toothbrush', 'being', 'held', 'under', 'a', 'water', 'facet'], ['a', 'person', 'holds', 'their', 'toothbrush', 'under', 'a', 'running', 'sink'], ['a', 'toothbrush', 'is', 'being', 'held', 'under', 'running', 'water'], ['person', 'holding', 'a', 'toothbrush', 'under', 'a', 'faucet', 'with', 'running', 'water'], ['a', 'yellow', 'book', 'bus', 'driving', 'down', 'a', 'street'], ['the', 'big', 'book', 'bus', 'is', 'blue', 'and', 'yellow'], ['a', 'blue', 'and', 'yellow', 'book', 'bus', 'is', 'parked', 'on', 'the', 'street'], ['the', 'bus', 'is', 'parked', 'and', 'ready', 'to', 'pick', 'up', 'more', 'people'], ['there', 'is', 'a', 'blue', 'and', 'yellow', 'bus', 'stopped', 'with', 'the', 'words', 'book', 'bus', 'on', 'it'], ['a', 'beautiful', 'woman', 'with', 'red', 'hair', 'sitting', 'at', 'a', 'table'], ['a', 'woman', 'sitting', 'at', 'a', 'table', 'with', 'a', 'clean', 'plate'], ['a', 'woman', 'at', 'a', 'restaurant', 'sits', 'in', 'front', 'of', 'a', 'finished', 'plate'], ['a', 'picture', 'of', 'a', 'woman', 'that', 'has', 'just', 'finished', 'a', 'desert'], ['a', 'person', 'presses', 'her', 'hands', 'to', 'her', 'face', 'above', 'an', 'empty', 'bowl'], ['a', 'small', 'white', 'bird', 'standing', 'on', 'top', 'of', 'a', 'pond', 'of', 'water'], ['a', 'bird', 'is', 'standing', 'on', 'a', 'shallow', 'body', 'of', 'water'], ['the', 'black', 'and', 'white', 'bird', 'stands', 'in', 'shallow', 'water'], ['a', 'black', 'and', 'white', 'bird', 'that', 'is', 'standing', 'in', 'the', 'water'], ['a', 'black', 'and', 'white', 'bird', 'stands', 'in', 'the', 'water'], ['a', 'very', 'dirty', 'looking', 'rest', 'room', 'with', 'two', 'toilets'], ['a', 'couple', 'of', 'toilet', 'with', 'a', 'sink', 'and', 'green', 'walled', 'room'], ['a', 'couple', 'of', 'white', 'toilets', 'in', 'a', 'room'], ['two', 'toilets', 'next', 'to', 'each', 'other', 'in', 'a', 'bathroom', 'with', 'green', 'walls'], ['a', 'display', 'of', 'bathroom', 'fixtures', 'and', 'a', 'copper', 'holding', 'tank'], ['a', 'plate', 'with', 'chicken', 'carrots', 'and', 'mashed', 'potatoes', 'with', 'silverware'], ['there', 'is', 'a', 'plate', 'with', 'some', 'mashed', 'potatoes', 'and', 'carrots', 'on', 'it'], ['a', 'plate', 'of', 'food', 'on', 'a', 'place', 'mate', 'next', 'to', 'silverware', 'and', 'a', 'red', 'cup'], ['a', 'plate', 'of', 'baby', 'carrots', 'mashed', 'potatoes', 'and', 'tuna', 'set', 'on', 'a', 'table', 'with', 'a', 'cup', 'and', 'utensils'], ['a', 'plate', 'of', 'food', 'with', 'carrots', 'on', 'a', 'table'], ['a', 'fork', 'rests', 'on', 'a', 'plate', 'next', 'to', 'a', 'piece', 'of', 'cake'], ['a', 'piece', 'of', 'chocolate', 'cake', 'sits', 'on', 'a', 'plate', 'with', 'a', 'fork'], ['a', 'piece', 'of', 'chocolate', 'cake', 'and', 'a', 'fork', 'on', 'a', 'plate'], ['a', 'closeup', 'on', 'some', 'chocolate', 'cake', 'has', 'a', 'fork', 'by', 'it'], ['a', 'piece', 'of', 'dutch', 'chocolate', 'cake', 'with', 'a', 'fork', 'on', 'a', 'plate'], ['a', 'crystal', 'bowl', 'filled', 'with', 'oranges', 'on', 'top', 'of', 'a', 'table'], ['the', 'glass', 'bowl', 'is', 'filled', 'with', 'ripped', 'oranges'], ['clear', 'glass', 'bowl', 'full', 'of', 'bright', 'orange', 'oranges'], ['there', 'is', 'a', 'glass', 'bowl', 'with', 'oranges', 'in', 'it'], ['a', 'glass', 'bowl', 'full', 'of', 'tangerines', 'on', 'a', 'wooden', 'chest'], ['a', 'silver', 'motorcycle', 'parked', 'next', 'to', 'a', 'forest', 'filled', 'with', 'lots', 'of', 'trees'], ['a', 'grey', 'motorcycle', 'parked', 'in', 'a', 'tropical', 'setting'], ['a', 'motorcycle', 'sits', 'parked', 'in', 'palm', 'tree', 'lined', 'driveway'], ['there', 'is', 'a', 'motor', 'cycle', 'that', 'is', 'parked', 'next', 'to', 'many', 'plants'], ['a', 'motorcycle', 'on', 'a', 'dirt', 'road', 'near', 'palm', 'trees'], ['a', 'man', 'riding', 'on', 'the', 'back', 'of', 'a', 'motorcycle'], ['a', 'man', 'is', 'sitting', 'on', 'a', 'black', 'motorcylce'], ['a', 'man', 'sitting', 'on', 'a', 'motorcycle', 'in', 'a', 'yellow', 'riding', 'jacket'], ['a', 'man', 'sitting', 'on', 'a', 'motorcycle', 'on', 'a', 'sidewalk'], ['there', 'is', 'a', 'man', 'sitting', 'on', 'a', 'motor', 'cycle'], ['motorcycle', 'bikes', 'all', 'parked', 'next', 'to', 'each', 'other', 'lined', 'up', 'down', 'the', 'road'], ['tons', 'of', 'motorcycles', 'are', 'parked', 'close', 'to', 'each', 'other'], ['a', 'row', 'of', 'motorcycles', 'parked', 'next', 'to', 'each', 'other'], ['a', 'row', 'of', 'motorcycles', 'in', 'front', 'of', 'a', 'forest'], ['many', 'motorcycles', 'are', 'lined', 'up', 'next', 'to', 'each', 'other', 'with', 'several', 'people', 'standing', 'among', 'them', 'in', 'front', 'of', 'a', 'lot', 'of', 'trees'], ['a', 'large', 'jetliner', 'flying', 'through', 'a', 'cloudy', 'blue', 'sky'], ['a', 'airplane', 'that', 'is', 'flying', 'in', 'the', 'sky'], ['the', 'jet', 'airplane', 'flies', 'across', 'the', 'blue', 'sky'], ['a', 'red', 'and', 'white', 'plane', 'flying', 'under', 'a', 'blue', 'sky'], ['an', 'orange', 'red', 'and', 'grey', 'plane', 'flying', 'in', 'the', 'sky'], ['a', 'humongous', 'jumbo', 'jet', 'is', 'on', 'the', 'airport', 'runway'], ['an', 'airplane', 'sitting', 'on', 'an', 'asphalt', 'landing', 'strip'], ['an', 'airport', 'parked', 'on', 'an', 'airstrip', 'in', 'front', 'of', 'a', 'building'], ['a', 'lufthansa', 'jumbo', 'jet', 'at', 'some', 'airport', 'during', 'the', 'day'], ['the', 'plane', 'is', 'sitting', 'on', 'the', 'runway', 'at', 'the', 'airport'], ['a', 'small', 'plan', 'is', 'parked', 'half', 'on', 'a', 'cement', 'area', 'and', 'half', 'in', 'a', 'field', 'while', 'the', 'ground', 'is', 'wet'], ['an', 'old', 'plane', 'with', 'the', 'propeller', 'and', 'four', 'windows', 'sits', 'on', 'the', 'runway'], ['a', 'propeller', 'plane', 'that', 'is', 'on', 'the', 'runway'], ['a', 'small', 'airplane', 'in', 'an', 'airport', 'on', 'a', 'rainy', 'day'], ['a', 'old', 'aircraft', 'that', 'is', 'half', 'parked', 'on', 'the', 'tarmac'], ['an', 'airplane', 'parked', 'next', 'to', 'a', 'terminal', 'ready', 'for', 'passengers', 'to', 'board'], ['a', 'plane', 'on', 'the', 'tarmac', 'is', 'parked', 'at', 'a', 'gate'], ['a', 'large', 'white', 'plane', 'is', 'sitting', 'on', 'a', 'runway'], ['an', 'airplane', 'sitting', 'on', 'a', 'runwaybeing', 'loaded', 'up'], ['an', 'airplane', 'parked', 'at', 'a', 'airport', 'terminal', 'under', 'gray', 'skies'], ['a', 'airplane', 'flying', 'high', 'in', 'the', 'sky', 'next', 'to', 'a', 'set', 'of', 'white', 'smoke', 'lines'], ['a', 'plane', 'that', 'is', 'flying', 'in', 'the', 'sky'], ['a', 'big', 'jumbo', 'plane', 'flies', 'through', 'the', 'blue', 'sky'], ['a', 'jet', 'airplane', 'in', 'the', 'air', 'in', 'between', 'two', 'jet', 'streams'], ['a', 'commercial', 'jet', 'with', 'its', 'wheels', 'down', 'in', 'a', 'blue', 'sky'], ['a', 'cat', 'sitting', 'up', 'on', 'its', 'hind', 'feet', 'on', 'a', 'park', 'bench'], ['a', 'fat', 'black', 'cat', 'stands', 'on', 'his', 'hind', 'legs', 'on', 'a', 'park', 'bench'], ['a', 'black', 'cat', 'stands', 'up', 'on', 'its', 'hind', 'legs', 'on', 'a', 'bench'], ['a', 'cat', 'standing', 'up', 'on', 'a', 'wooden', 'bench'], ['a', 'black', 'cat', 'sitting', 'on', 'top', 'of', 'a', 'wooden', 'bench'], ['a', 'giraffe', 'stands', 'beneath', 'a', 'tree', 'beside', 'a', 'marina'], ['a', 'statue', 'of', 'a', 'giraffe', 'eating', 'at', 'a', 'marina'], ['a', 'giraffe', 'statue', 'next', 'to', 'some', 'docked', 'boats'], ['a', 'giraffe', 'is', 'standing', 'near', 'the', 'water', 'with', 'a', 'lot', 'of', 'sailboats', 'lined', 'up'], ['the', 'giraffe', 'is', 'standing', 'in', 'front', 'of', 'the', 'harbor'], ['a', 'foot', 'wearing', 'a', 'pointy', 'pink', 'flat', 'shoe', 'rested', 'upon', 'a', 'bench'], ['a', 'woman', 'showing', 'off', 'her', 'pink', 'pointy', 'toed', 'heels'], ['a', 'woman', 'wearing', 'blue', 'jeans', 'with', 'a', 'sexy', 'foot', 'in', 'a', 'pink', 'shoe'], ['a', 'photo', 'of', 'a', 'bright', 'pink', 'shoe', 'on', 'a', 'blue', 'and', 'green', 'background'], ['a', 'lady', 'wearing', 'a', 'pink', 'shoe', 'and', 'blue', 'jeans'], ['a', 'wild', 'animal', 'sitting', 'on', 'some', 'rocks', 'in', 'a', 'field'], ['a', 'sheep', 'lays', 'in', 'a', 'grassy', 'rocky', 'area'], ['a', 'sheep', 'is', 'lying', 'down', 'in', 'the', 'grass'], ['sheep', 'perched', 'atop', 'knoll', 'on', 'green', 'countryside', 'with', 'rocks'], ['a', 'sheep', 'sits', 'on', 'a', 'rocky', 'hilly', 'field'], ['a', 'giraffe', 'looking', 'for', 'food', 'between', 'large', 'rocks'], ['a', 'giraffe', 'rests', 'its', 'neck', 'on', 'a', 'bunch', 'of', 'rocks'], ['a', 'giraffe', 'laying', 'down', 'with', 'his', 'head', 'on', 'the', 'rocks'], ['a', 'giraffe', 'reaching', 'between', 'two', 'rocks', 'to', 'obtain', 'grass'], ['a', 'giraffe', 'reaching', 'its', 'head', 'above', 'some', 'rocks', 'to', 'a', 'grass', 'area'], ['a', 'double', 'decker', 'bus', 'driving', 'down', 'a', 'street', 'next', 'to', 'tall', 'buildings'], ['people', 'are', 'standing', 'next', 'to', 'a', 'car', 'parked', 'behind', 'a', 'bus'], ['an', 'orange', 'and', 'black', 'car', 'and', 'a', 'yellow', 'and', 'blue', 'bus', 'and', 'some', 'people'], ['men', 'standing', 'in', 'a', 'street', 'next', 'to', 'a', 'car', 'and', 'a', 'large', 'bus'], ['a', 'hyundai', 'vehicle', 'is', 'following', 'a', 'city', 'bus'], ['all', 'of', 'these', 'sheep', 'have', 'coats', 'that', 'are', 'ready', 'for', 'shearing'], ['some', 'sheep', 'standing', 'around', 'by', 'a', 'wooden', 'wall'], ['five', 'sheep', 'are', 'standing', 'and', 'sitting', 'in', 'their', 'enclosure'], ['one', 'sheep', 'lies', 'down', 'as', 'four', 'others', 'stand', 'near'], ['a', 'group', 'of', 'five', 'sheep', 'wait', 'outside', 'a', 'barn'], ['a', 'man', 'pushing', 'a', 'wheelchair', 'on', 'the', 'street'], ['bicycle', 'crossing', 'light', 'on', 'a', 'traffic', 'signal', 'near', 'a', 'park'], ['there', 'are', 'people', 'walking', 'near', 'a', 'traffic', 'light'], ['the', 'man', 'is', 'pushing', 'the', 'person', 'on', 'the', 'road', 'in', 'a', 'wheelchair'], ['the', 'traffic', 'light', 'indicates', 'bicycles', 'on', 'the', 'crosswalk'], ['a', 'traffic', 'light', 'hanging', 'over', 'a', 'street', 'next', 'to', 'cross', 'walks'], ['a', 'street', 'light', 'that', 'is', 'hanging', 'from', 'a', 'wire'], ['a', 'street', 'view', 'of', 'a', 'traffice', 'light', 'houses', 'and', 'vehicles'], ['this', 'american', 'city', 'street', 'has', 'one', 'way', 'traffic', 'only'], ['a', 'red', 'stoplight', 'at', 'an', 'urban', 'intersection', 'under', 'a', 'bright', 'blue', 'sky', 'with', 'puffy', 'clouds'], ['a', 'colorful', 'double', 'decker', 'bus', 'doing', 'down', 'the', 'road', 'beside', 'a', 'semi'], ['a', 'double', 'decker', 'bus', 'is', 'traveling', 'down', 'the', 'street'], ['a', 'double', 'decker', 'bus', 'on', 'a', 'street', 'in', 'england'], ['a', 'double', 'decked', 'bus', 'is', 'driving', 'along', 'the', 'highway'], ['a', 'double', 'decker', 'bus', 'is', 'traveling', 'down', 'the', 'road', 'on', 'an', 'empty', 'street'], ['a', 'picture', 'of', 'people', 'getting', 'off', 'of', 'a', 'white', 'bus'], ['couple', 'of', 'people', 'just', 'exited', 'the', 'bus', 'and', 'is', 'walking', 'through', 'parking', 'lot'], ['a', 'couple', 'people', 'getting', 'off', 'of', 'a', 'white', 'school', 'bus'], ['a', 'couple', 'and', 'child', 'exit', 'a', 'white', 'bus', 'onto', 'a', 'gravel', 'lot'], ['a', 'small', 'parking', 'lot', 'in', 'the', 'middle', 'of', 'a', 'forest', 'feild'], ['top', 'of', 'a', 'fire', 'hydrant', 'covered', 'in', 'pink', 'paint'], ['a', 'pink', 'piece', 'of', 'metal', 'with', 'a', 'bolt', 'and', 'nut', 'on', 'top'], ['a', 'very', 'close', 'up', 'view', 'of', 'an', 'old', 'bright', 'colored', 'fir', 'hydrant'], ['a', 'decaying', 'fire', 'hydrant', 'knob', 'with', 'worn', 'paint'], ['a', 'close', 'up', 'of', 'a', 'pink', 'fire', 'hydrant', 'on', 'a', 'city', 'street'], ['an', 'old', 'green', 'fire', 'hydrant', 'sits', 'on', 'a', 'grassy', 'curb'], ['flowers', 'hang', 'from', 'a', 'small', 'decorative', 'post', 'in', 'a', 'yard'], ['a', 'green', 'fire', 'hydrant', 'sitting', 'on', 'a', 'patch', 'of', 'grass'], ['a', 'green', 'fire', 'hydrant', 'on', 'at', 'a', 'cementery'], ['the', 'older', 'style', 'fire', 'hydrant', 'is', 'on', 'the', 'side', 'of', 'the', 'road'], ['a', 'flock', 'of', 'birds', 'floating', 'on', 'top', 'of', 'a', 'boat'], ['six', 'birds', 'are', 'perched', 'on', 'a', 'blue', 'row', 'boat', 'in', 'the', 'body', 'of', 'water'], ['a', 'boat', 'in', 'on', 'the', 'water', 'with', 'a', 'flock', 'of', 'birds', 'in', 'it'], ['birds', 'land', 'on', 'a', 'small', 'boat', 'sitting', 'in', 'the', 'water'], ['a', 'group', 'of', 'gulls', 'gather', 'on', 'an', 'empty', 'boat'], ['a', 'bird', 'sits', 'perched', 'on', 'the', 'edge', 'of', 'an', 'umbrella'], ['bird', 'sitting', 'on', 'the', 'edge', 'of', 'a', 'sun', 'umbrella'], ['a', 'bird', 'that', 'is', 'standing', 'on', 'an', 'umbrella'], ['a', 'close', 'up', 'of', 'a', 'small', 'bird', 'on', 'an', 'open', 'umbrella'], ['a', 'close', 'up', 'of', 'a', 'bird', 'on', 'the', 'edge', 'of', 'a', 'roof'], ['a', 'water', 'bird', 'stands', 'on', 'the', 'shore', 'as', 'the', 'tide', 'comes', 'in'], ['a', 'bird', 'walking', 'toward', 'the', 'water', 'at', 'the', 'ocean'], ['a', 'bird', 'standing', 'on', 'top', 'of', 'a', 'wet', 'beach'], ['a', 'pelican', 'standing', 'on', 'the', 'beach', 'in', 'front', 'of', 'the', 'waves'], ['a', 'little', 'bird', 'standing', 'on', 'the', 'shore', 'as', 'the', 'waves', 'come', 'in'], ['three', 'geese', 'eating', 'out', 'of', 'a', 'parking', 'lot', 'grassy', 'field'], ['ducks', 'are', 'walking', 'through', 'the', 'grass', 'near', 'a', 'parking', 'lot'], ['some', 'birds', 'grass', 'on', 'a', 'patch', 'of', 'grass'], ['three', 'geese', 'walk', 'along', 'a', 'median', 'in', 'a', 'parking', 'lot'], ['four', 'ducks', 'are', 'in', 'a', 'grassy', 'island', 'of', 'a', 'parking', 'lot', 'with', 'their', 'heads', 'down'], ['a', 'hard', 'to', 'miss', 'street', 'sign', 'set', 'between', 'two', 'traffic', 'lights'], ['the', 'sign', 'is', 'giving', 'the', 'directions', 'while', 'the', 'traffic', 'light', 'is', 'about', 'to', 'turn', 'red'], ['a', 'sign', 'at', 'a', 'traffic', 'light', 'that', 'says', 'us', '1', 'whitehead', 'st'], ['a', 'highway', 'sign', 'displayed', 'on', 'a', 'traffic', 'post'], ['a', 'street', 'sign', 'and', 'two', 'traffic', 'lights', 'hang', 'over', 'us', 'route', '1'], ['a', 'bird', 'looks', 'out', 'across', 'a', 'body', 'of', 'water'], ['a', 'bird', 'stands', 'on', 'a', 'dry', 'spot', 'where', 'it', 'is', 'surround', 'by', 'water'], ['a', 'beautiful', 'bird', 'stands', 'on', 'the', 'bank', 'of', 'a', 'river'], ['a', 'blue', 'sand', 'piper', 'standing', 'at', 'the', 'edge', 'of', 'the', 'water'], ['a', 'large', 'bird', 'standing', 'on', 'top', 'of', 'a', 'beach', 'next', 'to', 'water'], ['three', 'birds', 'are', 'looking', 'around', 'while', 'on', 'the', 'ground'], ['these', 'three', 'birds', 'are', 'walking', 'along', 'the', 'beach', 'looking', 'for', 'food'], ['sea', 'birds', 'walking', 'on', 'wet', 'sand', 'at', 'the', 'beach'], ['three', 'small', 'birds', 'standing', 'on', 'a', 'sandy', 'beach'], ['three', 'birds', 'stand', 'around', 'on', 'a', 'sandy', 'beach'], ['a', 'man', 'with', 'a', 'brown', 'bag', 'and', 'blue', 'jacket', 'stands', 'by', 'a', 'train', 'that', 'is', 'moving'], ['a', 'man', 'in', 'blue', 'jacket', 'standing', 'by', 'a', 'passing', 'train'], ['man', 'standing', 'on', 'platform', 'as', 'train', 'speeds', 'by'], ['a', 'man', 'standing', 'near', 'a', 'train', 'with', 'luggage'], ['a', 'woman', 'waiting', 'on', 'the', 'platform', 'for', 'a', 'train'], ['several', 'birds', 'with', 'black', 'and', 'yellow', 'feathers', 'sitting', 'on', 'some', 'branches'], ['a', 'few', 'birds', 'sitting', 'on', 'a', 'tree', 'with', 'no', 'leaves', 'and', 'the', 'sky', 'in', 'the', 'background'], ['a', 'group', 'of', 'four', 'birds', 'sitting', 'on', 'the', 'tree', 'branches'], ['four', 'birds', 'are', 'perched', 'in', 'leafless', 'tree', 'branches'], ['four', 'birds', 'sitting', 'in', 'tree', 'branches', 'with', 'no', 'leaves'], ['a', 'toucan', 'perches', 'behind', 'a', 'the', 'bars', 'of', 'a', 'cage'], ['a', 'big', 'bird', 'with', 'a', 'huge', 'beak', 'looks', 'out', 'of', 'its', 'cage'], ['a', 'black', 'and', 'yellow', 'bird', 'with', 'a', 'huge', 'colorful', 'beak', 'in', 'a', 'cage'], ['a', 'large', 'colorful', 'bird', 'standing', 'behind', 'a', 'wire', 'fence'], ['a', 'toucan', 'with', 'a', 'brightly', 'colored', 'beak', 'in', 'a', 'cage'], ['a', 'train', 'traveling', 'down', 'train', 'tracks', 'past', 'some', 'houses'], ['a', 'red', 'train', 'is', 'coming', 'down', 'the', 'tracks', 'in', 'a', 'rural', 'setting'], ['a', 'red', 'and', 'black', 'train', 'going', 'on', 'the', 'tracks'], ['a', 'train', 'coming', 'down', 'the', 'tracks', 'near', 'some', 'houses'], ['a', 'train', 'rounds', 'the', 'corner', 'as', 'it', 'comes', 'down', 'the', 'railroad', 'tracks'], ['a', 'parking', 'meter', 'next', 'to', 'a', 'parked', 'car'], ['a', 'parking', 'meter', 'sits', 'next', 'to', 'a', 'parked', 'car'], ['the', 'front', 'of', 'a', 'car', 'is', 'touching', 'the', 'parking', 'meter'], ['a', 'gray', 'double', 'parking', 'meter', 'and', 'a', 'black', 'car'], ['a', 'parking', 'meter', 'with', 'a', 'truck', 'parked', 'very', 'close'], ['a', 'group', 'of', 'cows', 'looking', 'at', 'camera', 'by', 'trees'], ['several', 'cows', 'with', 'tagged', 'ears', 'standing', 'in', 'a', 'grassy', 'field'], ['a', 'herd', 'of', 'cow', 'standing', 'around', 'a', 'field'], ['a', 'herd', 'of', 'cows', 'gathered', 'close', 'together', 'in', 'a', 'field'], ['a', 'close', 'up', 'of', 'a', 'cow', 'near', 'other', 'cows'], ['a', 'cat', 'drinking', 'out', 'of', 'a', 'glass', 'on', 'top', 'of', 'a', 'table'], ['a', 'cat', 'stands', 'on', 'a', 'table', 'drinking', 'water', 'out', 'of', 'a', 'glass'], ['a', 'cat', 'drinking', 'ice', 'water', 'out', 'of', 'a', 'glass'], ['a', 'grey', 'colored', 'cat', 'that', 'is', 'drinking', 'from', 'a', 'glass', 'of', 'water'], ['a', 'cat', 'is', 'drinking', 'something', 'from', 'a', 'glass'], ['there', 'is', 'a', 'cat', 'sitting', 'on', 'a', 'wooden', 'chair'], ['a', 'cat', 'is', 'sitting', 'on', 'the', 'wooden', 'chair'], ['a', 'small', 'cat', 'sitting', 'down', 'on', 'a', 'chair'], ['a', 'cat', 'is', 'sitting', 'on', 'a', 'chair', 'looking', 'up'], ['a', 'black', 'cat', 'playing', 'on', 'top', 'of', 'a', 'wooden', 'chair'], ['cat', 'sitting', 'on', 'wood', 'framed', 'mirror', 'looking', 'down', 'at', 'own', 'reflection'], ['a', 'gold', 'and', 'white', 'cat', 'looking', 'at', 'their', 'reflection', 'in', 'a', 'mirror'], ['a', 'cat', 'sitting', 'down', 'and', 'looking', 'at', 'itself', 'in', 'the', 'mirror'], ['a', 'curious', 'cat', 'staring', 'at', 'himself', 'in', 'the', 'mirror'], ['the', 'cats', 'looks', 'at', 'its', 'reflection', 'while', 'sitting', 'on', 'a', 'mirror'], ['a', 'multi', 'colored', 'cat', 'standing', 'over', 'a', 'white', 'laptop'], ['a', 'cat', 'standing', 'on', 'a', 'desk', 'looking', 'at', 'a', 'laptop'], ['a', 'cat', 'standing', 'near', 'an', 'open', 'laptop', 'on', 'a', 'desk'], ['a', 'cat', 'looking', 'at', 'a', 'computer', 'monitor', 'on', 'a', 'table'], ['cat', 'standing', 'on', 'papers', 'looking', 'at', 'a', 'laptop', 'computer'], ['one', 'light', 'brown', 'cow', 'with', 'hay', 'in', 'its', 'mouth'], ['a', 'cow', 'that', 'is', 'standing', 'in', 'the', 'grass'], ['cow', 'tethered', 'with', 'chain', 'eating', 'hay', 'in', 'outdoor', 'field'], ['a', 'brown', 'cow', 'standing', 'on', 'top', 'of', 'a', 'grass', 'covered', 'field'], ['a', 'cow', 'tied', 'to', 'a', 'rope', 'is', 'eating', 'hay'], ['a', 'man', 'in', 'a', 'suit', 'stands', 'in', 'front', 'of', 'a', 'bus'], ['a', 'man', 'standing', 'in', 'front', 'of', 'a', 'bus', 'on', 'a', 'country', 'road'], ['the', 'man', 'is', 'standing', 'in', 'front', 'of', 'a', 'bus'], ['a', 'man', 'in', 'a', 'suit', 'poses', 'in', 'front', 'of', 'a', 'bus', 'in', 'a', 'rural', 'setting'], ['a', 'man', 'standing', 'in', 'front', 'of', 'a', 'tour', 'bus', 'in', 'a', 'rural', 'area'], ['people', 'are', 'sitting', 'at', 'the', 'beach', 'surrounded', 'by', 'tiki', 'umbrellas'], ['many', 'umbrellas', 'on', 'a', 'beach', 'near', 'a', 'body', 'of', 'water'], ['a', 'lot', 'of', 'people', 'that', 'are', 'at', 'the', 'beach'], ['many', 'tikis', 'and', 'umbrellas', 'with', 'chairs', 'set', 'up', 'on', 'the', 'sandy', 'shore', 'of', 'a', 'beach'], ['many', 'tropical', 'shade', 'coverings', 'on', 'a', 'sandy', 'beach'], ['two', 'men', 'being', 'drug', 'on', 'buggies', 'by', 'dogs'], ['men', 'on', 'bikes', 'are', 'getting', 'pulled', 'by', 'a', 'group', 'of', 'dogs'], ['men', 'race', 'on', 'wheeled', 'vehicles', 'towed', 'by', 'a', 'group', 'of', 'husky', 'dogs'], ['the', 'man', 'is', 'riding', 'a', 'bike', 'led', 'by', 'several', 'dogs'], ['men', 'race', 'bicycles', 'on', 'grass', 'pulled', 'by', 'sleigh', 'dogs'], ['the', 'people', 'are', 'at', 'tables', 'on', 'an', 'outdoor', 'patio'], ['an', 'outdoor', 'patio', 'in', 'front', 'of', 'a', 'large', 'brick', 'building'], ['a', 'patio', 'full', 'of', 'people', 'in', 'front', 'of', 'a', 'reddish', 'building'], ['an', 'outside', 'cafe', 'setting', 'with', 'tables', 'chairs', 'umbrellas', 'and', 'trees', 'for', 'shading'], ['a', 'table', 'and', 'chairs', 'with', 'a', 'umbrella', 'near', 'some', 'people'], ['oddly', 'dressed', 'people', 'standing', 'by', 'each', 'other', 'posing', 'towards', 'camera'], ['an', 'emo', 'hipster', 'with', 'large', 'breast', 'holding', 'open', 'her', 'leather', 'jacket'], ['two', 'people', 'dressing', 'black', 'stand', 'in', 'a', 'field'], ['two', 'people', 'dressed', 'in', 'black', 'one', 'with', 'a', 'green', 'mask'], ['a', 'man', 'in', 'a', 'mask', 'is', 'holding', 'an', 'umbrella'], ['a', 'white', 'cairn', 'terrier', 'pants', 'in', 'the', 'sun', 'whilst', 'dressed', 'in', 'a', 'neon', 'yellow', 'outfit'], ['a', 'little', 'white', 'dog', 'wearing', 'a', 'bright', 'yellow', 'vest'], ['a', 'west', 'highland', 'white', 'terrier', 'dressed', 'in', 'a', 'neon', 'yellow', 'vest', 'pants', 'in', 'the', 'sunshine'], ['there', 'is', 'no', 'image', 'here', 'to', 'provide', 'a', 'caption', 'for'], ['a', 'dog', 'sanding', 'on', 'top', 'of', 'a', 'pavement', 'while', 'wearing', 'a', 'safety', 'jacket'], ['a', 'crowd', 'of', 'people', 'standing', 'in', 'front', 'of', 'a', 'window'], ['people', 'in', 'a', 'building', 'near', 'a', 'wooden', 'platform'], ['a', 'group', 'of', 'people', 'standing', 'near', 'a', 'small', 'pool'], ['a', 'group', 'of', 'people', 'standing', 'around', 'a', 'large', 'indoor', 'pool'], ['indoor', 'court', 'of', 'wood', 'as', 'a', 'pen', 'for', 'people', 'to', 'view'], ['a', 'large', 'brown', 'dog', 'walking', 'in', 'front', 'of', 'a', 'woman', 'holding', 'two', 'ski', 'poles'], ['a', 'woman', 'skiing', 'with', 'a', 'dog', 'running', 'through', 'the', 'snow'], ['dog', 'running', 'through', 'the', 'snow', 'in', 'front', 'of', 'a', 'skier'], ['a', 'woman', 'cross', 'country', 'skiing', 'with', 'her', 'dog'], ['golden', 'dog', 'walking', 'in', 'snow', 'with', 'a', 'person', 'cross', 'country', 'skiing', 'in', 'the', 'background'], ['three', 'teddy', 'bears', 'laying', 'in', 'bed', 'under', 'the', 'covers'], ['a', 'group', 'of', 'stuffed', 'animals', 'sitting', 'next', 'to', 'each', 'other', 'in', 'bed'], ['a', 'white', 'beige', 'and', 'brown', 'baby', 'bear', 'under', 'a', 'beige', 'white', 'comforter'], ['a', 'trio', 'of', 'teddy', 'bears', 'bundled', 'up', 'on', 'a', 'bed'], ['three', 'stuffed', 'animals', 'lay', 'in', 'a', 'bed', 'cuddled', 'together'], ['a', 'young', 'man', 'jumping', 'over', 'a', 'group', 'of', 'other', 'young', 'people', 'to', 'catch', 'a', 'frisbee'], ['a', 'man', 'jumping', 'over', 'a', 'group', 'of', 'people', 'to', 'catch', 'a', 'frisbee'], ['a', 'man', 'jumping', 'over', 'people', 'to', 'catch', 'a', 'frisbee'], ['a', 'man', 'reaching', 'for', 'a', 'frisbee', 'while', 'jumping', 'over', 'a', 'group', 'of', 'people', 'lying', 'down'], ['man', 'leaping', 'over', 'a', 'group', 'of', 'people', 'reaching', 'for', 'a', 'white', 'frisbee'], ['a', 'group', 'of', 'three', 'zebras', 'standing', 'in', 'a', 'grassy', 'area'], ['three', 'zebra', 'stand', 'close', 'to', 'a', 'cluster', 'of', 'small', 'rocks'], ['a', 'couple', 'of', 'zebras', 'are', 'standing', 'in', 'a', 'field'], ['a', 'large', 'group', 'of', 'zebra', 'standing', 'in', 'a', 'field'], ['three', 'zebras', 'standing', 'on', 'a', 'grassy', 'hill', 'with', 'other', 'animals'], ['a', 'zebra', 'eating', 'some', 'grass', 'in', 'some', 'open', 'area'], ['a', 'zebra', 'grazing', 'on', 'grass', 'in', 'a', 'pasture'], ['a', 'zebra', 'grazing', 'on', 'some', 'rich', 'green', 'grass'], ['a', 'zebra', 'eats', 'short', 'grass', 'inside', 'its', 'enclosure'], ['a', 'zebra', 'grazing', 'on', 'grass', 'at', 'an', 'open', 'zoo'], ['two', 'horses', 'grazing', 'in', 'a', 'field', 'with', 'trees', 'in', 'the', 'background'], ['a', 'white', 'horse', 'standing', 'on', 'a', 'lush', 'green', 'field'], ['a', 'white', 'horse', 'grazing', 'in', 'the', 'grass'], ['a', 'gray', 'horse', 'grazing', 'in', 'a', 'field', 'on', 'a', 'sunny', 'day'], ['a', 'close', 'up', 'shot', 'of', 'a', 'horse', 'grazing', 'in', 'a', 'small', 'field'], ['a', 'man', 'secures', 'a', 'saddle', 'on', 'a', 'horse', 'that', 'a', 'girl', 'is', 'sitting', 'on'], ['a', 'little', 'girl', 'on', 'top', 'of', 'horse', 'next', 'to', 'a', 'cowboy'], ['a', 'man', 'standing', 'next', 'to', 'a', 'little', 'girl', 'riding', 'a', 'horse'], ['a', 'little', 'girl', 'sitting', 'on', 'a', 'big', 'horse'], ['a', 'small', 'girl', 'in', 'a', 'helmet', 'sits', 'atop', 'a', 'horse', 'while', 'a', 'man', 'is', 'checking', 'fo', 'make', 'sure', 'shes', 'safe'], ['a', 'brown', 'horse', 'pulling', 'a', 'carriage', 'down', 'a', 'street'], ['a', 'sturdy', 'looking', 'horse', 'is', 'hooked', 'up', 'to', 'a', 'carriage'], ['a', 'large', 'horse', 'fitted', 'to', 'a', 'fancy', 'open', 'top', 'carriage'], ['a', 'horse', 'pulling', 'a', 'carriage', 'stands', 'in', 'the', 'street', 'next', 'to', 'a', 'well'], ['a', 'close', 'up', 'a', 'horse', 'standing', 'with', 'a', 'carriage', 'on', 'a', 'road'], ['a', 'blue', 'plate', 'with', 'an', 'orange', 'a', 'cracker', 'some', 'lettuce', 'and', 'a', 'twist', 'bar'], ['an', 'orange', 'is', 'placed', 'on', 'a', 'plate', 'with', 'a', 'cracker'], ['a', 'dish', 'contains', 'an', 'orange', 'and', 'various', 'snacks'], ['a', 'bowl', 'filled', 'with', 'fruit', 'crackers', 'and', 'greens'], ['an', 'orange', 'chocolate', 'cracker', 'and', 'piece', 'of', 'lettuce', 'on', 'a', 'plate'], ['a', 'group', 'of', 'people', 'outside', 'on', 'snow', 'skis'], ['three', 'friends', 'are', 'getting', 'ready', 'to', 'ski', 'on', 'a', 'warm', 'sunny', 'day'], ['three', 'people', 'standing', 'near', 'one', 'another', 'wearing', 'skis'], ['there', 'are', 'several', 'people', 'gathered', 'here', 'talking', 'together'], ['three', 'people', 'in', 'the', 'heavy', 'snow', 'on', 'skis'], ['two', 'baseball', 'players', 'are', 'trying', 'to', 'catch', 'a', 'ball'], ['two', 'men', 'playing', 'a', 'game', 'of', 'baseball', 'on', 'a', 'field'], ['baseball', 'players', 'in', 'the', 'air', 'with', 'the', 'ball', 'coming', 'towards', 'them'], ['vintage', 'black', 'and', 'white', 'baseball', 'picture', 'of', 'man', 'sliding', 'into', 'third', 'base', 'as', 'a', 'thrown', 'ball', 'goes', 'over', 'the', 'defenders', 'glove'], ['two', 'ball', 'players', 'are', 'leaping', 'in', 'the', 'air'], ['two', 'girls', 'sitting', 'on', 'a', 'bed', 'eating', 'bananas', 'together'], ['a', 'woman', 'and', 'a', 'child', 'enjoy', 'bananas', 'together'], ['a', 'mother', 'and', 'daughter', 'eating', 'a', 'banana', 'together'], ['a', 'woman', 'and', 'young', 'child', 'eating', 'bananas', 'together'], ['a', 'woman', 'and', 'a', 'young', 'girl', 'sit', 'on', 'a', 'bed', 'eating', 'bananas'], ['a', 'lunch', 'salad', 'in', 'a', 'yellow', 'bowl', 'made', 'out', 'of', 'fruit', 'vegetables', 'and', 'meats', 'with', 'chopsticks'], ['a', 'small', 'bowl', 'filled', 'with', 'food', 'such', 'as', 'veggies', 'and', 'rice'], ['a', 'bowl', 'holding', 'a', 'variety', 'of', 'foods', 'and', 'a', 'set', 'of', 'chopsticks'], ['the', 'food', 'is', 'on', 'the', 'table', 'and', 'ready', 'to', 'eat'], ['a', 'plate', 'full', 'of', 'vegetables', 'sitting', 'on', 'the', 'table'], ['a', 'group', 'of', 'people', 'picking', 'out', 'bananas', 'from', 'carts'], ['a', 'yellow', 'tent', 'is', 'covering', 'people', 'who', 'are', 'selling', 'bananas'], ['a', 'couple', 'of', 'women', 'buying', 'bananas', 'at', 'a', 'stand'], ['a', 'banana', 'bunch', 'for', 'sale', 'and', 'people', 'looking'], ['a', 'group', 'of', 'women', 'standing', 'inside', 'of', 'a', 'farmers', 'market'], ['a', 'person', 'in', 'a', 'white', 'jacket', 'skiing', 'down', 'a', 'slope'], ['a', 'person', 'riding', 'skis', 'down', 'a', 'snow', 'covered', 'ski', 'slope'], ['person', 'in', 'white', 'ski', 'jacket', 'coming', 'down', 'snow', 'filled', 'mountain'], ['a', 'woman', 'dressed', 'in', 'black', 'and', 'white', 'gear', 'skiing', 'down', 'a', 'slope'], ['someone', 'skiing', 'down', 'a', 'ski', 'slope', 'with', 'ski', 'poles', 'in', 'the', 'hands'], ['a', 'group', 'of', 'people', 'riding', 'down', 'a', 'snow', 'covered', 'ski', 'slope'], ['people', 'holding', 'a', 'skating', 'pole', 'on', 'the', 'snow'], ['a', 'group', 'of', 'skiers', 'wearing', 'black', 'and', 'red', 'on', 'a', 'mountain'], ['four', 'skiers', 'go', 'down', 'a', 'steep', 'slope', 'together'], ['four', 'people', 'skiing', 'on', 'their', 'skis', 'at', 'the', 'ski', 'slope'], ['a', 'woman', 'riding', 'skis', 'next', 'to', 'a', 'brown', 'dog', 'standing', 'on', 'its', 'hind', 'legs'], ['a', 'woman', 'on', 'skis', 'leans', 'toward', 'a', 'dog', 'standing', 'on', 'hind', 'legs'], ['a', 'women', 'on', 'skis', 'leaning', 'over', 'to', 'a', 'dog'], ['there', 'is', 'a', 'woman', 'on', 'skis', 'next', 'to', 'a', 'dog'], ['person', 'on', 'skis', 'and', 'snow', 'looking', 'at', 'dog', 'on', 'two', 'legs'], ['i', 'am', 'unable', 'to', 'see', 'an', 'image', 'above'], ['a', 'group', 'of', 'skiers', 'in', 'the', 'snow', 'in', 'a', 'competition'], ['a', 'time', 'lapse', 'photo', 'of', 'a', 'skier', 'skiing', 'down', 'a', 'hill'], ['a', 'group', 'of', 'men', 'on', 'skis', 'in', 'a', 'race'], ['a', 'group', 'of', 'skiers', 'glide', 'along', 'the', 'snow']]\n"
     ]
    }
   ],
   "source": [
    "N = 1000\n",
    "text = []\n",
    "\n",
    "with open(\"coco_val.txt\") as myfile:\n",
    "    for index in range(N):\n",
    "        line = next(myfile)\n",
    "        text.append(line.split())\n",
    "        \n",
    "print(text)\n",
    "        \n",
    "# vocab, M = word_count(text)\n"
   ]
  },
  {
   "cell_type": "markdown",
   "metadata": {},
   "source": [
    "### Exercise 4.3.2\n",
    "\n",
    "Scikit learn has a couple of classes which are useful for creating various versions of document-word matrices:\n",
    "\n",
    "- `sklearn.feature_extraction.text.CountVectorizer`\n",
    "- `sklearn.feature_extraction.text.TfidfVectorizer`\n",
    "\n",
    "Read the documentation of these classes and try to apply them on the [coco_val.txt](coco_val.txt) data. Compute similarities/distances using these a few versions of these document-word matrices and check how they compare to using plain word-counts as we have been doing so far. "
   ]
  },
  {
   "cell_type": "code",
   "execution_count": null,
   "metadata": {
    "collapsed": true
   },
   "outputs": [],
   "source": []
  }
 ],
 "metadata": {
  "kernelspec": {
   "display_name": "Python 3",
   "language": "python",
   "name": "python3"
  },
  "language_info": {
   "codemirror_mode": {
    "name": "ipython",
    "version": 3
   },
   "file_extension": ".py",
   "mimetype": "text/x-python",
   "name": "python",
   "nbconvert_exporter": "python",
   "pygments_lexer": "ipython3",
   "version": "3.5.3"
  },
  "name": "_merged"
 },
 "nbformat": 4,
 "nbformat_minor": 1
}
