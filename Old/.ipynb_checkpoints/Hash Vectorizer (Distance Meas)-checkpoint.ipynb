{
 "cells": [
  {
   "cell_type": "code",
   "execution_count": 1,
   "metadata": {},
   "outputs": [],
   "source": [
    "import numpy\n",
    "import scipy\n",
    "import scipy.sparse\n",
    "import sklearn\n",
    "import sklearn.metrics.pairwise\n",
    "from sklearn import datasets\n",
    "from sklearn.metrics.pairwise import pairwise_distances\n",
    "from sklearn.feature_extraction.text import HashingVectorizer\n"
   ]
  },
  {
   "cell_type": "code",
   "execution_count": 3,
   "metadata": {},
   "outputs": [],
   "source": [
    "dataSet = numpy.load(\"descriptions_cleaned_array.npy\")\n",
    "#dataSet = dataSet[0:3]\n",
    "#print(dataSet)"
   ]
  },
  {
   "cell_type": "markdown",
   "metadata": {},
   "source": [
    "# Hash Vectorizer"
   ]
  },
  {
   "cell_type": "markdown",
   "metadata": {},
   "source": [
    "## Default number of features\n",
    "Using the Hash vectorizer function which only looks at word counts\n",
    "Can limit the number of features - will go back to that but start with default"
   ]
  },
  {
   "cell_type": "code",
   "execution_count": 17,
   "metadata": {},
   "outputs": [
    {
     "name": "stdout",
     "output_type": "stream",
     "text": [
      "(1479, 1048576) 46993 \n",
      "\n"
     ]
    }
   ],
   "source": [
    "hashVector = HashingVectorizer()\n",
    "Hash_dataSet = hashVector.transform(dataSet)\n",
    "print(Hash_dataSet.shape, Hash_dataSet.size,\"\\n\")\n",
    "#print(Hash_dataSet,\"\\n\")"
   ]
  },
  {
   "cell_type": "markdown",
   "metadata": {},
   "source": [
    "### Cosine Similarity"
   ]
  },
  {
   "cell_type": "code",
   "execution_count": 18,
   "metadata": {},
   "outputs": [
    {
     "name": "stdout",
     "output_type": "stream",
     "text": [
      "[[1.         0.19720266 0.08175191 ... 0.23314715 0.12942072 0.31934404]\n",
      " [0.19720266 1.         0.16927779 ... 0.27586342 0.11136921 0.22327675]\n",
      " [0.08175191 0.16927779 1.         ... 0.29110162 0.11109411 0.12460152]\n",
      " ...\n",
      " [0.23314715 0.27586342 0.29110162 ... 1.         0.25136748 0.29720128]\n",
      " [0.12942072 0.11136921 0.11109411 ... 0.25136748 1.         0.39451112]\n",
      " [0.31934404 0.22327675 0.12460152 ... 0.29720128 0.39451112 1.        ]] \n",
      "\n",
      "[[ 465  327  317 ... 1191  495    0]\n",
      " [ 879  985  465 ...  268  932    1]\n",
      " [ 334  398  640 ...  208 1132    2]\n",
      " ...\n",
      " [1251  183  350 ...  795 1170 1476]\n",
      " [1010  640  993 ... 1063  894 1477]\n",
      " [ 208  914 1305 ...  546  279 1478]] \n",
      "\n",
      "[[ 606 1315 1120 1191  495]\n",
      " [1241  401  555  268  932]\n",
      " [ 181 1173 1050  208 1132]\n",
      " ...\n",
      " [ 818 1435 1371  795 1170]\n",
      " [ 178 1094  966 1063  894]\n",
      " [ 163  602  499  546  279]]\n"
     ]
    }
   ],
   "source": [
    "cossim = sklearn.metrics.pairwise.cosine_similarity(Hash_dataSet)\n",
    "print(cossim,\"\\n\")\n",
    "cosineSimilaritySorted = numpy.argsort(cossim, axis=1)\n",
    "print(cosineSimilaritySorted,\"\\n\")\n",
    "top5Similar = cosineSimilaritySorted[:,-6:-1]\n",
    "print(top5Similar)\n",
    "\n"
   ]
  },
  {
   "cell_type": "markdown",
   "metadata": {},
   "source": [
    "This provides the same output as the Count Vectorizer cosine similarity, so may have to change the feature number to see if that does anything."
   ]
  },
  {
   "cell_type": "code",
   "execution_count": 13,
   "metadata": {},
   "outputs": [
    {
     "ename": "IndexError",
     "evalue": "index 932 is out of bounds for axis 0 with size 3",
     "output_type": "error",
     "traceback": [
      "\u001b[1;31m---------------------------------------------------------------------------\u001b[0m",
      "\u001b[1;31mIndexError\u001b[0m                                Traceback (most recent call last)",
      "\u001b[1;32m<ipython-input-13-59a2523e8819>\u001b[0m in \u001b[0;36m<module>\u001b[1;34m()\u001b[0m\n\u001b[1;32m----> 1\u001b[1;33m \u001b[0mprint\u001b[0m\u001b[1;33m(\u001b[0m\u001b[0mdataSet\u001b[0m\u001b[1;33m[\u001b[0m\u001b[1;36m932\u001b[0m\u001b[1;33m]\u001b[0m\u001b[1;33m)\u001b[0m\u001b[1;33m\u001b[0m\u001b[0m\n\u001b[0m\u001b[0;32m      2\u001b[0m \u001b[0mprint\u001b[0m\u001b[1;33m(\u001b[0m\u001b[0mdataSet\u001b[0m\u001b[1;33m[\u001b[0m\u001b[1;36m268\u001b[0m\u001b[1;33m]\u001b[0m\u001b[1;33m)\u001b[0m\u001b[1;33m\u001b[0m\u001b[0m\n",
      "\u001b[1;31mIndexError\u001b[0m: index 932 is out of bounds for axis 0 with size 3"
     ]
    }
   ],
   "source": [
    "print(dataSet[932])\n",
    "print(dataSet[268])"
   ]
  },
  {
   "cell_type": "markdown",
   "metadata": {},
   "source": [
    "### Euclidean Distance"
   ]
  },
  {
   "cell_type": "code",
   "execution_count": 19,
   "metadata": {},
   "outputs": [
    {
     "name": "stdout",
     "output_type": "stream",
     "text": [
      "[[ 495 1191 1120 1315  606]\n",
      " [ 932  268  555  401 1241]\n",
      " [1132  208 1050 1173  181]\n",
      " ...\n",
      " [1170  795 1371 1435  818]\n",
      " [ 894 1063  966 1094  178]\n",
      " [ 279  546  499  602  163]]\n"
     ]
    }
   ],
   "source": [
    "euclid = pairwise_distances(Hash_dataSet, metric='euclidean')\n",
    "euclidSorted = numpy.argsort(euclid, axis=1)\n",
    "top5Similar = euclidSorted[:,1:6]\n",
    "print(top5Similar)\n"
   ]
  },
  {
   "cell_type": "code",
   "execution_count": 77,
   "metadata": {},
   "outputs": [
    {
     "name": "stdout",
     "output_type": "stream",
     "text": [
      "white woman with brown hair and eyes and clear even skin upper middle class probably a democrat and a feminist\n",
      "white female early 20 s with blond hair and green eyes direct personality straight forward attitude confident and honest\n"
     ]
    }
   ],
   "source": [
    "print(dataSet[1241])\n",
    "print(dataSet[1365])"
   ]
  },
  {
   "cell_type": "markdown",
   "metadata": {},
   "source": [
    "### Manhattan distance\n",
    "\n",
    "This took too long to run and unlikely to produce better results"
   ]
  },
  {
   "cell_type": "code",
   "execution_count": null,
   "metadata": {},
   "outputs": [],
   "source": [
    "manhat = pairwise_distances(Hash_dataSet, metric='manhattan')\n",
    "\n",
    "manhatSorted = numpy.argsort(manhat, axis=1)\n",
    "top5Similar = manhatSorted[:,1:6]\n",
    "print(top5Similar)\n"
   ]
  },
  {
   "cell_type": "code",
   "execution_count": 82,
   "metadata": {
    "scrolled": false
   },
   "outputs": [
    {
     "name": "stdout",
     "output_type": "stream",
     "text": [
      "this person is 5 2 weighs 180 pounds her shoe size is 6 5 she enjoys reading biking and going to movies she is not married and has three cats that she calls her furbabies she is a teacher so she is very busy\n",
      "she is fair complected with light freckles she has beautiful large blue eyes and full pink lips she is shy she enjoys reading she is intelligent she is compassionate\n"
     ]
    }
   ],
   "source": [
    "print(dataSet[894])\n",
    "print(dataSet[1094])"
   ]
  },
  {
   "cell_type": "markdown",
   "metadata": {},
   "source": [
    "## Hash Vectorizer - Limit to 1000 features"
   ]
  },
  {
   "cell_type": "code",
   "execution_count": 4,
   "metadata": {},
   "outputs": [
    {
     "name": "stdout",
     "output_type": "stream",
     "text": [
      "(1479, 1000) 46376 \n",
      "\n"
     ]
    }
   ],
   "source": [
    "hashVector = HashingVectorizer(n_features=1000)\n",
    "Hash_dataSet = hashVector.transform(dataSet)\n",
    "print(Hash_dataSet.shape, Hash_dataSet.size,\"\\n\")\n",
    "#print(Hash_dataSet,\"\\n\")"
   ]
  },
  {
   "cell_type": "markdown",
   "metadata": {},
   "source": [
    "### Cosine Similarity"
   ]
  },
  {
   "cell_type": "code",
   "execution_count": 5,
   "metadata": {},
   "outputs": [
    {
     "name": "stdout",
     "output_type": "stream",
     "text": [
      "[[1.         0.23816526 0.08035434 ... 0.22481776 0.12942072 0.31934404]\n",
      " [0.23816526 1.         0.17861771 ... 0.34073314 0.13076645 0.27426491]\n",
      " [0.08035434 0.17861771 1.         ... 0.27590308 0.11912174 0.12247143]\n",
      " ...\n",
      " [0.22481776 0.34073314 0.27590308 ... 1.         0.24238715 0.2865835 ]\n",
      " [0.12942072 0.13076645 0.11912174 ... 0.24238715 1.         0.39451112]\n",
      " [0.31934404 0.27426491 0.12247143 ... 0.2865835  0.39451112 1.        ]] \n",
      "\n",
      "[[ 350  327  465 ... 1191  495    0]\n",
      " [1108 1010  839 ...  401  932    1]\n",
      " [ 640  183  176 ...  208 1132    2]\n",
      " ...\n",
      " [ 183  669  350 ... 1170  795 1476]\n",
      " [ 768  712 1407 ...  894 1063 1477]\n",
      " [ 208 1010   21 ...  279  546 1478]] \n",
      "\n",
      "[[1120 1084  606 1191  495]\n",
      " [  71 1241  268  401  932]\n",
      " [1270  181 1050  208 1132]\n",
      " ...\n",
      " [ 401 1049  815 1170  795]\n",
      " [ 430  927  966  894 1063]\n",
      " [ 163  602  499  279  546]]\n"
     ]
    }
   ],
   "source": [
    "cossim = sklearn.metrics.pairwise.cosine_similarity(Hash_dataSet)\n",
    "print(cossim,\"\\n\")\n",
    "cosineSimilaritySorted = numpy.argsort(cossim, axis=1)\n",
    "print(cosineSimilaritySorted,\"\\n\")\n",
    "top5Similar = cosineSimilaritySorted[:,-6:-1]\n",
    "print(top5Similar)\n",
    "\n"
   ]
  },
  {
   "cell_type": "markdown",
   "metadata": {},
   "source": [
    "Now somewhat different values than the Count vectorizer but some still the same"
   ]
  },
  {
   "cell_type": "code",
   "execution_count": 11,
   "metadata": {},
   "outputs": [
    {
     "name": "stdout",
     "output_type": "stream",
     "text": [
      "this man is about 5 feet 10 inches tall he is of medium build and looks slightly athletic his skin is very pale as he stays out of the sun he has moderately hairy arms and freckles on his arms and hands he trims his nails regularly his legs are long and he walks swiftly wherever he goes this man deals with some slight anger issues he is very competitive and likes to play softball and football at the moment he is not in a relationship and he is often too busy to maintain relationships his job requires him to travel a lot he enjoys sports bars\n",
      "he has shaggy short straight red hair he has very light but bushy eyebrows and a long narrow face he has full lips and a thin mustache as well as a bit of scruff on his chin his ears are small and close to his head he nose is long and wide he s intense and hard working he has is curious about the world and likes to spend time with his friends and family he goes out and enjoys drinking and going to concerts\n"
     ]
    }
   ],
   "source": [
    "#print(dataSet[163])\n",
    "#print(dataSet[602])\n",
    "#print(dataSet[499])\n",
    "#print(dataSet[279])\n",
    "#print(dataSet[546])\n",
    "##good set except for 499\n",
    "\n",
    "print(dataSet[815])\n",
    "print(dataSet[1170])"
   ]
  },
  {
   "cell_type": "markdown",
   "metadata": {},
   "source": [
    "### Euclidean Distance"
   ]
  },
  {
   "cell_type": "code",
   "execution_count": 12,
   "metadata": {},
   "outputs": [
    {
     "name": "stdout",
     "output_type": "stream",
     "text": [
      "[[ 495 1191  606 1084 1120]\n",
      " [ 932  401  268 1241   71]\n",
      " [1132  208 1050  181 1270]\n",
      " ...\n",
      " [ 795 1170  815 1049  401]\n",
      " [1063  894  966  927  430]\n",
      " [ 546  279  499  602  163]]\n"
     ]
    }
   ],
   "source": [
    "euclid = pairwise_distances(Hash_dataSet, metric='euclidean')\n",
    "euclidSorted = numpy.argsort(euclid, axis=1)\n",
    "top5Similar = euclidSorted[:,1:6]\n",
    "print(top5Similar)\n"
   ]
  },
  {
   "cell_type": "code",
   "execution_count": 13,
   "metadata": {},
   "outputs": [
    {
     "name": "stdout",
     "output_type": "stream",
     "text": [
      "he s got a short and newly growing in beard with a mustache he s got bushy eyebrows and short straight hair his eyes are bright and wide and his ears are very close to his head his nose is long and thin he seems fun loving and kind of laid back he doesn t get too worked up over things and likes to keep his life simple and easy going\n",
      "caucasian male with blonde hair and blue eyes has a beard and a mustache he looks geeky kind of grumpy and maybe into technology\n"
     ]
    }
   ],
   "source": [
    "print(dataSet[401])\n",
    "print(dataSet[268])"
   ]
  },
  {
   "cell_type": "markdown",
   "metadata": {},
   "source": [
    "Gives a similar output to the cosine similairty output"
   ]
  },
  {
   "cell_type": "markdown",
   "metadata": {},
   "source": [
    "### Manhattan distance\n",
    "\n",
    "Runs faster with less features"
   ]
  },
  {
   "cell_type": "code",
   "execution_count": 14,
   "metadata": {},
   "outputs": [
    {
     "name": "stdout",
     "output_type": "stream",
     "text": [
      "[[1453 1434  398  486  926]\n",
      " [1241  152  268  592  359]\n",
      " [1270  523  208  854  291]\n",
      " ...\n",
      " [1371  592  795  680   99]\n",
      " [ 927    3  894 1094 1075]\n",
      " [1143  279  546  398  984]]\n"
     ]
    }
   ],
   "source": [
    "manhat = pairwise_distances(Hash_dataSet, metric='manhattan')\n",
    "\n",
    "manhatSorted = numpy.argsort(manhat, axis=1)\n",
    "top5Similar = manhatSorted[:,1:6]\n",
    "print(top5Similar)\n"
   ]
  },
  {
   "cell_type": "code",
   "execution_count": 16,
   "metadata": {
    "scrolled": false
   },
   "outputs": [
    {
     "name": "stdout",
     "output_type": "stream",
     "text": [
      "this person is 5 2 weighs 180 pounds her shoe size is 6 5 she enjoys reading biking and going to movies she is not married and has three cats that she calls her furbabies she is a teacher so she is very busy\n",
      "she is fair complected with light freckles she has beautiful large blue eyes and full pink lips she is shy she enjoys reading she is intelligent she is compassionate\n"
     ]
    }
   ],
   "source": [
    "print(dataSet[894])\n",
    "print(dataSet[1094])"
   ]
  },
  {
   "cell_type": "code",
   "execution_count": null,
   "metadata": {},
   "outputs": [],
   "source": []
  }
 ],
 "metadata": {
  "kernelspec": {
   "display_name": "Python 3",
   "language": "python",
   "name": "python3"
  },
  "language_info": {
   "codemirror_mode": {
    "name": "ipython",
    "version": 3
   },
   "file_extension": ".py",
   "mimetype": "text/x-python",
   "name": "python",
   "nbconvert_exporter": "python",
   "pygments_lexer": "ipython3",
   "version": "3.6.5"
  }
 },
 "nbformat": 4,
 "nbformat_minor": 2
}
