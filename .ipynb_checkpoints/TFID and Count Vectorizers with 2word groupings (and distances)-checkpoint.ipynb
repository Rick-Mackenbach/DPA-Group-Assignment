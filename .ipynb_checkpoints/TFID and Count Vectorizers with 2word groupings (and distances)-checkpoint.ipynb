{
 "cells": [
  {
   "cell_type": "code",
   "execution_count": 1,
   "metadata": {},
   "outputs": [],
   "source": [
    "import numpy\n",
    "import scipy\n",
    "import scipy.sparse\n",
    "import sklearn\n",
    "import sklearn.metrics.pairwise\n",
    "from sklearn import datasets\n",
    "from sklearn.metrics.pairwise import pairwise_distances\n",
    "from sklearn.feature_extraction.text import TfidfVectorizer\n"
   ]
  },
  {
   "cell_type": "code",
   "execution_count": 2,
   "metadata": {},
   "outputs": [],
   "source": [
    "dataSet = numpy.load(\"descriptions_cleaned_array.npy\")\n",
    "#dataSet = dataSet[0:3]\n",
    "#print(dataSet)"
   ]
  },
  {
   "cell_type": "markdown",
   "metadata": {},
   "source": [
    "## Sets of two workds\n",
    "Use regex in the tokenizer field to set a token size of 2 words instead of looking at words one at a time. Each word is in 2 sets of phrases, ex/ eats chocolate cookies -> eats chocolate & chocolate cookies\n",
    "Idea is that phrases like brown eyes, blond hair will be looked at together and brown hair and brown eyes won't get matched because they both have brown in the sentences"
   ]
  },
  {
   "cell_type": "code",
   "execution_count": 3,
   "metadata": {},
   "outputs": [],
   "source": [
    "token = r\"(?=\\b([a-zA-Z]{2,40} [a-zA-Z]{2,40}))\"\n",
    "#((\\b[a-zA-Z]{2,40}\\b)\\s*){2}"
   ]
  },
  {
   "cell_type": "markdown",
   "metadata": {},
   "source": [
    "## Count vectorizer - 2 words"
   ]
  },
  {
   "cell_type": "code",
   "execution_count": 25,
   "metadata": {
    "scrolled": true
   },
   "outputs": [
    {
     "name": "stdout",
     "output_type": "stream",
     "text": [
      "(1479, 23629) 51126 \n",
      "\n"
     ]
    }
   ],
   "source": [
    "countVect = sklearn.feature_extraction.text.CountVectorizer(token_pattern = token)\n",
    "Count_dataSet = countVect.fit_transform(dataSet)\n",
    "#vectorVocab = vectorizer._validate_vocabulary()\n",
    "#print(countVect.get_feature_names(),\"\\n\")\n",
    "print(Count_dataSet.shape, Count_dataSet.size,\"\\n\")\n",
    "#print(Count_dataSet)"
   ]
  },
  {
   "cell_type": "markdown",
   "metadata": {},
   "source": [
    "## Cosine similarity distance - CntVect"
   ]
  },
  {
   "cell_type": "code",
   "execution_count": 26,
   "metadata": {},
   "outputs": [
    {
     "name": "stdout",
     "output_type": "stream",
     "text": [
      "[[ 292 1029  696 1046 1350]\n",
      " [ 505  548  723  592  555]\n",
      " [1132 1385 1416  753 1432]\n",
      " ...\n",
      " [  56 1261 1371  446  205]\n",
      " [ 200  831 1012 1063 1094]\n",
      " [ 571  503  696  494 1287]]\n"
     ]
    }
   ],
   "source": [
    "cossim = sklearn.metrics.pairwise.cosine_similarity(Count_dataSet)\n",
    "#print(cossim,,\"\\n\")\n",
    "cosineSimilaritySorted = numpy.argsort(cossim, axis=1)\n",
    "#print(cosineSimilaritySorted,,\"\\n\")\n",
    "top5Similar = cosineSimilaritySorted[:,-6:-1]\n",
    "print(top5Similar)\n",
    "\n"
   ]
  },
  {
   "cell_type": "markdown",
   "metadata": {},
   "source": [
    "Notes:"
   ]
  },
  {
   "cell_type": "code",
   "execution_count": 31,
   "metadata": {},
   "outputs": [
    {
     "name": "stdout",
     "output_type": "stream",
     "text": [
      "she has fair skin with some freckles she has dark blue eyes she has bright red hair and eyebrows she may be a bit overweight she seems like she is educated but a bit sad she probably doesn t have very many friends but likely has pets she is probably close with her mother \n",
      "\n",
      "she is young in her middle twenties she has blue eyes her complexion is a little flawed she has some pimples she has very straight and thin brown hair she has thick eyebrows she has medium sized lips she is plain she is about average in looks she is just starting out in life she does not seem very ambitious she seems like she might be a little trusting and naive she is a follower she does not seem very forceful she seems like she will have a lower class job\n"
     ]
    }
   ],
   "source": [
    "print(dataSet[831],\"\\n\")\n",
    "print(dataSet[1063])"
   ]
  },
  {
   "cell_type": "markdown",
   "metadata": {},
   "source": [
    "## Euclidean distance - CntVect"
   ]
  },
  {
   "cell_type": "code",
   "execution_count": 32,
   "metadata": {},
   "outputs": [
    {
     "name": "stdout",
     "output_type": "stream",
     "text": [
      "[[1350  892 1343  584  780]\n",
      " [ 892 1343  780  611 1338]\n",
      " [ 892  780  611 1343 1125]\n",
      " ...\n",
      " [  56 1371 1358  194  459]\n",
      " [1012  611 1094  980  536]\n",
      " [ 809  892  387  584  611]]\n"
     ]
    }
   ],
   "source": [
    "euclid = pairwise_distances(Count_dataSet, metric='euclidean')\n",
    "euclidSorted = numpy.argsort(euclid, axis=1)\n",
    "top5Similar = euclidSorted[:,1:6]\n",
    "print(top5Similar)\n"
   ]
  },
  {
   "cell_type": "code",
   "execution_count": 34,
   "metadata": {},
   "outputs": [
    {
     "name": "stdout",
     "output_type": "stream",
     "text": [
      "she looks like about 5 9 with a normal bmi i guess that she is probably a graduate student currently and works part time \n",
      "\n",
      "this woman is probably around 5 8 and is a bit above average weight she has a big family not easily swayed generally happy in life \n",
      "\n"
     ]
    }
   ],
   "source": [
    "print(dataSet[611],\"\\n\")\n",
    "print(dataSet[387],\"\\n\")"
   ]
  },
  {
   "cell_type": "markdown",
   "metadata": {},
   "source": [
    "## Manhattan distance - CntVect\n",
    "--very slow to run and unlikely to be better"
   ]
  },
  {
   "cell_type": "code",
   "execution_count": null,
   "metadata": {},
   "outputs": [],
   "source": [
    "manhat = pairwise_distances(Count_dataSet, metric='manhattan')\n",
    "\n",
    "manhatSorted = numpy.argsort(manhat, axis=1)\n",
    "top5Similar = manhatSorted[:,1:6]\n",
    "print(top5Similar)\n"
   ]
  },
  {
   "cell_type": "code",
   "execution_count": 82,
   "metadata": {},
   "outputs": [
    {
     "name": "stdout",
     "output_type": "stream",
     "text": [
      "this person is 5 2 weighs 180 pounds her shoe size is 6 5 she enjoys reading biking and going to movies she is not married and has three cats that she calls her furbabies she is a teacher so she is very busy\n",
      "she is fair complected with light freckles she has beautiful large blue eyes and full pink lips she is shy she enjoys reading she is intelligent she is compassionate\n"
     ]
    }
   ],
   "source": [
    "print(dataSet[894])\n",
    "print(dataSet[1094])"
   ]
  },
  {
   "cell_type": "markdown",
   "metadata": {},
   "source": [
    "# TFID Vectorizer - 2-words"
   ]
  },
  {
   "cell_type": "code",
   "execution_count": 4,
   "metadata": {},
   "outputs": [],
   "source": [
    "vectorizer = TfidfVectorizer(token_pattern = token)\n",
    "TfIdf_dataSet = vectorizer.fit_transform(dataSet)\n",
    "#vectorVocab = vectorizer._validate_vocabulary()\n",
    "\n",
    "#print(countVect.get_feature_names(),\"\\n\")\n",
    "print(Count_dataSet.shape, Count_dataSet.size,\"\\n\")\n",
    "#print(TfIdf_dataSet,\"\\n\")\n",
    "\n"
   ]
  },
  {
   "cell_type": "markdown",
   "metadata": {},
   "source": [
    "## Cosine similarity distance - TfIdf"
   ]
  },
  {
   "cell_type": "code",
   "execution_count": 5,
   "metadata": {},
   "outputs": [
    {
     "name": "stdout",
     "output_type": "stream",
     "text": [
      "[[1029 1046 1224   65 1350]\n",
      " [ 505  548  723  592  555]\n",
      " [ 753 1132 1385 1416 1432]\n",
      " ...\n",
      " [ 129 1261  446 1371  205]\n",
      " [ 980 1148  966 1012 1094]\n",
      " [ 437  571   53  503 1287]]\n"
     ]
    }
   ],
   "source": [
    "cossim = sklearn.metrics.pairwise.cosine_similarity(TfIdf_dataSet)\n",
    "#print(cossim,,\"\\n\")\n",
    "cosineSimilaritySorted = numpy.argsort(cossim, axis=1)\n",
    "#print(cosineSimilaritySorted,,\"\\n\")\n",
    "top5Similar = cosineSimilaritySorted[:,-6:-1]\n",
    "print(top5Similar)\n",
    "\n"
   ]
  },
  {
   "cell_type": "markdown",
   "metadata": {},
   "source": [
    "Notes:"
   ]
  },
  {
   "cell_type": "code",
   "execution_count": 8,
   "metadata": {},
   "outputs": [
    {
     "name": "stdout",
     "output_type": "stream",
     "text": [
      "it is a blond man with blue eyes he has a small mustache and goatee he has some gel styling his hair he has blond eyebrows and facial hair his skin is fair he looks like he went to college he looks like he grew up in at least a middle class family he looks employed \n",
      "\n",
      "this person is 5 feet 9 inches tall he probably weighs no more than 180 he probably has an athletic build and is physically fit this person look a little lazy all in all he is probably a good person but it looks like he is immature it looks like he can be disorganized and can be unmotivated at times\n"
     ]
    }
   ],
   "source": [
    "print(dataSet[1385],\"\\n\")\n",
    "print(dataSet[1416])"
   ]
  },
  {
   "cell_type": "markdown",
   "metadata": {},
   "source": [
    "## Euclidean distance - TfIdf"
   ]
  },
  {
   "cell_type": "code",
   "execution_count": 9,
   "metadata": {},
   "outputs": [
    {
     "name": "stdout",
     "output_type": "stream",
     "text": [
      "[[1350   65 1224 1046 1029]\n",
      " [ 555  592  723  548  505]\n",
      " [1432 1416 1385 1132  753]\n",
      " ...\n",
      " [ 205 1371  446 1261  129]\n",
      " [1094 1012  966 1148  980]\n",
      " [1287  503   53  571  437]]\n"
     ]
    }
   ],
   "source": [
    "euclid = pairwise_distances(TfIdf_dataSet, metric='euclidean')\n",
    "euclidSorted = numpy.argsort(euclid, axis=1)\n",
    "top5Similar = euclidSorted[:,1:6]\n",
    "print(top5Similar)\n"
   ]
  },
  {
   "cell_type": "code",
   "execution_count": 11,
   "metadata": {},
   "outputs": [
    {
     "name": "stdout",
     "output_type": "stream",
     "text": [
      "this man is average weight and a little shorter than average he has black hair and brown eyes he has a beard coming in so he s kind of scruffy he doesn t like his job he is single and no kids he still lives at home sometimes he steals from places \n",
      "\n",
      "he is middle eastern he has black hair and brown eyes he keeps himself pretty clean shaven he has very thick eye brows he has medium length hair he has a big nose he is also pretty tall he likes to spend time with his family he loves his job as a doctor he is married with 2 kids he likes to travel his main hobby is photography he is very outgoing and approachable\n"
     ]
    }
   ],
   "source": [
    "print(dataSet[129],\"\\n\")\n",
    "print(dataSet[205])"
   ]
  },
  {
   "cell_type": "markdown",
   "metadata": {},
   "source": [
    "## Manhattan distance - TfIdf\n",
    "too slow to run"
   ]
  },
  {
   "cell_type": "code",
   "execution_count": 80,
   "metadata": {},
   "outputs": [
    {
     "name": "stdout",
     "output_type": "stream",
     "text": [
      "[[1453 1434  584 1331 1350]\n",
      " [ 222 1365 1241 1338  268]\n",
      " [ 208 1125  291   56  592]\n",
      " ...\n",
      " [1371   56  680  592  626]\n",
      " [ 894    3 1094  927  739]\n",
      " [ 404 1143 1206  540  984]]\n"
     ]
    }
   ],
   "source": [
    "manhat = pairwise_distances(TfIdf_dataSet, metric='manhattan')\n",
    "\n",
    "manhatSorted = numpy.argsort(manhat, axis=1)\n",
    "top5Similar = manhatSorted[:,1:6]\n",
    "print(top5Similar)\n"
   ]
  },
  {
   "cell_type": "code",
   "execution_count": 82,
   "metadata": {},
   "outputs": [
    {
     "name": "stdout",
     "output_type": "stream",
     "text": [
      "this person is 5 2 weighs 180 pounds her shoe size is 6 5 she enjoys reading biking and going to movies she is not married and has three cats that she calls her furbabies she is a teacher so she is very busy\n",
      "she is fair complected with light freckles she has beautiful large blue eyes and full pink lips she is shy she enjoys reading she is intelligent she is compassionate\n"
     ]
    }
   ],
   "source": [
    "print(dataSet[894])\n",
    "print(dataSet[1094])"
   ]
  }
 ],
 "metadata": {
  "kernelspec": {
   "display_name": "Python 3",
   "language": "python",
   "name": "python3"
  },
  "language_info": {
   "codemirror_mode": {
    "name": "ipython",
    "version": 3
   },
   "file_extension": ".py",
   "mimetype": "text/x-python",
   "name": "python",
   "nbconvert_exporter": "python",
   "pygments_lexer": "ipython3",
   "version": "3.6.5"
  }
 },
 "nbformat": 4,
 "nbformat_minor": 2
}
