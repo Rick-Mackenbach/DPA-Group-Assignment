{
 "cells": [
  {
   "cell_type": "code",
   "execution_count": 2,
   "metadata": {},
   "outputs": [],
   "source": [
    "import numpy\n",
    "import scipy\n",
    "import scipy.sparse\n",
    "import sklearn\n",
    "import sklearn.metrics.pairwise\n",
    "from sklearn import datasets\n",
    "from sklearn.metrics.pairwise import pairwise_distances\n",
    "from sklearn.feature_extraction.text import TfidfVectorizer\n"
   ]
  },
  {
   "cell_type": "code",
   "execution_count": 3,
   "metadata": {},
   "outputs": [],
   "source": [
    "dataSet = numpy.load(\"descriptions_cleaned_array.npy\")\n",
    "#dataSet = dataSet[0:3]\n",
    "#print(dataSet)"
   ]
  },
  {
   "cell_type": "markdown",
   "metadata": {},
   "source": [
    "# Count Vectorizer\n",
    "Using the Count vectorizer function which only looks at word counts"
   ]
  },
  {
   "cell_type": "code",
   "execution_count": 4,
   "metadata": {},
   "outputs": [],
   "source": [
    "countVect = sklearn.feature_extraction.text.CountVectorizer()\n",
    "Count_dataSet = countVect.fit_transform(dataSet)\n",
    "#vectorVocab = vectorizer._validate_vocabulary()\n",
    "#print(Count_dataSet.shape, Count_dataSet.size,numpy.size(Count_dataSet, axis=0),numpy.size(Count_dataSet, axis=1),,\"\\n\")\n",
    "#print(vectorizer.get_feature_names(),\"\\n\")\n",
    "#print(Count_dataSet.shape, Count_dataSet.size,,\"\\n\")\n",
    "#print(Count_dataSet)"
   ]
  },
  {
   "cell_type": "markdown",
   "metadata": {},
   "source": [
    "## Cosine Similarity\n",
    "Here using the cosine similarity distance measure on the Count Vectorizer matrix"
   ]
  },
  {
   "cell_type": "code",
   "execution_count": 5,
   "metadata": {},
   "outputs": [
    {
     "name": "stdout",
     "output_type": "stream",
     "text": [
      "[[ 606 1315 1120 1191  495]\n",
      " [1241  401  555  268  932]\n",
      " [ 181 1173 1050  208 1132]\n",
      " ...\n",
      " [ 818 1435 1371  795 1170]\n",
      " [ 178 1094  966 1063  894]\n",
      " [ 163  602  499  546  279]]\n"
     ]
    }
   ],
   "source": [
    "cossim = sklearn.metrics.pairwise.cosine_similarity(Count_dataSet)\n",
    "#print(cossim,,\"\\n\")\n",
    "cosineSimilaritySorted = numpy.argsort(cossim, axis=1)\n",
    "#print(cosineSimilaritySorted,,\"\\n\")\n",
    "top5Similar = cosineSimilaritySorted[:,-6:-1]\n",
    "print(top5Similar)\n",
    "\n"
   ]
  },
  {
   "cell_type": "markdown",
   "metadata": {},
   "source": [
    "Manual comparison shows it doesn't work great, some words are similar but then the descriptions are clearly blond hair vs black hair --> Perhaps we can try looking at sets of two words at a time"
   ]
  },
  {
   "cell_type": "code",
   "execution_count": 74,
   "metadata": {},
   "outputs": [
    {
     "name": "stdout",
     "output_type": "stream",
     "text": [
      "black hair blue eyes and no facial hair average height and athletic build enjoys sports and skate boarding is currently in college and is outgoing person is friendly and willing to help others out\n",
      "caucasian male with blonde hair and blue eyes has a beard and a mustache he looks geeky kind of grumpy and maybe into technology\n"
     ]
    }
   ],
   "source": [
    "print(dataSet[932])\n",
    "print(dataSet[268])"
   ]
  },
  {
   "cell_type": "markdown",
   "metadata": {},
   "source": [
    "## Euclidean Distance\n",
    "Also look at Euclidean distance which shows similar problems as cosine similiarity"
   ]
  },
  {
   "cell_type": "code",
   "execution_count": 6,
   "metadata": {},
   "outputs": [
    {
     "name": "stdout",
     "output_type": "stream",
     "text": [
      "[[1350 1191  584  226 1272]\n",
      " [1241 1365 1338  222  268]\n",
      " [ 208 1125 1123   56 1326]\n",
      " ...\n",
      " [1371   56  680  581  592]\n",
      " [ 894 1094   68  178  104]\n",
      " [ 499 1143  540  279  943]]\n"
     ]
    }
   ],
   "source": [
    "euclid = pairwise_distances(Count_dataSet, metric='euclidean')\n",
    "euclidSorted = numpy.argsort(euclid, axis=1)\n",
    "top5Similar = euclidSorted[:,1:6]\n",
    "print(top5Similar)\n"
   ]
  },
  {
   "cell_type": "code",
   "execution_count": 77,
   "metadata": {},
   "outputs": [
    {
     "name": "stdout",
     "output_type": "stream",
     "text": [
      "white woman with brown hair and eyes and clear even skin upper middle class probably a democrat and a feminist\n",
      "white female early 20 s with blond hair and green eyes direct personality straight forward attitude confident and honest\n"
     ]
    }
   ],
   "source": [
    "print(dataSet[1241])\n",
    "print(dataSet[1365])"
   ]
  },
  {
   "cell_type": "markdown",
   "metadata": {},
   "source": [
    "## Manhattan distance"
   ]
  },
  {
   "cell_type": "code",
   "execution_count": 7,
   "metadata": {},
   "outputs": [
    {
     "name": "stdout",
     "output_type": "stream",
     "text": [
      "[[1453 1434  584 1331 1350]\n",
      " [ 222 1365 1241 1338  268]\n",
      " [ 208 1125  291   56  592]\n",
      " ...\n",
      " [1371   56  680  592  626]\n",
      " [ 894    3 1094  927  739]\n",
      " [ 404 1143 1206  540  984]]\n"
     ]
    }
   ],
   "source": [
    "manhat = pairwise_distances(Count_dataSet, metric='manhattan')\n",
    "\n",
    "manhatSorted = numpy.argsort(manhat, axis=1)\n",
    "top5Similar = manhatSorted[:,1:6]\n",
    "print(top5Similar)\n"
   ]
  },
  {
   "cell_type": "code",
   "execution_count": 82,
   "metadata": {},
   "outputs": [
    {
     "name": "stdout",
     "output_type": "stream",
     "text": [
      "this person is 5 2 weighs 180 pounds her shoe size is 6 5 she enjoys reading biking and going to movies she is not married and has three cats that she calls her furbabies she is a teacher so she is very busy\n",
      "she is fair complected with light freckles she has beautiful large blue eyes and full pink lips she is shy she enjoys reading she is intelligent she is compassionate\n"
     ]
    }
   ],
   "source": [
    "print(dataSet[894])\n",
    "print(dataSet[1094])"
   ]
  },
  {
   "cell_type": "markdown",
   "metadata": {},
   "source": [
    "Was going to try the other distance functions on the TFID vector, but since they didn't seem to improve the count vector, then didn't bother; But now instead going to try TFID and Count Vector with 2 word items and all distance measures"
   ]
  }
 ],
 "metadata": {
  "kernelspec": {
   "display_name": "Python 3",
   "language": "python",
   "name": "python3"
  },
  "language_info": {
   "codemirror_mode": {
    "name": "ipython",
    "version": 3
   },
   "file_extension": ".py",
   "mimetype": "text/x-python",
   "name": "python",
   "nbconvert_exporter": "python",
   "pygments_lexer": "ipython3",
   "version": "3.6.5"
  }
 },
 "nbformat": 4,
 "nbformat_minor": 2
}
